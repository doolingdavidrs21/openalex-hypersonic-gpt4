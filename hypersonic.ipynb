{
 "cells": [
  {
   "cell_type": "markdown",
   "id": "b25248bf-86ce-4382-a776-1e223b16d1f3",
   "metadata": {},
   "source": [
    "Follow along the example here: https://github.com/doolingdavidrs21/openalex-jamming-gpt4/blob/main/jamming2d.ipynb"
   ]
  },
  {
   "cell_type": "code",
   "execution_count": 1,
   "id": "fbd3add6-b933-4cf1-899d-39c56c460086",
   "metadata": {},
   "outputs": [
    {
     "name": "stderr",
     "output_type": "stream",
     "text": [
      "2023-10-13 15:22:43.881995: I tensorflow/core/platform/cpu_feature_guard.cc:182] This TensorFlow binary is optimized to use available CPU instructions in performance-critical operations.\n",
      "To enable the following instructions: AVX2 FMA, in other operations, rebuild TensorFlow with the appropriate compiler flags.\n",
      "2023-10-13 15:22:45.116003: W tensorflow/compiler/tf2tensorrt/utils/py_utils.cc:38] TF-TRT Warning: Could not find TensorRT\n"
     ]
    }
   ],
   "source": [
    "from pyalex import (\n",
    "    Works, Authors, Sources,\n",
    "    Institutions, Concepts, Publishers, Funders\n",
    ")\n",
    "import pyalex\n",
    "import pandas as pd\n",
    "import numpy as np\n",
    "pyalex.config.email = \"david@rs21.io\"\n",
    "\n",
    "from flair.embeddings import DocumentPoolEmbeddings\n",
    "from flair.data import Sentence\n",
    "from flair.embeddings import SentenceTransformerDocumentEmbeddings\n",
    "\n",
    "EMBEDDING_MODEL_1 = \"all-mpnet-base-v2\" \n",
    "\n",
    "# this one is also good: all-MiniLM-L6-v2\n",
    "EMBEDDING_MODEL_2 = \"all-MiniLM-L6-v2\"\n",
    "SENT_EMBEDDINGS_1 = SentenceTransformerDocumentEmbeddings(EMBEDDING_MODEL_1)\n",
    "SENT_EMBEDDINGS_2 = SentenceTransformerDocumentEmbeddings(EMBEDDING_MODEL_2)\n",
    "DOC_EMBEDDINGS= DocumentPoolEmbeddings([SENT_EMBEDDINGS_2])\n",
    "\n",
    "import torch\n",
    "from tqdm import tqdm\n",
    "import yake\n",
    "import umap.umap_ as umap\n",
    "from sklearn import metrics\n",
    "import matplotlib.pyplot as plt\n",
    "from sklearn.mixture import GaussianMixture as GMM\n",
    "import altair as alt\n",
    "import math\n",
    "import plotly.express as px\n",
    "import textwrap"
   ]
  },
  {
   "cell_type": "code",
   "execution_count": 2,
   "id": "c68d92fb-fa48-4f7a-b192-ff4ebcecb463",
   "metadata": {},
   "outputs": [
    {
     "name": "stdout",
     "output_type": "stream",
     "text": [
      "https://openalex.org/C122824865 Hypersonic speed\n",
      "https://openalex.org/C198813307 Hypersonic flight\n",
      "https://openalex.org/C2984849654 Hypersonic flow\n",
      "https://openalex.org/C11066151 Hypersonic wind tunnel\n"
     ]
    }
   ],
   "source": [
    "search_term = 'hypersonic'\n",
    "robot_concepts = Concepts().search_filter(display_name=search_term).get()\n",
    "len(robot_concepts)\n",
    "for i in range(len(robot_concepts)):\n",
    "    id_, display_name = robot_concepts[i]['id'], robot_concepts[i]['display_name']\n",
    "    print(id_, display_name)"
   ]
  },
  {
   "cell_type": "code",
   "execution_count": 3,
   "id": "08f4a0e9-a520-4469-8400-3149e40f2702",
   "metadata": {},
   "outputs": [],
   "source": [
    "search_term = 'hypersonic'\n",
    "hypersonic_concepts = Concepts().\\\n",
    "search_filter(display_name=search_term).get()"
   ]
  },
  {
   "cell_type": "code",
   "execution_count": 4,
   "id": "6f98a3c8-52b1-4ebb-8909-58bb9cf60efe",
   "metadata": {},
   "outputs": [
    {
     "data": {
      "text/plain": [
       "[('https://openalex.org/C122824865', 'Hypersonic speed'),\n",
       " ('https://openalex.org/C198813307', 'Hypersonic flight'),\n",
       " ('https://openalex.org/C2984849654', 'Hypersonic flow'),\n",
       " ('https://openalex.org/C11066151', 'Hypersonic wind tunnel')]"
      ]
     },
     "execution_count": 4,
     "metadata": {},
     "output_type": "execute_result"
    }
   ],
   "source": [
    "concepts = []\n",
    "for i in range(len(hypersonic_concepts)):\n",
    "    id_, display_name = hypersonic_concepts[i]['id'], hypersonic_concepts[i]['display_name']\n",
    "    concepts.append((id_, display_name))\n",
    "concepts"
   ]
  },
  {
   "cell_type": "code",
   "execution_count": 5,
   "id": "64dd3053-2e86-4178-84d9-8de68c9c5430",
   "metadata": {},
   "outputs": [],
   "source": [
    "def process_works_list(worklist:list):\n",
    "    \"\"\"\n",
    "    transforms the \n",
    "    works list into a dataframe.\n",
    "    \"\"\"\n",
    "    abstracts_dict = {h[\"id\"]:h[\"abstract\"] for h in worklist}\n",
    "    df = pd.DataFrame.from_records(worklist)\n",
    "    del df['abstract_inverted_index']\n",
    "    df['abstract'] = df['id'].map(abstracts_dict)\n",
    "   # df['author_affils'] = df['authorships'].apply(get_authors_and_affils)\n",
    "    return df"
   ]
  },
  {
   "cell_type": "code",
   "execution_count": 6,
   "id": "3f95735d-ce94-4c65-8d9c-f560527b5834",
   "metadata": {},
   "outputs": [
    {
     "name": "stdout",
     "output_type": "stream",
     "text": [
      "https://openalex.org/C122824865 24944\n",
      "https://openalex.org/C198813307 4462\n",
      "https://openalex.org/C2984849654 3627\n",
      "https://openalex.org/C11066151 3624\n"
     ]
    }
   ],
   "source": [
    "for i in range(len(hypersonic_concepts)):\n",
    "    print(hypersonic_concepts[i]['id'], hypersonic_concepts[i]['works_count'])\n"
   ]
  },
  {
   "cell_type": "code",
   "execution_count": 7,
   "id": "6e4ede7f-2c74-4c5a-bf67-aa38f4756190",
   "metadata": {},
   "outputs": [],
   "source": [
    "def get_concept_frame(concepts_list:list, i:int):\n",
    "    \"\"\"\n",
    "    takes a list of Concepts() results and an index\n",
    "    and forms the pagination object to retrive the \n",
    "    records\n",
    "    \"\"\"\n",
    "    pager = Works().filter(publication_year='>2000',\n",
    "    #concepts={\"id\":f\"{concepts_list[i]['id']}\"}).filter(authorships={\"institutions\":{\"country_code\":\"CN\"}}).\\\n",
    "    #paginate(per_page=200,n_max=None)\n",
    "    concepts={\"id\":f\"{concepts_list[i]['id']}\"}).\\\n",
    "    paginate(per_page=200,n_max=None)\n",
    "    df = pd.DataFrame()\n",
    "    for page in tqdm(pager):\n",
    "        dfpage = process_works_list(page)\n",
    "        df = pd.concat([df, dfpage], ignore_index=True)\n",
    "        df.drop_duplicates(subset='id', keep='first',inplace=True)\n",
    "    return df"
   ]
  },
  {
   "cell_type": "code",
   "execution_count": 8,
   "id": "3590888b-1199-4f18-81a7-81895e277fe2",
   "metadata": {},
   "outputs": [
    {
     "name": "stderr",
     "output_type": "stream",
     "text": [
      "76it [01:50,  1.46s/it]\n",
      "14it [00:20,  1.47s/it]\n",
      "8it [00:11,  1.38s/it]\n",
      "12it [01:06,  5.57s/it]\n"
     ]
    }
   ],
   "source": [
    "frames_list = []\n",
    "for i in range(len(hypersonic_concepts)):\n",
    "    df = get_concept_frame(hypersonic_concepts, i)\n",
    "    frames_list.append(df)"
   ]
  },
  {
   "cell_type": "code",
   "execution_count": 9,
   "id": "9c15ad69-958c-44ad-b9c4-012355ec5b64",
   "metadata": {},
   "outputs": [
    {
     "data": {
      "text/plain": [
       "4"
      ]
     },
     "execution_count": 9,
     "metadata": {},
     "output_type": "execute_result"
    }
   ],
   "source": [
    "len(frames_list)"
   ]
  },
  {
   "cell_type": "code",
   "execution_count": 10,
   "id": "3b7cea0c-c8cc-4332-95cf-c0b373ac2cff",
   "metadata": {},
   "outputs": [
    {
     "name": "stdout",
     "output_type": "stream",
     "text": [
      "(16834, 41)\n"
     ]
    }
   ],
   "source": [
    "dftop = pd.concat(frames_list,\n",
    "                  ignore_index=True)\n",
    "dftop.drop_duplicates(subset='id', keep='first', \n",
    "                      inplace=True)\n",
    "\n",
    "dftop.set_index('id', inplace=True, drop=False)\n",
    "\n",
    "dfall = dftop\n",
    "print(dfall.shape)\n",
    "\n",
    "dfall['content'] = dfall['title'] + \". \" + dfall['abstract']\n",
    "\n",
    "dfrecords = dfall[~dfall['content'].isna()].copy()"
   ]
  },
  {
   "cell_type": "code",
   "execution_count": 11,
   "id": "82b18c3a-ac51-4020-a3b2-468b1ce22aed",
   "metadata": {},
   "outputs": [],
   "source": [
    "def get_keywords(text:str, top:int=7, stopwords=None):\n",
    "    \"\"\"\n",
    "    takes a blob of text and \n",
    "    returns the top **top** \n",
    "    keywords as a list\n",
    "    \"\"\"\n",
    "    kw_extractor = yake.KeywordExtractor(top=top, stopwords=stopwords)\n",
    "    keywords = kw_extractor.extract_keywords(text)\n",
    "    return [p[0] for p in keywords]"
   ]
  },
  {
   "cell_type": "code",
   "execution_count": 12,
   "id": "a8460d98-3f23-4145-b74c-7762e3e42209",
   "metadata": {},
   "outputs": [
    {
     "data": {
      "text/plain": [
       "(16834, 42)"
      ]
     },
     "execution_count": 12,
     "metadata": {},
     "output_type": "execute_result"
    }
   ],
   "source": [
    "dfall.shape"
   ]
  },
  {
   "cell_type": "code",
   "execution_count": 13,
   "id": "c5c4138c-92a6-4201-b7d1-3987dcd8eb3f",
   "metadata": {},
   "outputs": [],
   "source": [
    "def get_top_concepts(concept_list:list,score:float=.6):\n",
    "    \"\"\"\n",
    "    takes a list of concept dictionaries \n",
    "    returns the top **top** display_names;\n",
    "    concepts whose score is >= score\n",
    "    \"\"\"\n",
    "    return [c['display_name'] for c in concept_list if c['score'] >= score]"
   ]
  },
  {
   "cell_type": "code",
   "execution_count": 14,
   "id": "816ac322-977d-4f19-96a6-bd88a0fb08f2",
   "metadata": {},
   "outputs": [],
   "source": [
    "dfrecords['keywords'] = dfrecords['content'].apply(get_keywords)\n",
    "dfrecords['top_concepts'] = dfrecords['concepts'].apply(get_top_concepts)"
   ]
  },
  {
   "cell_type": "code",
   "execution_count": 15,
   "id": "ab71f005-1d22-4834-8f75-cb6b3e842aca",
   "metadata": {},
   "outputs": [],
   "source": [
    "texts = dfrecords['content'].str.lower().values.tolist()\n",
    "#dfrecords.to_csv('jamming.csv')\n"
   ]
  },
  {
   "cell_type": "code",
   "execution_count": 16,
   "id": "0b9b03ad-d5e0-41d0-99a0-3f482c18aeba",
   "metadata": {},
   "outputs": [],
   "source": [
    "def get_content_embeddings(dfrecords:pd.DataFrame) -> pd.DataFrame:\n",
    "    \"\"\"\n",
    "    passes the preprocessed mitigation strings\n",
    "    data through the embedding model to produce the vector\n",
    "    space representation of each pet mitigation.\n",
    "    \"\"\"\n",
    "    sent = Sentence(\"The grass is green.\")\n",
    "    DOC_EMBEDDINGS.embed(sent)\n",
    "    texts = dfrecords[\"content\"].str.lower().values.tolist()\n",
    "    all_descriptions = np.empty((len(texts), len(sent.embedding)))\n",
    "    for i in tqdm(range(len(texts))):\n",
    "        sent = Sentence(texts[i])\n",
    "        DOC_EMBEDDINGS.embed(sent)\n",
    "        all_descriptions[i, :] = sent.embedding.cpu().numpy()\n",
    "        # gc.collect()\n",
    "        torch.cuda.empty_cache()\n",
    "    dfcontentvectors = pd.DataFrame.from_records(all_descriptions, index=dfrecords.index)\n",
    "    return dfcontentvectors"
   ]
  },
  {
   "cell_type": "code",
   "execution_count": 17,
   "id": "23077cde-b3ee-4bb9-8768-a8392f2f93df",
   "metadata": {},
   "outputs": [
    {
     "name": "stderr",
     "output_type": "stream",
     "text": [
      "100%|███████████████████████████████████████████████████████████████████| 12700/12700 [03:21<00:00, 62.97it/s]\n"
     ]
    }
   ],
   "source": [
    "dfcontentvectors = get_content_embeddings(dfrecords)\n"
   ]
  },
  {
   "cell_type": "code",
   "execution_count": 18,
   "id": "c4fc9cc6-9b4f-4c5e-961e-c344448e584a",
   "metadata": {},
   "outputs": [],
   "source": [
    "#umap.UMAP?\n",
    "N_COMPONENTS = 2 # can visualize this way\n",
    "umap_reducer = umap.UMAP(n_components=N_COMPONENTS,\n",
    "                       #  metric='euclidean')\n",
    "                         random_state=1234,\n",
    "                         metric='cosine')  # can experiment with this metric as well as the other \n",
    "# parameters\n",
    "# to see what other literature is in the same information space, we need to keep this umap_reducer \n",
    "# object as well as the gmm model below.\n",
    "\n",
    "# Apply UMAP to the vectorized strings\n",
    "reduced_vectors = umap_reducer.fit_transform(dfcontentvectors.to_numpy())\n",
    "dfreduced = pd.DataFrame.from_records(reduced_vectors, \n",
    "                index=dfcontentvectors.index)\n",
    "dfreduced.columns = ['x','y']"
   ]
  },
  {
   "cell_type": "markdown",
   "id": "b437f514-2d60-4faa-9c15-50e6e0296859",
   "metadata": {},
   "source": [
    "# use hdbscan to cluster"
   ]
  },
  {
   "cell_type": "code",
   "execution_count": 19,
   "id": "a5502110-999c-47b9-857d-f9fe858c4899",
   "metadata": {},
   "outputs": [],
   "source": [
    "import hdbscan\n",
    "\n",
    "hdbscan_args = {'min_cluster_size': 15,\n",
    "                            'metric': 'euclidean',\n",
    "                            'cluster_selection_method': 'eom',\n",
    "                            'cluster_selection_epsilon': 0.1\n",
    "               }\n",
    "\n",
    "cluster = hdbscan.HDBSCAN(**hdbscan_args).fit(dfreduced[['x','y']].to_numpy())\n",
    "\n",
    "dfreduced['cluster'] = cluster.labels_\n",
    "dfreduced['probability'] = cluster.probabilities_\n",
    "\n",
    "dfpapers = dfrecords.merge(dfreduced, left_index=True,\n",
    "                           right_index=True)"
   ]
  },
  {
   "cell_type": "code",
   "execution_count": 20,
   "id": "da6bdbf8-feaf-4294-9a39-8ab2311fd8b5",
   "metadata": {},
   "outputs": [
    {
     "data": {
      "text/html": [
       "<div>\n",
       "<style scoped>\n",
       "    .dataframe tbody tr th:only-of-type {\n",
       "        vertical-align: middle;\n",
       "    }\n",
       "\n",
       "    .dataframe tbody tr th {\n",
       "        vertical-align: top;\n",
       "    }\n",
       "\n",
       "    .dataframe thead th {\n",
       "        text-align: right;\n",
       "    }\n",
       "</style>\n",
       "<table border=\"1\" class=\"dataframe\">\n",
       "  <thead>\n",
       "    <tr style=\"text-align: right;\">\n",
       "      <th></th>\n",
       "      <th>id</th>\n",
       "      <th>doi</th>\n",
       "      <th>title</th>\n",
       "      <th>display_name</th>\n",
       "      <th>publication_year</th>\n",
       "      <th>publication_date</th>\n",
       "      <th>ids</th>\n",
       "      <th>language</th>\n",
       "      <th>primary_location</th>\n",
       "      <th>type</th>\n",
       "      <th>...</th>\n",
       "      <th>updated_date</th>\n",
       "      <th>created_date</th>\n",
       "      <th>abstract</th>\n",
       "      <th>content</th>\n",
       "      <th>keywords</th>\n",
       "      <th>top_concepts</th>\n",
       "      <th>x</th>\n",
       "      <th>y</th>\n",
       "      <th>cluster</th>\n",
       "      <th>probability</th>\n",
       "    </tr>\n",
       "  </thead>\n",
       "  <tbody>\n",
       "    <tr>\n",
       "      <th>0</th>\n",
       "      <td>https://openalex.org/W2046971659</td>\n",
       "      <td>https://doi.org/10.2514/1.12596</td>\n",
       "      <td>Adaptive Sliding Mode Control Design for a Hyp...</td>\n",
       "      <td>Adaptive Sliding Mode Control Design for a Hyp...</td>\n",
       "      <td>2004</td>\n",
       "      <td>2004-09-01</td>\n",
       "      <td>{'openalex': 'https://openalex.org/W2046971659...</td>\n",
       "      <td>en</td>\n",
       "      <td>{'is_oa': False, 'landing_page_url': 'https://...</td>\n",
       "      <td>article</td>\n",
       "      <td>...</td>\n",
       "      <td>2023-10-13T13:13:49.855202</td>\n",
       "      <td>2016-06-24</td>\n",
       "      <td>A multi-input/multi-output adaptive sliding co...</td>\n",
       "      <td>Adaptive Sliding Mode Control Design for a Hyp...</td>\n",
       "      <td>[Mode Control Design, Adaptive Sliding Mode, S...</td>\n",
       "      <td>[]</td>\n",
       "      <td>12.240765</td>\n",
       "      <td>2.577896</td>\n",
       "      <td>10</td>\n",
       "      <td>1.000000</td>\n",
       "    </tr>\n",
       "    <tr>\n",
       "      <th>1</th>\n",
       "      <td>https://openalex.org/W2016332739</td>\n",
       "      <td>https://doi.org/10.2514/1.27830</td>\n",
       "      <td>Control-Oriented Modeling of an Air-Breathing ...</td>\n",
       "      <td>Control-Oriented Modeling of an Air-Breathing ...</td>\n",
       "      <td>2007</td>\n",
       "      <td>2007-05-01</td>\n",
       "      <td>{'openalex': 'https://openalex.org/W2016332739...</td>\n",
       "      <td>en</td>\n",
       "      <td>{'is_oa': False, 'landing_page_url': 'https://...</td>\n",
       "      <td>article</td>\n",
       "      <td>...</td>\n",
       "      <td>2023-10-03T01:09:35.774046</td>\n",
       "      <td>2016-06-24</td>\n",
       "      <td>Full simulation models for flexible air-breath...</td>\n",
       "      <td>Control-Oriented Modeling of an Air-Breathing ...</td>\n",
       "      <td>[Air-Breathing Hypersonic Vehicle, hypersonic ...</td>\n",
       "      <td>[Aerospace engineering]</td>\n",
       "      <td>10.622355</td>\n",
       "      <td>2.518020</td>\n",
       "      <td>10</td>\n",
       "      <td>1.000000</td>\n",
       "    </tr>\n",
       "    <tr>\n",
       "      <th>2</th>\n",
       "      <td>https://openalex.org/W1993626705</td>\n",
       "      <td>https://doi.org/10.2514/1.23370</td>\n",
       "      <td>Nonlinear Longitudinal Dynamical Model of an A...</td>\n",
       "      <td>Nonlinear Longitudinal Dynamical Model of an A...</td>\n",
       "      <td>2007</td>\n",
       "      <td>2007-03-01</td>\n",
       "      <td>{'openalex': 'https://openalex.org/W1993626705...</td>\n",
       "      <td>en</td>\n",
       "      <td>{'is_oa': False, 'landing_page_url': 'https://...</td>\n",
       "      <td>article</td>\n",
       "      <td>...</td>\n",
       "      <td>2023-09-30T01:23:09.714460</td>\n",
       "      <td>2016-06-24</td>\n",
       "      <td>Covers advancements in spacecraft and tactical...</td>\n",
       "      <td>Nonlinear Longitudinal Dynamical Model of an A...</td>\n",
       "      <td>[Longitudinal Dynamical Model, Nonlinear Longi...</td>\n",
       "      <td>[Aerospace engineering, Spacecraft, Missile, H...</td>\n",
       "      <td>9.931794</td>\n",
       "      <td>3.204971</td>\n",
       "      <td>10</td>\n",
       "      <td>1.000000</td>\n",
       "    </tr>\n",
       "    <tr>\n",
       "      <th>3</th>\n",
       "      <td>https://openalex.org/W2162602330</td>\n",
       "      <td>https://doi.org/10.2514/1.39210</td>\n",
       "      <td>Nonlinear Robust Adaptive Control of Flexible ...</td>\n",
       "      <td>Nonlinear Robust Adaptive Control of Flexible ...</td>\n",
       "      <td>2009</td>\n",
       "      <td>2009-03-01</td>\n",
       "      <td>{'openalex': 'https://openalex.org/W2162602330...</td>\n",
       "      <td>en</td>\n",
       "      <td>{'is_oa': False, 'landing_page_url': 'https://...</td>\n",
       "      <td>article</td>\n",
       "      <td>...</td>\n",
       "      <td>2023-10-13T18:53:54.817551</td>\n",
       "      <td>2016-06-24</td>\n",
       "      <td>This paper describes the design of a nonlinear...</td>\n",
       "      <td>Nonlinear Robust Adaptive Control of Flexible ...</td>\n",
       "      <td>[Flexible Air-Breathing Hypersonic, Nonlinear ...</td>\n",
       "      <td>[Hypersonic speed, Nonlinear system, Control t...</td>\n",
       "      <td>11.063985</td>\n",
       "      <td>2.276188</td>\n",
       "      <td>10</td>\n",
       "      <td>1.000000</td>\n",
       "    </tr>\n",
       "    <tr>\n",
       "      <th>4</th>\n",
       "      <td>https://openalex.org/W2166911839</td>\n",
       "      <td>https://doi.org/10.1146/annurev-fluid-122109-1...</td>\n",
       "      <td>Transition and Stability of High-Speed Boundar...</td>\n",
       "      <td>Transition and Stability of High-Speed Boundar...</td>\n",
       "      <td>2011</td>\n",
       "      <td>2011-01-21</td>\n",
       "      <td>{'openalex': 'https://openalex.org/W2166911839...</td>\n",
       "      <td>en</td>\n",
       "      <td>{'is_oa': False, 'landing_page_url': 'https://...</td>\n",
       "      <td>article</td>\n",
       "      <td>...</td>\n",
       "      <td>2023-10-11T06:31:18.558072</td>\n",
       "      <td>2016-06-24</td>\n",
       "      <td>This article reviews stability and laminar-tur...</td>\n",
       "      <td>Transition and Stability of High-Speed Boundar...</td>\n",
       "      <td>[High-Speed Boundary Layers, Boundary Layers, ...</td>\n",
       "      <td>[Laminar-turbulent transition, Supersonic spee...</td>\n",
       "      <td>1.934812</td>\n",
       "      <td>8.734060</td>\n",
       "      <td>102</td>\n",
       "      <td>0.680959</td>\n",
       "    </tr>\n",
       "  </tbody>\n",
       "</table>\n",
       "<p>5 rows × 48 columns</p>\n",
       "</div>"
      ],
      "text/plain": [
       "                                 id   \n",
       "0  https://openalex.org/W2046971659  \\\n",
       "1  https://openalex.org/W2016332739   \n",
       "2  https://openalex.org/W1993626705   \n",
       "3  https://openalex.org/W2162602330   \n",
       "4  https://openalex.org/W2166911839   \n",
       "\n",
       "                                                 doi   \n",
       "0                    https://doi.org/10.2514/1.12596  \\\n",
       "1                    https://doi.org/10.2514/1.27830   \n",
       "2                    https://doi.org/10.2514/1.23370   \n",
       "3                    https://doi.org/10.2514/1.39210   \n",
       "4  https://doi.org/10.1146/annurev-fluid-122109-1...   \n",
       "\n",
       "                                               title   \n",
       "0  Adaptive Sliding Mode Control Design for a Hyp...  \\\n",
       "1  Control-Oriented Modeling of an Air-Breathing ...   \n",
       "2  Nonlinear Longitudinal Dynamical Model of an A...   \n",
       "3  Nonlinear Robust Adaptive Control of Flexible ...   \n",
       "4  Transition and Stability of High-Speed Boundar...   \n",
       "\n",
       "                                        display_name  publication_year   \n",
       "0  Adaptive Sliding Mode Control Design for a Hyp...              2004  \\\n",
       "1  Control-Oriented Modeling of an Air-Breathing ...              2007   \n",
       "2  Nonlinear Longitudinal Dynamical Model of an A...              2007   \n",
       "3  Nonlinear Robust Adaptive Control of Flexible ...              2009   \n",
       "4  Transition and Stability of High-Speed Boundar...              2011   \n",
       "\n",
       "  publication_date                                                ids   \n",
       "0       2004-09-01  {'openalex': 'https://openalex.org/W2046971659...  \\\n",
       "1       2007-05-01  {'openalex': 'https://openalex.org/W2016332739...   \n",
       "2       2007-03-01  {'openalex': 'https://openalex.org/W1993626705...   \n",
       "3       2009-03-01  {'openalex': 'https://openalex.org/W2162602330...   \n",
       "4       2011-01-21  {'openalex': 'https://openalex.org/W2166911839...   \n",
       "\n",
       "  language                                   primary_location     type  ...   \n",
       "0       en  {'is_oa': False, 'landing_page_url': 'https://...  article  ...  \\\n",
       "1       en  {'is_oa': False, 'landing_page_url': 'https://...  article  ...   \n",
       "2       en  {'is_oa': False, 'landing_page_url': 'https://...  article  ...   \n",
       "3       en  {'is_oa': False, 'landing_page_url': 'https://...  article  ...   \n",
       "4       en  {'is_oa': False, 'landing_page_url': 'https://...  article  ...   \n",
       "\n",
       "                 updated_date created_date   \n",
       "0  2023-10-13T13:13:49.855202   2016-06-24  \\\n",
       "1  2023-10-03T01:09:35.774046   2016-06-24   \n",
       "2  2023-09-30T01:23:09.714460   2016-06-24   \n",
       "3  2023-10-13T18:53:54.817551   2016-06-24   \n",
       "4  2023-10-11T06:31:18.558072   2016-06-24   \n",
       "\n",
       "                                            abstract   \n",
       "0  A multi-input/multi-output adaptive sliding co...  \\\n",
       "1  Full simulation models for flexible air-breath...   \n",
       "2  Covers advancements in spacecraft and tactical...   \n",
       "3  This paper describes the design of a nonlinear...   \n",
       "4  This article reviews stability and laminar-tur...   \n",
       "\n",
       "                                             content   \n",
       "0  Adaptive Sliding Mode Control Design for a Hyp...  \\\n",
       "1  Control-Oriented Modeling of an Air-Breathing ...   \n",
       "2  Nonlinear Longitudinal Dynamical Model of an A...   \n",
       "3  Nonlinear Robust Adaptive Control of Flexible ...   \n",
       "4  Transition and Stability of High-Speed Boundar...   \n",
       "\n",
       "                                            keywords   \n",
       "0  [Mode Control Design, Adaptive Sliding Mode, S...  \\\n",
       "1  [Air-Breathing Hypersonic Vehicle, hypersonic ...   \n",
       "2  [Longitudinal Dynamical Model, Nonlinear Longi...   \n",
       "3  [Flexible Air-Breathing Hypersonic, Nonlinear ...   \n",
       "4  [High-Speed Boundary Layers, Boundary Layers, ...   \n",
       "\n",
       "                                        top_concepts          x         y   \n",
       "0                                                 []  12.240765  2.577896  \\\n",
       "1                            [Aerospace engineering]  10.622355  2.518020   \n",
       "2  [Aerospace engineering, Spacecraft, Missile, H...   9.931794  3.204971   \n",
       "3  [Hypersonic speed, Nonlinear system, Control t...  11.063985  2.276188   \n",
       "4  [Laminar-turbulent transition, Supersonic spee...   1.934812  8.734060   \n",
       "\n",
       "  cluster  probability  \n",
       "0      10     1.000000  \n",
       "1      10     1.000000  \n",
       "2      10     1.000000  \n",
       "3      10     1.000000  \n",
       "4     102     0.680959  \n",
       "\n",
       "[5 rows x 48 columns]"
      ]
     },
     "execution_count": 20,
     "metadata": {},
     "output_type": "execute_result"
    }
   ],
   "source": [
    "#help(dfpapers.explode)\n",
    "del dfpapers['id']\n",
    "dfstart = dfpapers.reset_index()\n",
    "dfstart.head()"
   ]
  },
  {
   "cell_type": "code",
   "execution_count": 21,
   "id": "600b6dd0-e547-4af6-9d2b-883f63f63809",
   "metadata": {},
   "outputs": [
    {
     "data": {
      "text/plain": [
       "(12700, 48)"
      ]
     },
     "execution_count": 21,
     "metadata": {},
     "output_type": "execute_result"
    }
   ],
   "source": [
    "dfstart.shape"
   ]
  },
  {
   "cell_type": "code",
   "execution_count": 22,
   "id": "885b47fa-2821-4b96-9f8f-e9a37a61969d",
   "metadata": {},
   "outputs": [
    {
     "data": {
      "text/plain": [
       "((40276, 48), (12700, 48))"
      ]
     },
     "execution_count": 22,
     "metadata": {},
     "output_type": "execute_result"
    }
   ],
   "source": [
    "dfbig = dfstart.explode(column='authorships')\n",
    "dfbig.shape, dfstart.shape"
   ]
  },
  {
   "cell_type": "code",
   "execution_count": 23,
   "id": "0f2ad15b-e58b-463b-8b25-713fefea5f28",
   "metadata": {},
   "outputs": [],
   "source": [
    "def add_extra_to_authorships(row: pd.DataFrame):\n",
    "    \"\"\"\n",
    "    row[authorships] is a dictionary;\n",
    "    add in the id key to that dictionary\n",
    "    whose value is row[id]\n",
    "    \"\"\"\n",
    "    complete_dict = row[\"authorships\"]\n",
    "   # assert type(complete_dict) == dict\n",
    "    #print(type(complete_dict))\n",
    "    if type(complete_dict) == dict:\n",
    "        complete_dict[\"id\"] = row[\"id\"]\n",
    "        complete_dict[\"x\"] = row[\"x\"]\n",
    "        complete_dict[\"y\"] = row[\"y\"]\n",
    "        complete_dict[\"cluster\"] = row[\"cluster\"]\n",
    "        complete_dict[\"cluster_score\"] = row[\"probability\"]\n",
    "        complete_dict[\"title\"] = row[\"title\"]\n",
    "        complete_dict[\"abstract\"] = row[\"abstract\"]\n",
    "        complete_dict[\"doi\"] = row[\"doi\"]\n",
    "        complete_dict[\"publication_date\"] = row[\"publication_date\"]\n",
    "        complete_dict[\"publication_year\"] = row[\"publication_year\"]\n",
    "        complete_dict[\"grants\"] = row[\"grants\"]\n",
    "        complete_dict[\"locations\"] = row[\"locations\"]\n",
    "        return complete_dict\n",
    "    else:\n",
    "        return row[\"authorships\"]"
   ]
  },
  {
   "cell_type": "code",
   "execution_count": 24,
   "id": "b25f7748-cee3-4061-a124-ecea44e4ec5b",
   "metadata": {},
   "outputs": [],
   "source": [
    "\n",
    "dfbig['big_authorships'] = dfbig.apply(add_extra_to_authorships, axis=1)"
   ]
  },
  {
   "cell_type": "code",
   "execution_count": 25,
   "id": "4c17f388-088a-4c8b-a469-a07bcd4bdcde",
   "metadata": {},
   "outputs": [],
   "source": [
    "#dfbig['authorships'].tolist()\n",
    "bigvals = dfbig['authorships'].tolist()"
   ]
  },
  {
   "cell_type": "code",
   "execution_count": 26,
   "id": "49fa092f-7ddb-4018-a608-3c89949c7f21",
   "metadata": {},
   "outputs": [],
   "source": [
    "dictvals = [c for c in bigvals if type(c) != float]\n"
   ]
  },
  {
   "cell_type": "code",
   "execution_count": 27,
   "id": "581b669f-d922-4f72-be91-e8cfac482d04",
   "metadata": {},
   "outputs": [],
   "source": [
    "dftriple = pd.json_normalize(dictvals,\n",
    "                  record_path=['institutions'],\n",
    "                  meta=['id','raw_affiliation_string','author_position', 'doi',\n",
    "                        'title','abstract','publication_date', 'publication_year',\n",
    "                        'grants','locations',\n",
    "                        'is_corrresponding','x','y','cluster','cluster_score',\n",
    "                       ['author','id'], ['author', 'display_name'],\n",
    "                       ['author','orcid']],\n",
    "                  errors='ignore',\n",
    "                  sep='_',\n",
    "                  meta_prefix='paper_',\n",
    "                #  record_prefix='author_'\n",
    "                 )"
   ]
  },
  {
   "cell_type": "code",
   "execution_count": 28,
   "id": "ecf10804-89aa-4a5d-ac26-defa908204a1",
   "metadata": {},
   "outputs": [],
   "source": [
    "dftopics = dfcontentvectors.copy()\n",
    "dftopics['cluster'] = dfpapers['cluster']\n",
    "dfmeantopics = dftopics.groupby('cluster').mean().copy()\n",
    "reduced_topics = umap_reducer.transform(dfmeantopics.to_numpy())\n",
    "df_reduced_topics = pd.DataFrame.from_records(reduced_topics, \n",
    "                index=dfmeantopics.index)\n",
    "df_reduced_topics.columns = ['x','y']\n",
    "df_reduced_topics['topic'] = df_reduced_topics.index\n",
    "df_reduced_topics.head()\n",
    "\n",
    "def get_cluster_concepts(topic_num:int, n:int=20):\n",
    "    \"\"\"\n",
    "    takes an integer topic_num corresponding to a \n",
    "    given topic number and\n",
    "    returns the list of top n occuring concepts\n",
    "    from the top_concept field\n",
    "    \"\"\"\n",
    "    top_concepts = dfpapers[dfpapers['cluster'] == topic_num]['top_concepts'].tolist()\n",
    "    flat_concepts = [item for sublist in top_concepts for item in sublist]\n",
    "    concepts_dict = {c:flat_concepts.count(c) for c in flat_concepts}\n",
    "    sorted_concepts = sorted(concepts_dict.items(), key=lambda x:x[1], reverse=True)\n",
    "    return [c[0] for c in sorted_concepts][:n]\n",
    "\n",
    "def get_yake_cluster_phrases(topic_num:int, n:int=20):\n",
    "    \"\"\"\n",
    "    takes in an integer n corresponding\n",
    "    to a given topic number and\n",
    "    returns the list of keyphrases (TopicRank method)\n",
    "    \"\"\"\n",
    "    documents = dfpapers[dfpapers['cluster'] == topic_num]['content'].tolist()\n",
    "    topic_input = \". \".join(documents)\n",
    "    #extractor = pke.unsupervised.TextRank()\n",
    "    kw_extractor = yake.KeywordExtractor(top=n, stopwords=None)\n",
    "    keywords = kw_extractor.extract_keywords(topic_input)\n",
    "    #extractor.load_document(input=topic_input,\n",
    "    #                    language='en',\n",
    "    #                    normalization=None)\n",
    "\n",
    "    #extractor.candidate_selection()\n",
    "\n",
    "    #window = 2\n",
    "    #use_stems = False\n",
    "    #extractor.candidate_weighting(window=window,\n",
    "    #                          use_stems=use_stems)\n",
    "    #extractor.candidate_weighting()\n",
    "    #threshold = 0.8\n",
    "   # keyphrases = extractor.get_n_best(n=20, threshold=threshold)\n",
    "    #keyphrases = extractor.get_n_best(n=n)\n",
    "    return [p[0] for p in keywords]\n",
    "\n",
    "wikiconcepts = df_reduced_topics['topic'].apply(get_cluster_concepts)\n",
    "\n",
    "wikikeywords = df_reduced_topics['topic'].apply(get_yake_cluster_phrases)\n",
    "\n",
    "dfpapers['id'] = dfpapers.index\n",
    "dfinfo = dfpapers[['x','y','id','title','doi','cluster','grants',\n",
    "                   'locations',\n",
    "                 'publication_date','keywords','top_concepts']].copy()\n",
    "\n",
    "centroids = dfinfo.groupby('cluster')[['x','y']].mean().copy()\n",
    "centroids['concepts'] = wikiconcepts\n",
    "centroids['cluster'] = centroids.index\n",
    "centroids['keywords'] = wikikeywords"
   ]
  },
  {
   "cell_type": "code",
   "execution_count": 29,
   "id": "2395ff6d-089a-4bdf-a5b0-045eaf77db94",
   "metadata": {},
   "outputs": [],
   "source": [
    "def wrap_it(x):\n",
    "    return \"<br>\".join(textwrap.wrap(x, width=40))\n",
    "   # return \"<br>\".join(textwrap.wrap(x.replace(r'\\s+', ' '), width=40))"
   ]
  },
  {
   "cell_type": "code",
   "execution_count": 30,
   "id": "1f6c8999-f99f-4210-9004-27cc6a79adc9",
   "metadata": {},
   "outputs": [],
   "source": [
    "centroids['wrapped_keywords'] = centroids['keywords'].apply(str).apply(wrap_it)\n",
    "centroids['wrapped_concepts'] = centroids['concepts'].apply(str).apply(wrap_it)"
   ]
  },
  {
   "cell_type": "code",
   "execution_count": 31,
   "id": "c45ffdf7-a034-4004-a12a-a9cd43a9c6a5",
   "metadata": {},
   "outputs": [],
   "source": [
    "centroids.to_pickle('hypersoniccentroids2d.pkl')\n"
   ]
  },
  {
   "cell_type": "code",
   "execution_count": 32,
   "id": "42b6cfe4-0aa4-49cb-937d-833575f2d5bf",
   "metadata": {},
   "outputs": [],
   "source": [
    "dftriple.to_pickle('hypersonicdftriple2d.pkl')\n"
   ]
  },
  {
   "cell_type": "code",
   "execution_count": 33,
   "id": "190a07d2-67b6-47f7-baf7-30bbab076289",
   "metadata": {},
   "outputs": [],
   "source": [
    "def get_affils_cluster_sort(dc:pd.DataFrame, cl:int):\n",
    "    \"\"\"\n",
    "    restricts the dataframe dc to cluster value cl\n",
    "    and returns the results grouped by id, ror sorted\n",
    "    by the some of probablity descending\n",
    "    \"\"\"\n",
    "    dg = dc[dc['paper_cluster'] == cl].copy()\n",
    "    print(cl)\n",
    "    dv = dg.groupby(['id','display_name','country_code',\n",
    "                     'type'])['paper_cluster_score'].sum().to_frame()\n",
    "    dv.sort_values('paper_cluster_score', ascending=False, inplace=True)\n",
    "    kw = centroids[centroids.cluster == cl]['keywords'].iloc[0]\n",
    "    return dv, kw"
   ]
  },
  {
   "cell_type": "code",
   "execution_count": 34,
   "id": "c0f33eb3-a5f6-486b-82ea-ea7d9f2e991e",
   "metadata": {},
   "outputs": [
    {
     "name": "stdout",
     "output_type": "stream",
     "text": [
      "1\n",
      "['wind tunnel test', 'wind tunnel', 'wind pressure', 'wind pressure coefficients', 'wind pressure distribution', 'wind', 'wind tunnel experiments', 'layer wind tunnel', 'tunnel test', 'wind load', 'wind tunnel study', 'RMS wind pressure', 'fluctuating wind pressure', 'CFD wind tunnel', 'numerical wind tunnel', 'wind pressure characteristics', 'wind tunnel measurements', 'wind tunnel models', 'wind loads', 'wind tunnel testing']\n"
     ]
    },
    {
     "data": {
      "text/html": [
       "<div>\n",
       "<style scoped>\n",
       "    .dataframe tbody tr th:only-of-type {\n",
       "        vertical-align: middle;\n",
       "    }\n",
       "\n",
       "    .dataframe tbody tr th {\n",
       "        vertical-align: top;\n",
       "    }\n",
       "\n",
       "    .dataframe thead th {\n",
       "        text-align: right;\n",
       "    }\n",
       "</style>\n",
       "<table border=\"1\" class=\"dataframe\">\n",
       "  <thead>\n",
       "    <tr style=\"text-align: right;\">\n",
       "      <th></th>\n",
       "      <th></th>\n",
       "      <th></th>\n",
       "      <th></th>\n",
       "      <th>paper_cluster_score</th>\n",
       "    </tr>\n",
       "    <tr>\n",
       "      <th>id</th>\n",
       "      <th>display_name</th>\n",
       "      <th>country_code</th>\n",
       "      <th>type</th>\n",
       "      <th></th>\n",
       "    </tr>\n",
       "  </thead>\n",
       "  <tbody>\n",
       "    <tr>\n",
       "      <th>https://openalex.org/I116953780</th>\n",
       "      <th>Tongji University</th>\n",
       "      <th>CN</th>\n",
       "      <th>education</th>\n",
       "      <td>17.669269</td>\n",
       "    </tr>\n",
       "    <tr>\n",
       "      <th>https://openalex.org/I16609230</th>\n",
       "      <th>Hunan University</th>\n",
       "      <th>CN</th>\n",
       "      <th>education</th>\n",
       "      <td>12.176592</td>\n",
       "    </tr>\n",
       "    <tr>\n",
       "      <th>https://openalex.org/I889458895</th>\n",
       "      <th>University of Hong Kong</th>\n",
       "      <th>HK</th>\n",
       "      <th>education</th>\n",
       "      <td>11.130538</td>\n",
       "    </tr>\n",
       "    <tr>\n",
       "      <th>https://openalex.org/I158842170</th>\n",
       "      <th>Chongqing University</th>\n",
       "      <th>CN</th>\n",
       "      <th>education</th>\n",
       "      <td>11.0</td>\n",
       "    </tr>\n",
       "    <tr>\n",
       "      <th>https://openalex.org/I37461747</th>\n",
       "      <th>Wuhan University</th>\n",
       "      <th>CN</th>\n",
       "      <th>education</th>\n",
       "      <td>10.472673</td>\n",
       "    </tr>\n",
       "    <tr>\n",
       "      <th>https://openalex.org/I200769079</th>\n",
       "      <th>Hong Kong University of Science and Technology</th>\n",
       "      <th>CN</th>\n",
       "      <th>education</th>\n",
       "      <td>10.130538</td>\n",
       "    </tr>\n",
       "    <tr>\n",
       "      <th>https://openalex.org/I4210126275</th>\n",
       "      <th>Toda Kogyo (Japan)</th>\n",
       "      <th>JP</th>\n",
       "      <th>company</th>\n",
       "      <td>10.0</td>\n",
       "    </tr>\n",
       "    <tr>\n",
       "      <th>https://openalex.org/I204983213</th>\n",
       "      <th>Harbin Institute of Technology</th>\n",
       "      <th>CN</th>\n",
       "      <th>education</th>\n",
       "      <td>10.0</td>\n",
       "    </tr>\n",
       "    <tr>\n",
       "      <th>https://openalex.org/I168719708</th>\n",
       "      <th>City University of Hong Kong</th>\n",
       "      <th>CN</th>\n",
       "      <th>education</th>\n",
       "      <td>10.0</td>\n",
       "    </tr>\n",
       "    <tr>\n",
       "      <th>https://openalex.org/I56934997</th>\n",
       "      <th>Changsha University of Science and Technology</th>\n",
       "      <th>CN</th>\n",
       "      <th>education</th>\n",
       "      <td>7.0</td>\n",
       "    </tr>\n",
       "  </tbody>\n",
       "</table>\n",
       "</div>"
      ],
      "text/plain": [
       "                                                                                                       paper_cluster_score\n",
       "id                               display_name                                   country_code type                         \n",
       "https://openalex.org/I116953780  Tongji University                              CN           education           17.669269\n",
       "https://openalex.org/I16609230   Hunan University                               CN           education           12.176592\n",
       "https://openalex.org/I889458895  University of Hong Kong                        HK           education           11.130538\n",
       "https://openalex.org/I158842170  Chongqing University                           CN           education                11.0\n",
       "https://openalex.org/I37461747   Wuhan University                               CN           education           10.472673\n",
       "https://openalex.org/I200769079  Hong Kong University of Science and Technology CN           education           10.130538\n",
       "https://openalex.org/I4210126275 Toda Kogyo (Japan)                             JP           company                  10.0\n",
       "https://openalex.org/I204983213  Harbin Institute of Technology                 CN           education                10.0\n",
       "https://openalex.org/I168719708  City University of Hong Kong                   CN           education                10.0\n",
       "https://openalex.org/I56934997   Changsha University of Science and Technology  CN           education                 7.0"
      ]
     },
     "execution_count": 34,
     "metadata": {},
     "output_type": "execute_result"
    }
   ],
   "source": [
    "dv84, kw84 = get_affils_cluster_sort(dftriple, 1)\n",
    "print(kw84)\n",
    "dv84.head(10)"
   ]
  },
  {
   "cell_type": "code",
   "execution_count": 35,
   "id": "f6cc9011-fb22-47fd-bd17-2d13b05c2e33",
   "metadata": {},
   "outputs": [
    {
     "name": "stdout",
     "output_type": "stream",
     "text": [
      "0\n",
      "['Hypersonic Phononic Crystals', 'Hypersonic', 'Brillouin light scattering', 'Hypersonic Phononic', 'Phononic Crystals', 'hypersonic surface phononic', 'hypersonic waves', 'Hypersonic Phononic Band', 'surface acoustic waves', 'Acoustic Waves', 'Brillouin light', 'surface phononic crystals', 'Phononic', 'hypersonic acoustic wave', 'acoustic', 'Brillouin scattering', 'hypersonic crystals', 'Brillouin', 'Waves', 'hypersonic acoustic']\n"
     ]
    },
    {
     "data": {
      "text/html": [
       "<div>\n",
       "<style scoped>\n",
       "    .dataframe tbody tr th:only-of-type {\n",
       "        vertical-align: middle;\n",
       "    }\n",
       "\n",
       "    .dataframe tbody tr th {\n",
       "        vertical-align: top;\n",
       "    }\n",
       "\n",
       "    .dataframe thead th {\n",
       "        text-align: right;\n",
       "    }\n",
       "</style>\n",
       "<table border=\"1\" class=\"dataframe\">\n",
       "  <thead>\n",
       "    <tr style=\"text-align: right;\">\n",
       "      <th></th>\n",
       "      <th></th>\n",
       "      <th></th>\n",
       "      <th></th>\n",
       "      <th>paper_cluster_score</th>\n",
       "    </tr>\n",
       "    <tr>\n",
       "      <th>id</th>\n",
       "      <th>display_name</th>\n",
       "      <th>country_code</th>\n",
       "      <th>type</th>\n",
       "      <th></th>\n",
       "    </tr>\n",
       "  </thead>\n",
       "  <tbody>\n",
       "    <tr>\n",
       "      <th>https://openalex.org/I4210093216</th>\n",
       "      <th>Institut Català de Nanociència i Nanotecnologia</th>\n",
       "      <th>ES</th>\n",
       "      <th>facility</th>\n",
       "      <td>21.436175</td>\n",
       "    </tr>\n",
       "    <tr>\n",
       "      <th>https://openalex.org/I4210095245</th>\n",
       "      <th>Max Planck Institute for Polymer Research</th>\n",
       "      <th>DE</th>\n",
       "      <th>facility</th>\n",
       "      <td>14.178405</td>\n",
       "    </tr>\n",
       "    <tr>\n",
       "      <th>https://openalex.org/I95568926</th>\n",
       "      <th>Ioffe Institute</th>\n",
       "      <th>RU</th>\n",
       "      <th>facility</th>\n",
       "      <td>11.781572</td>\n",
       "    </tr>\n",
       "    <tr>\n",
       "      <th>https://openalex.org/I200332995</th>\n",
       "      <th>TU Dortmund University</th>\n",
       "      <th>DE</th>\n",
       "      <th>education</th>\n",
       "      <td>9.235005</td>\n",
       "    </tr>\n",
       "    <tr>\n",
       "      <th>https://openalex.org/I59411706</th>\n",
       "      <th>Adam Mickiewicz University in Poznań</th>\n",
       "      <th>PL</th>\n",
       "      <th>education</th>\n",
       "      <td>8.099491</td>\n",
       "    </tr>\n",
       "    <tr>\n",
       "      <th>https://openalex.org/I1294671590</th>\n",
       "      <th>French National Centre for Scientific Research</th>\n",
       "      <th>FR</th>\n",
       "      <th>government</th>\n",
       "      <td>7.958549</td>\n",
       "    </tr>\n",
       "    <tr>\n",
       "      <th>https://openalex.org/I142263535</th>\n",
       "      <th>University of Nottingham</th>\n",
       "      <th>GB</th>\n",
       "      <th>education</th>\n",
       "      <td>7.759876</td>\n",
       "    </tr>\n",
       "    <tr>\n",
       "      <th>https://openalex.org/I4210123471</th>\n",
       "      <th>Institute of Electronics, Microelectronics and Nanotechnology</th>\n",
       "      <th>FR</th>\n",
       "      <th>facility</th>\n",
       "      <td>6.806951</td>\n",
       "    </tr>\n",
       "    <tr>\n",
       "      <th>https://openalex.org/I165932596</th>\n",
       "      <th>National University of Singapore</th>\n",
       "      <th>SG</th>\n",
       "      <th>education</th>\n",
       "      <td>6.01198</td>\n",
       "    </tr>\n",
       "    <tr>\n",
       "      <th>https://openalex.org/I63966007</th>\n",
       "      <th>Massachusetts Institute of Technology</th>\n",
       "      <th>US</th>\n",
       "      <th>education</th>\n",
       "      <td>5.988931</td>\n",
       "    </tr>\n",
       "  </tbody>\n",
       "</table>\n",
       "</div>"
      ],
      "text/plain": [
       "                                                                                                            paper_cluster_score\n",
       "id                               display_name                                       country_code type                          \n",
       "https://openalex.org/I4210093216 Institut Català de Nanociència i Nanotecnologia    ES           facility             21.436175\n",
       "https://openalex.org/I4210095245 Max Planck Institute for Polymer Research          DE           facility             14.178405\n",
       "https://openalex.org/I95568926   Ioffe Institute                                    RU           facility             11.781572\n",
       "https://openalex.org/I200332995  TU Dortmund University                             DE           education             9.235005\n",
       "https://openalex.org/I59411706   Adam Mickiewicz University in Poznań               PL           education             8.099491\n",
       "https://openalex.org/I1294671590 French National Centre for Scientific Research     FR           government            7.958549\n",
       "https://openalex.org/I142263535  University of Nottingham                           GB           education             7.759876\n",
       "https://openalex.org/I4210123471 Institute of Electronics, Microelectronics and ... FR           facility              6.806951\n",
       "https://openalex.org/I165932596  National University of Singapore                   SG           education              6.01198\n",
       "https://openalex.org/I63966007   Massachusetts Institute of Technology              US           education             5.988931"
      ]
     },
     "execution_count": 35,
     "metadata": {},
     "output_type": "execute_result"
    }
   ],
   "source": [
    "dv84, kw84 = get_affils_cluster_sort(dftriple, 0)\n",
    "print(kw84)\n",
    "dv84.head(10)"
   ]
  },
  {
   "cell_type": "code",
   "execution_count": 36,
   "id": "c3dd2c4e-f2f9-4187-b857-0b363091d959",
   "metadata": {},
   "outputs": [],
   "source": [
    "dfinfo = dfpapers[['x','y','id','title','abstract', 'doi','cluster','probability',\n",
    "                 'publication_date','grants','locations',\n",
    "                   'keywords','top_concepts']].copy()\n"
   ]
  },
  {
   "cell_type": "code",
   "execution_count": 37,
   "id": "eb12ff24-b311-4b33-83f3-83ff2a5efbdf",
   "metadata": {},
   "outputs": [],
   "source": [
    "pap_affils_dict = dftriple.groupby('paper_id')['paper_raw_affiliation_string'].\\\n",
    "apply(lambda x: ' | '.join(x.tolist()))\n",
    "\n",
    "#pap_authors_dict = dftriple.groupby('paper_id')['paper_author_display_name'].\\\n",
    "#apply(lambda x: ' | '.join(x.tolist()))"
   ]
  },
  {
   "cell_type": "code",
   "execution_count": 38,
   "id": "98f7a999-c7e8-4c20-aad8-9b4e5a32b01d",
   "metadata": {},
   "outputs": [],
   "source": [
    "pap_authors_dict = dftriple.groupby('paper_id')['paper_author_display_name'].apply(lambda x: x.values)"
   ]
  },
  {
   "cell_type": "code",
   "execution_count": 39,
   "id": "4f88db4a-4246-45f0-9d5f-d1837e7eeb7d",
   "metadata": {},
   "outputs": [],
   "source": [
    "dfinfo['affil_list'] = pap_affils_dict\n",
    "dfinfo['author_list'] = pap_authors_dict"
   ]
  },
  {
   "cell_type": "code",
   "execution_count": 40,
   "id": "2ccba3c7-5521-4e03-a53e-e09c456fb1e2",
   "metadata": {},
   "outputs": [],
   "source": [
    "dfinfo['affil_list'] = dftriple.groupby('paper_id')['paper_raw_affiliation_string'].\\\n",
    "apply(lambda x: x.tolist())"
   ]
  },
  {
   "cell_type": "code",
   "execution_count": 41,
   "id": "bc3f8bc0-d9d4-4d65-975d-652d51d32845",
   "metadata": {},
   "outputs": [],
   "source": [
    "dfinfo['author_list'] =  dftriple.groupby('paper_id')['paper_author_display_name'].\\\n",
    "apply(lambda x: x.tolist())"
   ]
  },
  {
   "cell_type": "code",
   "execution_count": 42,
   "id": "1cab7ea6-6581-4701-8002-81c435a8a76d",
   "metadata": {},
   "outputs": [],
   "source": [
    "dfinfo['wrapped_affil_list'] = dfinfo['affil_list'].apply(str).apply(wrap_it)\n",
    "dfinfo['wrapped_author_list'] = dfinfo['author_list'].apply(str).apply(wrap_it)"
   ]
  },
  {
   "cell_type": "code",
   "execution_count": 43,
   "id": "c236fc8c-4d96-491d-b7f4-79f241b953a5",
   "metadata": {},
   "outputs": [],
   "source": [
    "dfinfo['wrapped_keywords'] = dfinfo['keywords'].apply(str).apply(wrap_it)\n"
   ]
  },
  {
   "cell_type": "code",
   "execution_count": 44,
   "id": "4169eb23-e748-4d5c-9c6d-23a776d3986e",
   "metadata": {},
   "outputs": [],
   "source": [
    "def get_source_name(loc_list):\n",
    "    \"\"\"\n",
    "    grab the first item in the list;\n",
    "    retturn the display name\n",
    "    \"\"\"\n",
    "    try:\n",
    "        primary = loc_list[0]\n",
    "        return primary[\"source\"][\"display_name\"]\n",
    "    except:\n",
    "        return None\n",
    "\n",
    "def get_source_type(loc_list):\n",
    "    \"\"\"\n",
    "    grab the first item in the list;\n",
    "    return the source type\n",
    "    \"\"\"\n",
    "    try:\n",
    "        primary = loc_list[0]\n",
    "        return primary[\"source\"][\"type\"]\n",
    "    except:\n",
    "        return None"
   ]
  },
  {
   "cell_type": "code",
   "execution_count": 45,
   "id": "24436820-becd-495c-91b6-4aac285262c1",
   "metadata": {},
   "outputs": [],
   "source": [
    "dfinfo[\"source\"] = dfinfo[\"locations\"].apply(get_source_name)\n",
    "dfinfo[\"source_type\"] = dfinfo[\"locations\"].apply(get_source_type)"
   ]
  },
  {
   "cell_type": "code",
   "execution_count": 46,
   "id": "472c2580-a4a9-434d-a7d7-24aea332ce6b",
   "metadata": {},
   "outputs": [],
   "source": [
    "dfinfo.to_pickle('hypersonicdfinfo2d.pkl')\n"
   ]
  },
  {
   "cell_type": "code",
   "execution_count": 47,
   "id": "da57c458-1a41-4c8d-8b26-345b819ac397",
   "metadata": {},
   "outputs": [],
   "source": [
    "def get_funder_names(funder_list):\n",
    "    \"\"\"\n",
    "    funder_list is a list of dictionaries\n",
    "    with three keys; return the list of \n",
    "    unique **funder_display_name**\n",
    "    values\n",
    "    \"\"\"\n",
    "    try:\n",
    "        funder_names = list(set([f['funder_display_name'] for f in funder_list]))\n",
    "        return funder_names    \n",
    "    except:\n",
    "        return []"
   ]
  },
  {
   "cell_type": "code",
   "execution_count": 48,
   "id": "3384806e-d935-46e3-b11c-d598326836a1",
   "metadata": {},
   "outputs": [],
   "source": [
    "\n",
    "dftriple[\"source\"] = dftriple[\"paper_locations\"].apply(get_source_name)\n",
    "dftriple[\"source_type\"] = dftriple[\"paper_locations\"].apply(get_source_type)\n",
    "dftriple[\"funder_list\"] = dftriple[\"paper_grants\"].apply(get_funder_names)"
   ]
  },
  {
   "cell_type": "code",
   "execution_count": 49,
   "id": "ccbcd3e7-288d-4fd6-891c-0ec184183712",
   "metadata": {},
   "outputs": [],
   "source": [
    "dftriple.to_pickle('hypersonicdftriple2d.pkl')\n"
   ]
  },
  {
   "cell_type": "code",
   "execution_count": 50,
   "id": "b6108d76-5315-4c3e-9d2c-21196b2ee330",
   "metadata": {},
   "outputs": [],
   "source": [
    "dfinfo[\"funder_list\"] = dfinfo[\"grants\"].apply(get_funder_names)\n",
    "dfinfo[\"wrapped_funder_list\"] = dfinfo[\"funder_list\"].apply(str).apply(wrap_it)"
   ]
  },
  {
   "cell_type": "code",
   "execution_count": 51,
   "id": "6f650308-2b93-44dc-95d5-c47be52d0cfe",
   "metadata": {},
   "outputs": [],
   "source": [
    "dfinfo.to_pickle('hypersonicdfinfo2d.pkl')\n"
   ]
  },
  {
   "cell_type": "code",
   "execution_count": 52,
   "id": "2d2b55bf-7faf-4bbf-bb7d-e95dab254230",
   "metadata": {},
   "outputs": [],
   "source": [
    "kw_dict = dfinfo['keywords'].to_dict()\n"
   ]
  },
  {
   "cell_type": "code",
   "execution_count": 53,
   "id": "566bc41f-a7b0-4555-853e-f036fe3b03eb",
   "metadata": {},
   "outputs": [
    {
     "data": {
      "text/plain": [
       "(list, 1127)"
      ]
     },
     "execution_count": 53,
     "metadata": {},
     "output_type": "execute_result"
    }
   ],
   "source": [
    "sources_list = dftriple['source'].unique().tolist()\n",
    "type(sources_list), len(sources_list)\n"
   ]
  },
  {
   "cell_type": "code",
   "execution_count": 54,
   "id": "e18cab94-852e-4fbe-b0ac-22c72163ebc5",
   "metadata": {},
   "outputs": [],
   "source": [
    "def get_source_json(s:str):\n",
    "    \"\"\"\n",
    "    s is an openalex Sources display_name\n",
    "    return that Sources object\n",
    "    \"\"\"\n",
    "    source_json = Sources().search_filter(display_name = s).get()\n",
    "    a = source_json[0]['type']\n",
    "    if \"homepage_url\" in source_json[0] and source_json[0]['homepage_url']:\n",
    "        print(f\"{s} has homepage_url and type {source_json[0]['type']}\")\n",
    "        return source_json[0][\"homepage_url\"]\n",
    "    else:\n",
    "        return None"
   ]
  },
  {
   "cell_type": "code",
   "execution_count": 58,
   "id": "2155a949-6925-4632-ad50-9ee5224be881",
   "metadata": {},
   "outputs": [
    {
     "name": "stdout",
     "output_type": "stream",
     "text": [
      "Proceedings of the Combustion Institute has homepage_url and type journal\n"
     ]
    },
    {
     "data": {
      "text/plain": [
       "'https://www.journals.elsevier.com/proceedings-of-the-combustion-institute'"
      ]
     },
     "execution_count": 58,
     "metadata": {},
     "output_type": "execute_result"
    }
   ],
   "source": [
    "sj0 = get_source_json(sources_list[65])\n",
    "sj0"
   ]
  },
  {
   "cell_type": "code",
   "execution_count": 59,
   "id": "2e87f2f3-051e-4627-ae84-b10979253912",
   "metadata": {},
   "outputs": [
    {
     "data": {
      "text/plain": [
       "'Proceedings of the Combustion Institute'"
      ]
     },
     "execution_count": 59,
     "metadata": {},
     "output_type": "execute_result"
    }
   ],
   "source": [
    "sources_list[65]"
   ]
  },
  {
   "cell_type": "code",
   "execution_count": 60,
   "id": "a30b93b4-a1fe-466b-b0a0-ff436fa11497",
   "metadata": {},
   "outputs": [],
   "source": [
    "def get_display_page_dict(sl:list):\n",
    "    \"\"\"\n",
    "    sl is a list of Sources display_name values\n",
    "    returns the dictionary mapping\n",
    "    display_names with homepage_url values.\"\"\"\n",
    "    mapping_dict = dict()\n",
    "    for s in tqdm(sl):\n",
    "        try:\n",
    "            mapping_dict[s] = get_source_json(s)\n",
    "        except:\n",
    "            pass\n",
    "    return mapping_dict"
   ]
  },
  {
   "cell_type": "code",
   "execution_count": 61,
   "id": "147775e0-b163-4238-bbed-0d4c5ec1825a",
   "metadata": {},
   "outputs": [
    {
     "name": "stderr",
     "output_type": "stream",
     "text": [
      "  0%|▏                                                                       | 2/1127 [00:01<09:43,  1.93it/s]"
     ]
    },
    {
     "name": "stdout",
     "output_type": "stream",
     "text": [
      "Journal of Spacecraft and Rockets has homepage_url and type journal\n"
     ]
    },
    {
     "name": "stderr",
     "output_type": "stream",
     "text": [
      "  0%|▏                                                                       | 3/1127 [00:01<09:23,  1.99it/s]"
     ]
    },
    {
     "name": "stdout",
     "output_type": "stream",
     "text": [
      "Annual Review of Fluid Mechanics has homepage_url and type journal\n"
     ]
    },
    {
     "name": "stderr",
     "output_type": "stream",
     "text": [
      "  0%|▎                                                                       | 4/1127 [00:02<09:16,  2.02it/s]"
     ]
    },
    {
     "name": "stdout",
     "output_type": "stream",
     "text": [
      "Journal of Computational Physics has homepage_url and type journal\n"
     ]
    },
    {
     "name": "stderr",
     "output_type": "stream",
     "text": [
      "  0%|▎                                                                       | 5/1127 [00:02<08:52,  2.11it/s]"
     ]
    },
    {
     "name": "stdout",
     "output_type": "stream",
     "text": [
      "Progress in Aerospace Sciences has homepage_url and type journal\n"
     ]
    },
    {
     "name": "stderr",
     "output_type": "stream",
     "text": [
      "  1%|▍                                                                       | 6/1127 [00:02<08:45,  2.13it/s]"
     ]
    },
    {
     "name": "stdout",
     "output_type": "stream",
     "text": [
      "Physical Review Letters has homepage_url and type journal\n"
     ]
    },
    {
     "name": "stderr",
     "output_type": "stream",
     "text": [
      "  1%|▌                                                                       | 8/1127 [00:03<08:18,  2.24it/s]"
     ]
    },
    {
     "name": "stdout",
     "output_type": "stream",
     "text": [
      "IEEE Transactions on Aerospace and Electronic Systems has homepage_url and type journal\n"
     ]
    },
    {
     "name": "stderr",
     "output_type": "stream",
     "text": [
      "  1%|▌                                                                       | 9/1127 [00:04<08:28,  2.20it/s]"
     ]
    },
    {
     "name": "stdout",
     "output_type": "stream",
     "text": [
      "IEEE transactions on neural networks and learning systems has homepage_url and type journal\n"
     ]
    },
    {
     "name": "stderr",
     "output_type": "stream",
     "text": [
      "  1%|▋                                                                      | 10/1127 [00:04<08:18,  2.24it/s]"
     ]
    },
    {
     "name": "stdout",
     "output_type": "stream",
     "text": [
      "Journal of the European Ceramic Society has homepage_url and type journal\n"
     ]
    },
    {
     "name": "stderr",
     "output_type": "stream",
     "text": [
      "  1%|▋                                                                      | 11/1127 [00:05<09:33,  1.95it/s]"
     ]
    },
    {
     "name": "stdout",
     "output_type": "stream",
     "text": [
      "Journal of Fluid Mechanics has homepage_url and type journal\n"
     ]
    },
    {
     "name": "stderr",
     "output_type": "stream",
     "text": [
      "  1%|▊                                                                      | 12/1127 [00:05<09:12,  2.02it/s]"
     ]
    },
    {
     "name": "stdout",
     "output_type": "stream",
     "text": [
      "AIAA Journal has homepage_url and type journal\n"
     ]
    },
    {
     "name": "stderr",
     "output_type": "stream",
     "text": [
      "  1%|▊                                                                      | 13/1127 [00:06<08:39,  2.15it/s]"
     ]
    },
    {
     "name": "stdout",
     "output_type": "stream",
     "text": [
      "Journal of the American Ceramic Society has homepage_url and type journal\n"
     ]
    },
    {
     "name": "stderr",
     "output_type": "stream",
     "text": [
      "  1%|▉                                                                      | 14/1127 [00:06<08:23,  2.21it/s]"
     ]
    },
    {
     "name": "stdout",
     "output_type": "stream",
     "text": [
      "IEEE Transactions on Industrial Electronics has homepage_url and type journal\n"
     ]
    },
    {
     "name": "stderr",
     "output_type": "stream",
     "text": [
      "  1%|▉                                                                      | 15/1127 [00:07<08:32,  2.17it/s]"
     ]
    },
    {
     "name": "stdout",
     "output_type": "stream",
     "text": [
      "Automatica has homepage_url and type journal\n"
     ]
    },
    {
     "name": "stderr",
     "output_type": "stream",
     "text": [
      "  1%|█                                                                      | 16/1127 [00:07<08:42,  2.13it/s]"
     ]
    },
    {
     "name": "stdout",
     "output_type": "stream",
     "text": [
      "Journal of the Franklin Institute has homepage_url and type journal\n"
     ]
    },
    {
     "name": "stderr",
     "output_type": "stream",
     "text": [
      "  2%|█                                                                      | 17/1127 [00:08<08:57,  2.06it/s]"
     ]
    },
    {
     "name": "stdout",
     "output_type": "stream",
     "text": [
      "Physics of Plasmas has homepage_url and type journal\n"
     ]
    },
    {
     "name": "stderr",
     "output_type": "stream",
     "text": [
      "  2%|█▏                                                                     | 19/1127 [00:08<08:39,  2.13it/s]"
     ]
    },
    {
     "name": "stdout",
     "output_type": "stream",
     "text": [
      "Acta Astronautica has homepage_url and type journal\n"
     ]
    },
    {
     "name": "stderr",
     "output_type": "stream",
     "text": [
      "  2%|█▎                                                                     | 21/1127 [00:09<08:52,  2.08it/s]"
     ]
    },
    {
     "name": "stdout",
     "output_type": "stream",
     "text": [
      "Chinese Journal of Aeronautics has homepage_url and type journal\n"
     ]
    },
    {
     "name": "stderr",
     "output_type": "stream",
     "text": [
      "  2%|█▍                                                                     | 22/1127 [00:10<08:40,  2.12it/s]"
     ]
    },
    {
     "name": "stdout",
     "output_type": "stream",
     "text": [
      "Journal of Propulsion and Power has homepage_url and type journal\n"
     ]
    },
    {
     "name": "stderr",
     "output_type": "stream",
     "text": [
      "  2%|█▍                                                                     | 23/1127 [00:10<08:39,  2.13it/s]"
     ]
    },
    {
     "name": "stdout",
     "output_type": "stream",
     "text": [
      "IEEE transactions on cybernetics has homepage_url and type journal\n"
     ]
    },
    {
     "name": "stderr",
     "output_type": "stream",
     "text": [
      "  2%|█▌                                                                     | 25/1127 [00:11<08:30,  2.16it/s]"
     ]
    },
    {
     "name": "stdout",
     "output_type": "stream",
     "text": [
      "Chemical Physics has homepage_url and type journal\n"
     ]
    },
    {
     "name": "stderr",
     "output_type": "stream",
     "text": [
      "  2%|█▋                                                                     | 27/1127 [00:12<08:11,  2.24it/s]"
     ]
    },
    {
     "name": "stdout",
     "output_type": "stream",
     "text": [
      "International Journal of Hydrogen Energy has homepage_url and type journal\n"
     ]
    },
    {
     "name": "stderr",
     "output_type": "stream",
     "text": [
      "  2%|█▊                                                                     | 28/1127 [00:13<08:06,  2.26it/s]"
     ]
    },
    {
     "name": "stdout",
     "output_type": "stream",
     "text": [
      "Physics of Fluids has homepage_url and type journal\n"
     ]
    },
    {
     "name": "stderr",
     "output_type": "stream",
     "text": [
      "  3%|██                                                                     | 32/1127 [00:14<07:32,  2.42it/s]"
     ]
    },
    {
     "name": "stdout",
     "output_type": "stream",
     "text": [
      "International Journal for Numerical Methods in Fluids has homepage_url and type journal\n"
     ]
    },
    {
     "name": "stderr",
     "output_type": "stream",
     "text": [
      "  3%|██                                                                     | 33/1127 [00:15<08:19,  2.19it/s]"
     ]
    },
    {
     "name": "stdout",
     "output_type": "stream",
     "text": [
      "Nano Letters has homepage_url and type journal\n"
     ]
    },
    {
     "name": "stderr",
     "output_type": "stream",
     "text": [
      "  3%|██▏                                                                    | 34/1127 [00:15<08:12,  2.22it/s]"
     ]
    },
    {
     "name": "stdout",
     "output_type": "stream",
     "text": [
      "Applied optics has homepage_url and type journal\n"
     ]
    },
    {
     "name": "stderr",
     "output_type": "stream",
     "text": [
      "  3%|██▎                                                                    | 36/1127 [00:16<07:58,  2.28it/s]"
     ]
    },
    {
     "name": "stdout",
     "output_type": "stream",
     "text": [
      "ISA Transactions has homepage_url and type journal\n"
     ]
    },
    {
     "name": "stderr",
     "output_type": "stream",
     "text": [
      "  3%|██▎                                                                    | 37/1127 [00:16<07:52,  2.31it/s]"
     ]
    },
    {
     "name": "stdout",
     "output_type": "stream",
     "text": [
      "International Communications in Heat and Mass Transfer has homepage_url and type journal\n"
     ]
    },
    {
     "name": "stderr",
     "output_type": "stream",
     "text": [
      "  3%|██▍                                                                    | 38/1127 [00:17<07:43,  2.35it/s]"
     ]
    },
    {
     "name": "stdout",
     "output_type": "stream",
     "text": [
      "International Journal of Adaptive Control and Signal Processing has homepage_url and type journal\n"
     ]
    },
    {
     "name": "stderr",
     "output_type": "stream",
     "text": [
      "  3%|██▍                                                                    | 39/1127 [00:17<07:39,  2.37it/s]"
     ]
    },
    {
     "name": "stdout",
     "output_type": "stream",
     "text": [
      "Combustion and Flame has homepage_url and type journal\n"
     ]
    },
    {
     "name": "stderr",
     "output_type": "stream",
     "text": [
      "  4%|██▌                                                                    | 41/1127 [00:18<07:33,  2.40it/s]"
     ]
    },
    {
     "name": "stdout",
     "output_type": "stream",
     "text": [
      "Aerospace Science and Technology has homepage_url and type journal\n"
     ]
    },
    {
     "name": "stderr",
     "output_type": "stream",
     "text": [
      "  4%|██▋                                                                    | 42/1127 [00:19<07:39,  2.36it/s]"
     ]
    },
    {
     "name": "stdout",
     "output_type": "stream",
     "text": [
      "Philosophical Transactions of the Royal Society A has homepage_url and type journal\n"
     ]
    },
    {
     "name": "stderr",
     "output_type": "stream",
     "text": [
      "  4%|██▊                                                                    | 44/1127 [00:20<08:33,  2.11it/s]"
     ]
    },
    {
     "name": "stdout",
     "output_type": "stream",
     "text": [
      "Physics Reports has homepage_url and type journal\n"
     ]
    },
    {
     "name": "stderr",
     "output_type": "stream",
     "text": [
      "  4%|██▊                                                                    | 45/1127 [00:20<08:48,  2.05it/s]"
     ]
    },
    {
     "name": "stdout",
     "output_type": "stream",
     "text": [
      "Iet Control Theory and Applications has homepage_url and type journal\n"
     ]
    },
    {
     "name": "stderr",
     "output_type": "stream",
     "text": [
      "  4%|██▉                                                                    | 46/1127 [00:20<08:19,  2.17it/s]"
     ]
    },
    {
     "name": "stdout",
     "output_type": "stream",
     "text": [
      "Composites Part B: Engineering has homepage_url and type journal\n"
     ]
    },
    {
     "name": "stderr",
     "output_type": "stream",
     "text": [
      "  4%|██▉                                                                    | 47/1127 [00:21<08:02,  2.24it/s]"
     ]
    },
    {
     "name": "stdout",
     "output_type": "stream",
     "text": [
      "The Astrophysical Journal has homepage_url and type journal\n"
     ]
    },
    {
     "name": "stderr",
     "output_type": "stream",
     "text": [
      "  4%|███                                                                    | 48/1127 [00:21<07:54,  2.27it/s]"
     ]
    },
    {
     "name": "stdout",
     "output_type": "stream",
     "text": [
      "IEEE Transactions on Plasma Science has homepage_url and type journal\n"
     ]
    },
    {
     "name": "stderr",
     "output_type": "stream",
     "text": [
      "  4%|███                                                                    | 49/1127 [00:22<07:42,  2.33it/s]"
     ]
    },
    {
     "name": "stdout",
     "output_type": "stream",
     "text": [
      "Physical Review B has homepage_url and type journal\n"
     ]
    },
    {
     "name": "stderr",
     "output_type": "stream",
     "text": [
      "  4%|███▏                                                                   | 50/1127 [00:22<07:53,  2.27it/s]"
     ]
    },
    {
     "name": "stdout",
     "output_type": "stream",
     "text": [
      "Neurocomputing has homepage_url and type journal\n"
     ]
    },
    {
     "name": "stderr",
     "output_type": "stream",
     "text": [
      "  5%|███▏                                                                   | 51/1127 [00:23<07:56,  2.26it/s]"
     ]
    },
    {
     "name": "stdout",
     "output_type": "stream",
     "text": [
      "Journal of Aircraft has homepage_url and type journal\n"
     ]
    },
    {
     "name": "stderr",
     "output_type": "stream",
     "text": [
      "  5%|███▎                                                                   | 52/1127 [00:23<08:15,  2.17it/s]"
     ]
    },
    {
     "name": "stdout",
     "output_type": "stream",
     "text": [
      "International Journal of Robust and Nonlinear Control has homepage_url and type journal\n"
     ]
    },
    {
     "name": "stderr",
     "output_type": "stream",
     "text": [
      "  5%|███▎                                                                   | 53/1127 [00:24<08:14,  2.17it/s]"
     ]
    },
    {
     "name": "stdout",
     "output_type": "stream",
     "text": [
      "Chinese Science Bulletin has homepage_url and type journal\n"
     ]
    },
    {
     "name": "stderr",
     "output_type": "stream",
     "text": [
      "  5%|███▍                                                                   | 54/1127 [00:24<08:12,  2.18it/s]"
     ]
    },
    {
     "name": "stdout",
     "output_type": "stream",
     "text": [
      "IEEE Transactions on Fuzzy Systems has homepage_url and type journal\n"
     ]
    },
    {
     "name": "stderr",
     "output_type": "stream",
     "text": [
      "  5%|███▍                                                                   | 55/1127 [00:25<08:37,  2.07it/s]"
     ]
    },
    {
     "name": "stdout",
     "output_type": "stream",
     "text": [
      "National Science Review has homepage_url and type journal\n"
     ]
    },
    {
     "name": "stderr",
     "output_type": "stream",
     "text": [
      "  5%|███▌                                                                   | 56/1127 [00:25<08:32,  2.09it/s]"
     ]
    },
    {
     "name": "stdout",
     "output_type": "stream",
     "text": [
      "Information Sciences has homepage_url and type journal\n"
     ]
    },
    {
     "name": "stderr",
     "output_type": "stream",
     "text": [
      "  5%|███▌                                                                   | 57/1127 [00:26<08:18,  2.14it/s]"
     ]
    },
    {
     "name": "stdout",
     "output_type": "stream",
     "text": [
      "Journal of the Royal Aeronautical Society has homepage_url and type journal\n"
     ]
    },
    {
     "name": "stderr",
     "output_type": "stream",
     "text": [
      "  5%|███▋                                                                   | 59/1127 [00:26<07:46,  2.29it/s]"
     ]
    },
    {
     "name": "stdout",
     "output_type": "stream",
     "text": [
      "Measurement Science and Technology has homepage_url and type journal\n"
     ]
    },
    {
     "name": "stderr",
     "output_type": "stream",
     "text": [
      "  5%|███▊                                                                   | 60/1127 [00:27<07:48,  2.28it/s]"
     ]
    },
    {
     "name": "stdout",
     "output_type": "stream",
     "text": [
      "International Journal for Numerical Methods in Engineering has homepage_url and type journal\n"
     ]
    },
    {
     "name": "stderr",
     "output_type": "stream",
     "text": [
      "  5%|███▊                                                                   | 61/1127 [00:27<07:59,  2.22it/s]"
     ]
    },
    {
     "name": "stdout",
     "output_type": "stream",
     "text": [
      "Review of Scientific Instruments has homepage_url and type journal\n"
     ]
    },
    {
     "name": "stderr",
     "output_type": "stream",
     "text": [
      "  6%|███▉                                                                   | 62/1127 [00:28<07:52,  2.26it/s]"
     ]
    },
    {
     "name": "stdout",
     "output_type": "stream",
     "text": [
      "Plasma Physics and Controlled Fusion has homepage_url and type journal\n"
     ]
    },
    {
     "name": "stderr",
     "output_type": "stream",
     "text": [
      "  6%|███▉                                                                   | 63/1127 [00:28<07:43,  2.30it/s]"
     ]
    },
    {
     "name": "stdout",
     "output_type": "stream",
     "text": [
      "Materials Science and Engineering: A has homepage_url and type journal\n"
     ]
    },
    {
     "name": "stderr",
     "output_type": "stream",
     "text": [
      "  6%|████                                                                   | 64/1127 [00:29<07:43,  2.29it/s]"
     ]
    },
    {
     "name": "stdout",
     "output_type": "stream",
     "text": [
      "Acta Mechanica Sinica has homepage_url and type journal\n"
     ]
    },
    {
     "name": "stderr",
     "output_type": "stream",
     "text": [
      "  6%|████▏                                                                  | 66/1127 [00:29<08:02,  2.20it/s]"
     ]
    },
    {
     "name": "stdout",
     "output_type": "stream",
     "text": [
      "Proceedings of the Combustion Institute has homepage_url and type journal\n"
     ]
    },
    {
     "name": "stderr",
     "output_type": "stream",
     "text": [
      "  6%|████▏                                                                  | 67/1127 [00:30<08:13,  2.15it/s]"
     ]
    },
    {
     "name": "stdout",
     "output_type": "stream",
     "text": [
      "IEEE Transactions on Automation Science and Engineering has homepage_url and type journal\n"
     ]
    },
    {
     "name": "stderr",
     "output_type": "stream",
     "text": [
      "  6%|████▎                                                                  | 69/1127 [00:31<08:02,  2.19it/s]"
     ]
    },
    {
     "name": "stdout",
     "output_type": "stream",
     "text": [
      "International Journal of Systems Science has homepage_url and type journal\n"
     ]
    },
    {
     "name": "stderr",
     "output_type": "stream",
     "text": [
      "  6%|████▌                                                                  | 72/1127 [00:32<07:36,  2.31it/s]"
     ]
    },
    {
     "name": "stdout",
     "output_type": "stream",
     "text": [
      "Journal of Sound and Vibration has homepage_url and type journal\n"
     ]
    },
    {
     "name": "stderr",
     "output_type": "stream",
     "text": [
      "  6%|████▌                                                                  | 73/1127 [00:33<07:34,  2.32it/s]"
     ]
    },
    {
     "name": "stdout",
     "output_type": "stream",
     "text": [
      "Journal of Analytical and Applied Pyrolysis has homepage_url and type journal\n"
     ]
    },
    {
     "name": "stderr",
     "output_type": "stream",
     "text": [
      "  7%|████▋                                                                  | 74/1127 [00:33<07:38,  2.30it/s]"
     ]
    },
    {
     "name": "stdout",
     "output_type": "stream",
     "text": [
      "International Journal of Heat and Mass Transfer has homepage_url and type journal\n"
     ]
    },
    {
     "name": "stderr",
     "output_type": "stream",
     "text": [
      "  7%|████▋                                                                  | 75/1127 [00:34<08:42,  2.01it/s]"
     ]
    },
    {
     "name": "stdout",
     "output_type": "stream",
     "text": [
      "Communications in Computational Physics has homepage_url and type journal\n"
     ]
    },
    {
     "name": "stderr",
     "output_type": "stream",
     "text": [
      "  7%|████▊                                                                  | 77/1127 [00:35<09:04,  1.93it/s]"
     ]
    },
    {
     "name": "stdout",
     "output_type": "stream",
     "text": [
      "Applied Physics Letters has homepage_url and type journal\n"
     ]
    },
    {
     "name": "stderr",
     "output_type": "stream",
     "text": [
      "  7%|████▉                                                                  | 78/1127 [00:35<09:01,  1.94it/s]"
     ]
    },
    {
     "name": "stdout",
     "output_type": "stream",
     "text": [
      "Proceedings has homepage_url and type journal\n"
     ]
    },
    {
     "name": "stderr",
     "output_type": "stream",
     "text": [
      "  7%|█████▏                                                                 | 82/1127 [00:37<09:51,  1.77it/s]"
     ]
    },
    {
     "name": "stdout",
     "output_type": "stream",
     "text": [
      "Journal of Fluids and Structures has homepage_url and type journal\n"
     ]
    },
    {
     "name": "stderr",
     "output_type": "stream",
     "text": [
      "  7%|█████▏                                                                 | 83/1127 [00:38<09:34,  1.82it/s]"
     ]
    },
    {
     "name": "stdout",
     "output_type": "stream",
     "text": [
      "International Journal of Control has homepage_url and type journal\n"
     ]
    },
    {
     "name": "stderr",
     "output_type": "stream",
     "text": [
      "  7%|█████▎                                                                 | 84/1127 [00:38<08:48,  1.97it/s]"
     ]
    },
    {
     "name": "stdout",
     "output_type": "stream",
     "text": [
      "Applied Thermal Engineering has homepage_url and type journal\n"
     ]
    },
    {
     "name": "stderr",
     "output_type": "stream",
     "text": [
      "  8%|█████▎                                                                 | 85/1127 [00:39<08:25,  2.06it/s]"
     ]
    },
    {
     "name": "stdout",
     "output_type": "stream",
     "text": [
      "Combustion Science and Technology has homepage_url and type journal\n"
     ]
    },
    {
     "name": "stderr",
     "output_type": "stream",
     "text": [
      "  8%|█████▍                                                                 | 86/1127 [00:39<08:28,  2.05it/s]"
     ]
    },
    {
     "name": "stdout",
     "output_type": "stream",
     "text": [
      "Journal of Applied Mechanics has homepage_url and type journal\n"
     ]
    },
    {
     "name": "stderr",
     "output_type": "stream",
     "text": [
      "  8%|█████▍                                                                 | 87/1127 [00:40<08:45,  1.98it/s]"
     ]
    },
    {
     "name": "stdout",
     "output_type": "stream",
     "text": [
      "International Journal of Heat and Fluid Flow has homepage_url and type journal\n"
     ]
    },
    {
     "name": "stderr",
     "output_type": "stream",
     "text": [
      "  8%|█████▌                                                                 | 88/1127 [00:40<08:15,  2.10it/s]"
     ]
    },
    {
     "name": "stdout",
     "output_type": "stream",
     "text": [
      "International Journal of Thermal Sciences has homepage_url and type journal\n"
     ]
    },
    {
     "name": "stderr",
     "output_type": "stream",
     "text": [
      "  8%|█████▌                                                                 | 89/1127 [00:41<08:07,  2.13it/s]"
     ]
    },
    {
     "name": "stdout",
     "output_type": "stream",
     "text": [
      "Control Engineering Practice has homepage_url and type journal\n"
     ]
    },
    {
     "name": "stderr",
     "output_type": "stream",
     "text": [
      "  8%|█████▋                                                                 | 90/1127 [00:41<07:49,  2.21it/s]"
     ]
    },
    {
     "name": "stdout",
     "output_type": "stream",
     "text": [
      "Experiments in Fluids has homepage_url and type journal\n"
     ]
    },
    {
     "name": "stderr",
     "output_type": "stream",
     "text": [
      "  8%|█████▋                                                                 | 91/1127 [00:42<09:27,  1.82it/s]"
     ]
    },
    {
     "name": "stdout",
     "output_type": "stream",
     "text": [
      "Measurement has homepage_url and type journal\n"
     ]
    },
    {
     "name": "stderr",
     "output_type": "stream",
     "text": [
      "  8%|█████▊                                                                 | 92/1127 [00:42<09:30,  1.82it/s]"
     ]
    },
    {
     "name": "stdout",
     "output_type": "stream",
     "text": [
      "Energy Conversion and Management has homepage_url and type journal\n"
     ]
    },
    {
     "name": "stderr",
     "output_type": "stream",
     "text": [
      "  8%|█████▊                                                                 | 93/1127 [00:43<08:48,  1.96it/s]"
     ]
    },
    {
     "name": "stdout",
     "output_type": "stream",
     "text": [
      "AIP Advances has homepage_url and type journal\n"
     ]
    },
    {
     "name": "stderr",
     "output_type": "stream",
     "text": [
      "  8%|█████▉                                                                 | 94/1127 [00:43<08:26,  2.04it/s]"
     ]
    },
    {
     "name": "stdout",
     "output_type": "stream",
     "text": [
      "Journal of Chemical Physics has homepage_url and type journal\n"
     ]
    },
    {
     "name": "stderr",
     "output_type": "stream",
     "text": [
      "  8%|█████▉                                                                 | 95/1127 [00:44<08:54,  1.93it/s]"
     ]
    },
    {
     "name": "stdout",
     "output_type": "stream",
     "text": [
      "Small has homepage_url and type journal\n"
     ]
    },
    {
     "name": "stderr",
     "output_type": "stream",
     "text": [
      "  9%|██████                                                                 | 96/1127 [00:45<09:54,  1.73it/s]"
     ]
    },
    {
     "name": "stdout",
     "output_type": "stream",
     "text": [
      "Computer Physics Communications has homepage_url and type journal\n"
     ]
    },
    {
     "name": "stderr",
     "output_type": "stream",
     "text": [
      "  9%|██████                                                                 | 97/1127 [00:45<09:58,  1.72it/s]"
     ]
    },
    {
     "name": "stdout",
     "output_type": "stream",
     "text": [
      "Materials Science Forum has homepage_url and type book series\n"
     ]
    },
    {
     "name": "stderr",
     "output_type": "stream",
     "text": [
      "  9%|██████▏                                                                | 98/1127 [00:46<09:21,  1.83it/s]"
     ]
    },
    {
     "name": "stdout",
     "output_type": "stream",
     "text": [
      "Micromachines has homepage_url and type journal\n"
     ]
    },
    {
     "name": "stderr",
     "output_type": "stream",
     "text": [
      "  9%|██████▏                                                                | 99/1127 [00:47<13:55,  1.23it/s]"
     ]
    },
    {
     "name": "stdout",
     "output_type": "stream",
     "text": [
      "Journal of heat transfer has homepage_url and type journal\n"
     ]
    },
    {
     "name": "stderr",
     "output_type": "stream",
     "text": [
      "  9%|██████▏                                                               | 100/1127 [00:48<12:13,  1.40it/s]"
     ]
    },
    {
     "name": "stdout",
     "output_type": "stream",
     "text": [
      "Journal of Composites has homepage_url and type journal\n"
     ]
    },
    {
     "name": "stderr",
     "output_type": "stream",
     "text": [
      "  9%|██████▎                                                               | 102/1127 [00:48<09:44,  1.75it/s]"
     ]
    },
    {
     "name": "stdout",
     "output_type": "stream",
     "text": [
      "Perspectives in science has homepage_url and type journal\n"
     ]
    },
    {
     "name": "stderr",
     "output_type": "stream",
     "text": [
      "  9%|██████▍                                                               | 103/1127 [00:49<09:11,  1.86it/s]"
     ]
    },
    {
     "name": "stdout",
     "output_type": "stream",
     "text": [
      "Physical review fluids has homepage_url and type journal\n"
     ]
    },
    {
     "name": "stderr",
     "output_type": "stream",
     "text": [
      "  9%|██████▍                                                               | 104/1127 [00:49<09:11,  1.85it/s]"
     ]
    },
    {
     "name": "stdout",
     "output_type": "stream",
     "text": [
      "Journal of Applied Fluid Mechanics has homepage_url and type journal\n"
     ]
    },
    {
     "name": "stderr",
     "output_type": "stream",
     "text": [
      "  9%|██████▌                                                               | 105/1127 [00:50<08:54,  1.91it/s]"
     ]
    },
    {
     "name": "stdout",
     "output_type": "stream",
     "text": [
      "Fuel has homepage_url and type journal\n"
     ]
    },
    {
     "name": "stderr",
     "output_type": "stream",
     "text": [
      "  9%|██████▌                                                               | 106/1127 [00:50<08:23,  2.03it/s]"
     ]
    },
    {
     "name": "stdout",
     "output_type": "stream",
     "text": [
      "Numerical Heat Transfer Part B-fundamentals has homepage_url and type journal\n"
     ]
    },
    {
     "name": "stderr",
     "output_type": "stream",
     "text": [
      "  9%|██████▋                                                               | 107/1127 [00:51<08:01,  2.12it/s]"
     ]
    },
    {
     "name": "stdout",
     "output_type": "stream",
     "text": [
      "Plasma Sources Science and Technology has homepage_url and type journal\n"
     ]
    },
    {
     "name": "stderr",
     "output_type": "stream",
     "text": [
      " 10%|██████▊                                                               | 109/1127 [00:52<08:02,  2.11it/s]"
     ]
    },
    {
     "name": "stdout",
     "output_type": "stream",
     "text": [
      "Physical review has homepage_url and type journal\n"
     ]
    },
    {
     "name": "stderr",
     "output_type": "stream",
     "text": [
      " 10%|██████▊                                                               | 110/1127 [00:52<07:48,  2.17it/s]"
     ]
    },
    {
     "name": "stdout",
     "output_type": "stream",
     "text": [
      "Shock Waves has homepage_url and type journal\n"
     ]
    },
    {
     "name": "stderr",
     "output_type": "stream",
     "text": [
      " 10%|██████▉                                                               | 111/1127 [00:53<08:07,  2.08it/s]"
     ]
    },
    {
     "name": "stdout",
     "output_type": "stream",
     "text": [
      "Sensors has homepage_url and type journal\n"
     ]
    },
    {
     "name": "stderr",
     "output_type": "stream",
     "text": [
      " 10%|██████▉                                                               | 112/1127 [00:53<08:07,  2.08it/s]"
     ]
    },
    {
     "name": "stdout",
     "output_type": "stream",
     "text": [
      "Asian Journal of Control has homepage_url and type journal\n"
     ]
    },
    {
     "name": "stderr",
     "output_type": "stream",
     "text": [
      " 10%|███████                                                               | 114/1127 [00:54<08:01,  2.10it/s]"
     ]
    },
    {
     "name": "stdout",
     "output_type": "stream",
     "text": [
      "Journal of Applied Physics has homepage_url and type journal\n"
     ]
    },
    {
     "name": "stderr",
     "output_type": "stream",
     "text": [
      " 10%|███████▏                                                              | 115/1127 [00:55<08:17,  2.03it/s]"
     ]
    },
    {
     "name": "stdout",
     "output_type": "stream",
     "text": [
      "IEEE/CAA Journal of Automatica Sinica has homepage_url and type journal\n"
     ]
    },
    {
     "name": "stderr",
     "output_type": "stream",
     "text": [
      " 10%|███████▏                                                              | 116/1127 [00:55<08:06,  2.08it/s]"
     ]
    },
    {
     "name": "stdout",
     "output_type": "stream",
     "text": [
      "Journal of Electromagnetic Waves and Applications has homepage_url and type journal\n"
     ]
    },
    {
     "name": "stderr",
     "output_type": "stream",
     "text": [
      " 11%|███████▍                                                              | 120/1127 [00:57<07:35,  2.21it/s]"
     ]
    },
    {
     "name": "stdout",
     "output_type": "stream",
     "text": [
      "Acta Mechanica has homepage_url and type journal\n"
     ]
    },
    {
     "name": "stderr",
     "output_type": "stream",
     "text": [
      " 11%|███████▊                                                              | 125/1127 [00:59<07:38,  2.19it/s]"
     ]
    },
    {
     "name": "stdout",
     "output_type": "stream",
     "text": [
      "Aerospace has homepage_url and type journal\n"
     ]
    },
    {
     "name": "stderr",
     "output_type": "stream",
     "text": [
      " 11%|███████▊                                                              | 126/1127 [01:00<08:00,  2.08it/s]"
     ]
    },
    {
     "name": "stdout",
     "output_type": "stream",
     "text": [
      "ACS Sensors has homepage_url and type journal\n"
     ]
    },
    {
     "name": "stderr",
     "output_type": "stream",
     "text": [
      " 11%|███████▉                                                              | 128/1127 [01:00<07:41,  2.17it/s]"
     ]
    },
    {
     "name": "stdout",
     "output_type": "stream",
     "text": [
      "Optics Letters has homepage_url and type journal\n"
     ]
    },
    {
     "name": "stderr",
     "output_type": "stream",
     "text": [
      " 12%|████████▏                                                             | 132/1127 [01:02<07:37,  2.18it/s]"
     ]
    },
    {
     "name": "stdout",
     "output_type": "stream",
     "text": [
      "Applied Mathematical Modelling has homepage_url and type journal\n"
     ]
    },
    {
     "name": "stderr",
     "output_type": "stream",
     "text": [
      " 12%|████████▎                                                             | 133/1127 [01:03<07:40,  2.16it/s]"
     ]
    },
    {
     "name": "stdout",
     "output_type": "stream",
     "text": [
      "Chinese Physics Letters has homepage_url and type journal\n"
     ]
    },
    {
     "name": "stderr",
     "output_type": "stream",
     "text": [
      " 12%|████████▎                                                             | 134/1127 [01:03<08:18,  1.99it/s]"
     ]
    },
    {
     "name": "stdout",
     "output_type": "stream",
     "text": [
      "Energy has homepage_url and type repository\n"
     ]
    },
    {
     "name": "stderr",
     "output_type": "stream",
     "text": [
      " 12%|████████▍                                                             | 135/1127 [01:04<08:12,  2.01it/s]"
     ]
    },
    {
     "name": "stdout",
     "output_type": "stream",
     "text": [
      "ACS Nano has homepage_url and type journal\n"
     ]
    },
    {
     "name": "stderr",
     "output_type": "stream",
     "text": [
      " 12%|████████▍                                                             | 136/1127 [01:04<08:12,  2.01it/s]"
     ]
    },
    {
     "name": "stdout",
     "output_type": "stream",
     "text": [
      "Sensors and Actuators B: Chemical has homepage_url and type journal\n"
     ]
    },
    {
     "name": "stderr",
     "output_type": "stream",
     "text": [
      " 12%|████████▌                                                             | 138/1127 [01:05<08:25,  1.96it/s]"
     ]
    },
    {
     "name": "stdout",
     "output_type": "stream",
     "text": [
      "Advances in Applied Ceramics has homepage_url and type journal\n"
     ]
    },
    {
     "name": "stderr",
     "output_type": "stream",
     "text": [
      " 12%|████████▋                                                             | 140/1127 [01:06<08:19,  1.98it/s]"
     ]
    },
    {
     "name": "stdout",
     "output_type": "stream",
     "text": [
      "Journal of Aerospace Engineering has homepage_url and type journal\n"
     ]
    },
    {
     "name": "stderr",
     "output_type": "stream",
     "text": [
      " 13%|████████▉                                                             | 143/1127 [01:08<07:37,  2.15it/s]"
     ]
    },
    {
     "name": "stdout",
     "output_type": "stream",
     "text": [
      "Heat Transfer Engineering has homepage_url and type journal\n"
     ]
    },
    {
     "name": "stderr",
     "output_type": "stream",
     "text": [
      " 13%|█████████                                                             | 146/1127 [01:09<07:25,  2.20it/s]"
     ]
    },
    {
     "name": "stdout",
     "output_type": "stream",
     "text": [
      "International Journal of Engineering Systems Modelling and Simulation has homepage_url and type journal\n"
     ]
    },
    {
     "name": "stderr",
     "output_type": "stream",
     "text": [
      " 13%|█████████▏                                                            | 147/1127 [01:10<07:49,  2.09it/s]"
     ]
    },
    {
     "name": "stdout",
     "output_type": "stream",
     "text": [
      "Theoretical and Computational Fluid Dynamics has homepage_url and type journal\n"
     ]
    },
    {
     "name": "stderr",
     "output_type": "stream",
     "text": [
      " 13%|█████████▎                                                            | 150/1127 [01:11<07:41,  2.12it/s]"
     ]
    },
    {
     "name": "stdout",
     "output_type": "stream",
     "text": [
      "Computational Mechanics has homepage_url and type journal\n"
     ]
    },
    {
     "name": "stderr",
     "output_type": "stream",
     "text": [
      " 13%|█████████▍                                                            | 152/1127 [01:12<07:24,  2.19it/s]"
     ]
    },
    {
     "name": "stdout",
     "output_type": "stream",
     "text": [
      "Science China-technological Sciences has homepage_url and type journal\n"
     ]
    },
    {
     "name": "stderr",
     "output_type": "stream",
     "text": [
      " 14%|█████████▌                                                            | 153/1127 [01:12<07:19,  2.22it/s]"
     ]
    },
    {
     "name": "stdout",
     "output_type": "stream",
     "text": [
      "Physical Chemistry Chemical Physics has homepage_url and type journal\n"
     ]
    },
    {
     "name": "stderr",
     "output_type": "stream",
     "text": [
      " 14%|█████████▌                                                            | 154/1127 [01:13<07:10,  2.26it/s]"
     ]
    },
    {
     "name": "stdout",
     "output_type": "stream",
     "text": [
      "International Journal of Impact Engineering has homepage_url and type journal\n"
     ]
    },
    {
     "name": "stderr",
     "output_type": "stream",
     "text": [
      " 14%|█████████▋                                                            | 155/1127 [01:13<07:28,  2.17it/s]"
     ]
    },
    {
     "name": "stdout",
     "output_type": "stream",
     "text": [
      "Brain Research has homepage_url and type journal\n"
     ]
    },
    {
     "name": "stderr",
     "output_type": "stream",
     "text": [
      " 14%|█████████▊                                                            | 157/1127 [01:14<07:06,  2.28it/s]"
     ]
    },
    {
     "name": "stdout",
     "output_type": "stream",
     "text": [
      "Materials Today: Proceedings has homepage_url and type journal\n"
     ]
    },
    {
     "name": "stderr",
     "output_type": "stream",
     "text": [
      " 14%|█████████▊                                                            | 158/1127 [01:15<07:31,  2.14it/s]"
     ]
    },
    {
     "name": "stdout",
     "output_type": "stream",
     "text": [
      "Case Studies in Thermal Engineering has homepage_url and type journal\n"
     ]
    },
    {
     "name": "stderr",
     "output_type": "stream",
     "text": [
      " 14%|█████████▉                                                            | 159/1127 [01:15<07:14,  2.23it/s]"
     ]
    },
    {
     "name": "stdout",
     "output_type": "stream",
     "text": [
      "European Journal of Mechanics - B/Fluids has homepage_url and type journal\n"
     ]
    },
    {
     "name": "stderr",
     "output_type": "stream",
     "text": [
      " 14%|█████████▉                                                            | 160/1127 [01:15<07:02,  2.29it/s]"
     ]
    },
    {
     "name": "stdout",
     "output_type": "stream",
     "text": [
      "Proceedings of the National Academy of Sciences of the United States of America has homepage_url and type journal\n"
     ]
    },
    {
     "name": "stderr",
     "output_type": "stream",
     "text": [
      " 15%|██████████▏                                                           | 164/1127 [01:17<07:05,  2.27it/s]"
     ]
    },
    {
     "name": "stdout",
     "output_type": "stream",
     "text": [
      "IEEE Transactions on Antennas and Propagation has homepage_url and type journal\n"
     ]
    },
    {
     "name": "stderr",
     "output_type": "stream",
     "text": [
      " 15%|██████████▏                                                           | 165/1127 [01:18<07:01,  2.28it/s]"
     ]
    },
    {
     "name": "stdout",
     "output_type": "stream",
     "text": [
      "Physical review applied has homepage_url and type journal\n"
     ]
    },
    {
     "name": "stderr",
     "output_type": "stream",
     "text": [
      " 15%|██████████▍                                                           | 169/1127 [01:20<07:42,  2.07it/s]"
     ]
    },
    {
     "name": "stdout",
     "output_type": "stream",
     "text": [
      "Monthly Notices of the Royal Astronomical Society has homepage_url and type journal\n"
     ]
    },
    {
     "name": "stderr",
     "output_type": "stream",
     "text": [
      " 15%|██████████▌                                                           | 171/1127 [01:20<07:31,  2.12it/s]"
     ]
    },
    {
     "name": "stdout",
     "output_type": "stream",
     "text": [
      "Analysis and Applications has homepage_url and type journal\n"
     ]
    },
    {
     "name": "stderr",
     "output_type": "stream",
     "text": [
      " 16%|██████████▉                                                           | 176/1127 [01:23<06:56,  2.28it/s]"
     ]
    },
    {
     "name": "stdout",
     "output_type": "stream",
     "text": [
      "Journal of Enhanced Heat Transfer has homepage_url and type journal\n"
     ]
    },
    {
     "name": "stderr",
     "output_type": "stream",
     "text": [
      " 16%|███████████                                                           | 178/1127 [01:24<08:11,  1.93it/s]"
     ]
    },
    {
     "name": "stdout",
     "output_type": "stream",
     "text": [
      "Carbon has homepage_url and type journal\n"
     ]
    },
    {
     "name": "stderr",
     "output_type": "stream",
     "text": [
      " 16%|███████████                                                           | 179/1127 [01:24<07:59,  1.98it/s]"
     ]
    },
    {
     "name": "stdout",
     "output_type": "stream",
     "text": [
      "Corrosion Science has homepage_url and type journal\n"
     ]
    },
    {
     "name": "stderr",
     "output_type": "stream",
     "text": [
      " 16%|███████████▏                                                          | 180/1127 [01:25<08:01,  1.97it/s]"
     ]
    },
    {
     "name": "stdout",
     "output_type": "stream",
     "text": [
      "IEEE Sensors Journal has homepage_url and type journal\n"
     ]
    },
    {
     "name": "stderr",
     "output_type": "stream",
     "text": [
      " 16%|███████████▎                                                          | 183/1127 [01:26<07:21,  2.14it/s]"
     ]
    },
    {
     "name": "stdout",
     "output_type": "stream",
     "text": [
      "Procedia Engineering has homepage_url and type journal\n"
     ]
    },
    {
     "name": "stderr",
     "output_type": "stream",
     "text": [
      " 17%|███████████▊                                                          | 190/1127 [01:29<06:49,  2.29it/s]"
     ]
    },
    {
     "name": "stdout",
     "output_type": "stream",
     "text": [
      "Sadhana-academy Proceedings in Engineering Sciences has homepage_url and type journal\n"
     ]
    },
    {
     "name": "stderr",
     "output_type": "stream",
     "text": [
      " 17%|███████████▊                                                          | 191/1127 [01:30<07:30,  2.08it/s]"
     ]
    },
    {
     "name": "stdout",
     "output_type": "stream",
     "text": [
      "Composite Structures has homepage_url and type journal\n"
     ]
    },
    {
     "name": "stderr",
     "output_type": "stream",
     "text": [
      " 17%|███████████▉                                                          | 193/1127 [01:30<06:56,  2.24it/s]"
     ]
    },
    {
     "name": "stdout",
     "output_type": "stream",
     "text": [
      "International Journal of Mechanical Sciences has homepage_url and type journal\n"
     ]
    },
    {
     "name": "stderr",
     "output_type": "stream",
     "text": [
      " 17%|████████████                                                          | 194/1127 [01:31<06:47,  2.29it/s]"
     ]
    },
    {
     "name": "stdout",
     "output_type": "stream",
     "text": [
      "Experimental Thermal and Fluid Science has homepage_url and type journal\n"
     ]
    },
    {
     "name": "stderr",
     "output_type": "stream",
     "text": [
      " 17%|████████████                                                          | 195/1127 [01:31<06:50,  2.27it/s]"
     ]
    },
    {
     "name": "stdout",
     "output_type": "stream",
     "text": [
      "Advances in Space Research has homepage_url and type journal\n"
     ]
    },
    {
     "name": "stderr",
     "output_type": "stream",
     "text": [
      " 17%|████████████▏                                                         | 196/1127 [01:32<06:48,  2.28it/s]"
     ]
    },
    {
     "name": "stdout",
     "output_type": "stream",
     "text": [
      "Procedia IUTAM has homepage_url and type journal\n"
     ]
    },
    {
     "name": "stderr",
     "output_type": "stream",
     "text": [
      " 17%|████████████▏                                                         | 197/1127 [01:32<06:40,  2.32it/s]"
     ]
    },
    {
     "name": "stdout",
     "output_type": "stream",
     "text": [
      "Journal of Computational and Nonlinear Dynamics has homepage_url and type journal\n"
     ]
    },
    {
     "name": "stderr",
     "output_type": "stream",
     "text": [
      " 18%|████████████▎                                                         | 199/1127 [01:33<06:38,  2.33it/s]"
     ]
    },
    {
     "name": "stdout",
     "output_type": "stream",
     "text": [
      "Journal of Thermal Science and Engineering Applications has homepage_url and type journal\n"
     ]
    },
    {
     "name": "stderr",
     "output_type": "stream",
     "text": [
      " 18%|████████████▍                                                         | 200/1127 [01:35<11:40,  1.32it/s]"
     ]
    },
    {
     "name": "stdout",
     "output_type": "stream",
     "text": [
      "Analyst has homepage_url and type journal\n"
     ]
    },
    {
     "name": "stderr",
     "output_type": "stream",
     "text": [
      " 18%|████████████▍                                                         | 201/1127 [01:35<10:39,  1.45it/s]"
     ]
    },
    {
     "name": "stdout",
     "output_type": "stream",
     "text": [
      "Flow Measurement and Instrumentation has homepage_url and type journal\n"
     ]
    },
    {
     "name": "stderr",
     "output_type": "stream",
     "text": [
      " 18%|████████████▋                                                         | 204/1127 [01:36<07:56,  1.94it/s]"
     ]
    },
    {
     "name": "stdout",
     "output_type": "stream",
     "text": [
      "IEEE Transactions on Magnetics has homepage_url and type journal\n"
     ]
    },
    {
     "name": "stderr",
     "output_type": "stream",
     "text": [
      " 18%|████████████▊                                                         | 207/1127 [01:38<06:58,  2.20it/s]"
     ]
    },
    {
     "name": "stdout",
     "output_type": "stream",
     "text": [
      "Journal of large-scale research facilities JLSRF has homepage_url and type journal\n"
     ]
    },
    {
     "name": "stderr",
     "output_type": "stream",
     "text": [
      " 19%|████████████▉                                                         | 209/1127 [01:38<06:39,  2.30it/s]"
     ]
    },
    {
     "name": "stdout",
     "output_type": "stream",
     "text": [
      "Journal of Alloys and Compounds has homepage_url and type journal\n"
     ]
    },
    {
     "name": "stderr",
     "output_type": "stream",
     "text": [
      " 19%|█████████████                                                         | 210/1127 [01:39<06:47,  2.25it/s]"
     ]
    },
    {
     "name": "stdout",
     "output_type": "stream",
     "text": [
      "Ultrasonics has homepage_url and type journal\n"
     ]
    },
    {
     "name": "stderr",
     "output_type": "stream",
     "text": [
      " 19%|█████████████▏                                                        | 213/1127 [01:40<06:47,  2.24it/s]"
     ]
    },
    {
     "name": "stdout",
     "output_type": "stream",
     "text": [
      "PLOS ONE has homepage_url and type journal\n"
     ]
    },
    {
     "name": "stderr",
     "output_type": "stream",
     "text": [
      " 19%|█████████████▎                                                        | 215/1127 [01:41<06:34,  2.31it/s]"
     ]
    },
    {
     "name": "stdout",
     "output_type": "stream",
     "text": [
      "Ceramics International has homepage_url and type journal\n"
     ]
    },
    {
     "name": "stderr",
     "output_type": "stream",
     "text": [
      " 19%|█████████████▍                                                        | 216/1127 [01:42<06:50,  2.22it/s]"
     ]
    },
    {
     "name": "stdout",
     "output_type": "stream",
     "text": [
      "European Journal of Control has homepage_url and type journal\n"
     ]
    },
    {
     "name": "stderr",
     "output_type": "stream",
     "text": [
      " 19%|█████████████▌                                                        | 219/1127 [01:43<06:26,  2.35it/s]"
     ]
    },
    {
     "name": "stdout",
     "output_type": "stream",
     "text": [
      "IEEE Transactions on Geoscience and Remote Sensing has homepage_url and type journal\n"
     ]
    },
    {
     "name": "stderr",
     "output_type": "stream",
     "text": [
      " 20%|█████████████▋                                                        | 220/1127 [01:43<06:35,  2.29it/s]"
     ]
    },
    {
     "name": "stdout",
     "output_type": "stream",
     "text": [
      "IEEE Access has homepage_url and type journal\n"
     ]
    },
    {
     "name": "stderr",
     "output_type": "stream",
     "text": [
      " 20%|█████████████▊                                                        | 222/1127 [01:44<06:30,  2.32it/s]"
     ]
    },
    {
     "name": "stdout",
     "output_type": "stream",
     "text": [
      "New Journal of Physics has homepage_url and type journal\n"
     ]
    },
    {
     "name": "stderr",
     "output_type": "stream",
     "text": [
      " 20%|██████████████                                                        | 226/1127 [01:46<07:16,  2.06it/s]"
     ]
    },
    {
     "name": "stdout",
     "output_type": "stream",
     "text": [
      "International Journal of Aerospace Engineering has homepage_url and type journal\n"
     ]
    },
    {
     "name": "stderr",
     "output_type": "stream",
     "text": [
      " 20%|██████████████                                                        | 227/1127 [01:47<07:05,  2.12it/s]"
     ]
    },
    {
     "name": "stdout",
     "output_type": "stream",
     "text": [
      "Progress in Computational Fluid Dynamics has homepage_url and type journal\n"
     ]
    },
    {
     "name": "stderr",
     "output_type": "stream",
     "text": [
      " 20%|██████████████▏                                                       | 228/1127 [01:47<06:51,  2.18it/s]"
     ]
    },
    {
     "name": "stdout",
     "output_type": "stream",
     "text": [
      "Brazilian Journal of Physics has homepage_url and type journal\n"
     ]
    },
    {
     "name": "stderr",
     "output_type": "stream",
     "text": [
      " 20%|██████████████▎                                                       | 231/1127 [01:48<06:33,  2.28it/s]"
     ]
    },
    {
     "name": "stdout",
     "output_type": "stream",
     "text": [
      "Journal of Astronautics has homepage_url and type journal\n"
     ]
    },
    {
     "name": "stderr",
     "output_type": "stream",
     "text": [
      " 21%|██████████████▍                                                       | 232/1127 [01:49<06:26,  2.32it/s]"
     ]
    },
    {
     "name": "stdout",
     "output_type": "stream",
     "text": [
      "Iet Radar Sonar and Navigation has homepage_url and type journal\n"
     ]
    },
    {
     "name": "stderr",
     "output_type": "stream",
     "text": [
      " 21%|██████████████▍                                                       | 233/1127 [01:49<06:34,  2.27it/s]"
     ]
    },
    {
     "name": "stdout",
     "output_type": "stream",
     "text": [
      "Journal of microelectromechanical systems has homepage_url and type journal\n"
     ]
    },
    {
     "name": "stderr",
     "output_type": "stream",
     "text": [
      " 21%|██████████████▌                                                       | 234/1127 [01:50<07:03,  2.11it/s]"
     ]
    },
    {
     "name": "stdout",
     "output_type": "stream",
     "text": [
      "Propulsion and Power Research has homepage_url and type journal\n"
     ]
    },
    {
     "name": "stderr",
     "output_type": "stream",
     "text": [
      " 21%|██████████████▌                                                       | 235/1127 [01:50<06:49,  2.18it/s]"
     ]
    },
    {
     "name": "stdout",
     "output_type": "stream",
     "text": [
      "Quantitative InfraRed Thermography has homepage_url and type journal\n"
     ]
    },
    {
     "name": "stderr",
     "output_type": "stream",
     "text": [
      " 21%|██████████████▋                                                       | 236/1127 [01:51<06:31,  2.28it/s]"
     ]
    },
    {
     "name": "stdout",
     "output_type": "stream",
     "text": [
      "Journal of Aerosol Science has homepage_url and type journal\n"
     ]
    },
    {
     "name": "stderr",
     "output_type": "stream",
     "text": [
      " 21%|██████████████▋                                                       | 237/1127 [01:51<06:23,  2.32it/s]"
     ]
    },
    {
     "name": "stdout",
     "output_type": "stream",
     "text": [
      "Engineering Applications of Computational Fluid Mechanics has homepage_url and type journal\n"
     ]
    },
    {
     "name": "stderr",
     "output_type": "stream",
     "text": [
      " 22%|███████████████                                                       | 243/1127 [01:54<06:39,  2.21it/s]"
     ]
    },
    {
     "name": "stdout",
     "output_type": "stream",
     "text": [
      "Energies has homepage_url and type journal\n"
     ]
    },
    {
     "name": "stderr",
     "output_type": "stream",
     "text": [
      " 22%|███████████████▏                                                      | 244/1127 [01:54<06:42,  2.19it/s]"
     ]
    },
    {
     "name": "stdout",
     "output_type": "stream",
     "text": [
      "Scientific Reports has homepage_url and type journal\n"
     ]
    },
    {
     "name": "stderr",
     "output_type": "stream",
     "text": [
      " 22%|███████████████▏                                                      | 245/1127 [01:55<07:19,  2.01it/s]"
     ]
    },
    {
     "name": "stdout",
     "output_type": "stream",
     "text": [
      "Optics and Lasers in Engineering has homepage_url and type journal\n"
     ]
    },
    {
     "name": "stderr",
     "output_type": "stream",
     "text": [
      " 22%|███████████████▎                                                      | 246/1127 [01:55<07:06,  2.07it/s]"
     ]
    },
    {
     "name": "stdout",
     "output_type": "stream",
     "text": [
      "Advances in Aerodynamics has homepage_url and type journal\n"
     ]
    },
    {
     "name": "stderr",
     "output_type": "stream",
     "text": [
      " 22%|███████████████▎                                                      | 247/1127 [01:56<06:52,  2.14it/s]"
     ]
    },
    {
     "name": "stdout",
     "output_type": "stream",
     "text": [
      "Mechanics of Advanced Materials and Structures has homepage_url and type journal\n"
     ]
    },
    {
     "name": "stderr",
     "output_type": "stream",
     "text": [
      " 22%|███████████████▍                                                      | 248/1127 [01:56<06:39,  2.20it/s]"
     ]
    },
    {
     "name": "stdout",
     "output_type": "stream",
     "text": [
      "Mechanics Research Communications has homepage_url and type journal\n"
     ]
    },
    {
     "name": "stderr",
     "output_type": "stream",
     "text": [
      " 22%|███████████████▌                                                      | 251/1127 [01:57<06:36,  2.21it/s]"
     ]
    },
    {
     "name": "stdout",
     "output_type": "stream",
     "text": [
      "Applied sciences has homepage_url and type journal\n"
     ]
    },
    {
     "name": "stderr",
     "output_type": "stream",
     "text": [
      " 22%|███████████████▋                                                      | 252/1127 [01:58<06:36,  2.21it/s]"
     ]
    },
    {
     "name": "stdout",
     "output_type": "stream",
     "text": [
      "Mathematics and Computers in Simulation has homepage_url and type journal\n"
     ]
    },
    {
     "name": "stderr",
     "output_type": "stream",
     "text": [
      " 22%|███████████████▋                                                      | 253/1127 [01:58<06:31,  2.23it/s]"
     ]
    },
    {
     "name": "stdout",
     "output_type": "stream",
     "text": [
      "Journal of engineering for gas turbines and power has homepage_url and type journal\n"
     ]
    },
    {
     "name": "stderr",
     "output_type": "stream",
     "text": [
      " 23%|███████████████▊                                                      | 254/1127 [01:59<06:39,  2.19it/s]"
     ]
    },
    {
     "name": "stdout",
     "output_type": "stream",
     "text": [
      "Planetary and Space Science has homepage_url and type journal\n"
     ]
    },
    {
     "name": "stderr",
     "output_type": "stream",
     "text": [
      " 23%|███████████████▊                                                      | 255/1127 [01:59<06:40,  2.18it/s]"
     ]
    },
    {
     "name": "stdout",
     "output_type": "stream",
     "text": [
      "Proceedings of SPIE has homepage_url and type journal\n"
     ]
    },
    {
     "name": "stderr",
     "output_type": "stream",
     "text": [
      " 23%|███████████████▉                                                      | 256/1127 [02:00<07:07,  2.04it/s]"
     ]
    },
    {
     "name": "stdout",
     "output_type": "stream",
     "text": [
      "Engineering Optimization has homepage_url and type journal\n"
     ]
    },
    {
     "name": "stderr",
     "output_type": "stream",
     "text": [
      " 23%|████████████████                                                      | 259/1127 [02:01<06:13,  2.32it/s]"
     ]
    },
    {
     "name": "stdout",
     "output_type": "stream",
     "text": [
      "IEEE Aerospace and Electronic Systems Magazine has homepage_url and type journal\n"
     ]
    },
    {
     "name": "stderr",
     "output_type": "stream",
     "text": [
      " 23%|████████████████▏                                                     | 260/1127 [02:01<06:09,  2.35it/s]"
     ]
    },
    {
     "name": "stdout",
     "output_type": "stream",
     "text": [
      "Journal of Applied Mathematics and Mechanics has homepage_url and type journal\n"
     ]
    },
    {
     "name": "stderr",
     "output_type": "stream",
     "text": [
      " 23%|████████████████▏                                                     | 261/1127 [02:02<06:26,  2.24it/s]"
     ]
    },
    {
     "name": "stdout",
     "output_type": "stream",
     "text": [
      "Journal of Navigation has homepage_url and type journal\n"
     ]
    },
    {
     "name": "stderr",
     "output_type": "stream",
     "text": [
      " 23%|████████████████▎                                                     | 262/1127 [02:02<06:32,  2.20it/s]"
     ]
    },
    {
     "name": "stdout",
     "output_type": "stream",
     "text": [
      "Transactions of the Institute of Measurement and Control has homepage_url and type journal\n"
     ]
    },
    {
     "name": "stderr",
     "output_type": "stream",
     "text": [
      " 23%|████████████████▎                                                     | 263/1127 [02:03<06:40,  2.16it/s]"
     ]
    },
    {
     "name": "stdout",
     "output_type": "stream",
     "text": [
      "Fluids has homepage_url and type journal\n"
     ]
    },
    {
     "name": "stderr",
     "output_type": "stream",
     "text": [
      " 23%|████████████████▍                                                     | 264/1127 [02:03<06:34,  2.19it/s]"
     ]
    },
    {
     "name": "stdout",
     "output_type": "stream",
     "text": [
      "IEEE Transactions on Industrial Informatics has homepage_url and type journal\n"
     ]
    },
    {
     "name": "stderr",
     "output_type": "stream",
     "text": [
      " 24%|████████████████▍                                                     | 265/1127 [02:04<06:37,  2.17it/s]"
     ]
    },
    {
     "name": "stdout",
     "output_type": "stream",
     "text": [
      "International Journal of Computational Fluid Dynamics has homepage_url and type journal\n"
     ]
    },
    {
     "name": "stderr",
     "output_type": "stream",
     "text": [
      " 24%|████████████████▊                                                     | 271/1127 [02:06<06:24,  2.23it/s]"
     ]
    },
    {
     "name": "stdout",
     "output_type": "stream",
     "text": [
      "International Journal of Advanced Robotic Systems has homepage_url and type journal\n"
     ]
    },
    {
     "name": "stderr",
     "output_type": "stream",
     "text": [
      " 24%|████████████████▉                                                     | 272/1127 [02:07<06:35,  2.16it/s]"
     ]
    },
    {
     "name": "stdout",
     "output_type": "stream",
     "text": [
      "Advanced Engineering Materials has homepage_url and type journal\n"
     ]
    },
    {
     "name": "stderr",
     "output_type": "stream",
     "text": [
      " 24%|████████████████▉                                                     | 273/1127 [02:07<06:17,  2.26it/s]"
     ]
    },
    {
     "name": "stdout",
     "output_type": "stream",
     "text": [
      "Technological Forecasting and Social Change has homepage_url and type journal\n"
     ]
    },
    {
     "name": "stderr",
     "output_type": "stream",
     "text": [
      " 24%|█████████████████                                                     | 275/1127 [02:08<06:18,  2.25it/s]"
     ]
    },
    {
     "name": "stdout",
     "output_type": "stream",
     "text": [
      "Frontiers in Physics has homepage_url and type journal\n"
     ]
    },
    {
     "name": "stderr",
     "output_type": "stream",
     "text": [
      " 24%|█████████████████▏                                                    | 276/1127 [02:09<06:19,  2.24it/s]"
     ]
    },
    {
     "name": "stdout",
     "output_type": "stream",
     "text": [
      "Survival has homepage_url and type journal\n"
     ]
    },
    {
     "name": "stderr",
     "output_type": "stream",
     "text": [
      " 25%|█████████████████▎                                                    | 278/1127 [02:10<06:55,  2.04it/s]"
     ]
    },
    {
     "name": "stdout",
     "output_type": "stream",
     "text": [
      "Polymer Composites has homepage_url and type journal\n"
     ]
    },
    {
     "name": "stderr",
     "output_type": "stream",
     "text": [
      " 25%|█████████████████▍                                                    | 281/1127 [02:11<06:40,  2.11it/s]"
     ]
    },
    {
     "name": "stdout",
     "output_type": "stream",
     "text": [
      "Mathematical and Computer Modelling has homepage_url and type journal\n"
     ]
    },
    {
     "name": "stderr",
     "output_type": "stream",
     "text": [
      " 25%|█████████████████▌                                                    | 282/1127 [02:12<06:28,  2.17it/s]"
     ]
    },
    {
     "name": "stdout",
     "output_type": "stream",
     "text": [
      "Journal of aerospace information systems has homepage_url and type journal\n"
     ]
    },
    {
     "name": "stderr",
     "output_type": "stream",
     "text": [
      " 25%|█████████████████▌                                                    | 283/1127 [02:12<06:27,  2.18it/s]"
     ]
    },
    {
     "name": "stdout",
     "output_type": "stream",
     "text": [
      "Modern Physics Letters A has homepage_url and type journal\n"
     ]
    },
    {
     "name": "stderr",
     "output_type": "stream",
     "text": [
      " 25%|█████████████████▋                                                    | 284/1127 [02:12<06:25,  2.19it/s]"
     ]
    },
    {
     "name": "stdout",
     "output_type": "stream",
     "text": [
      "Physica Status Solidi (rrl) has homepage_url and type journal\n"
     ]
    },
    {
     "name": "stderr",
     "output_type": "stream",
     "text": [
      " 26%|█████████████████▉                                                    | 288/1127 [02:14<06:13,  2.25it/s]"
     ]
    },
    {
     "name": "stdout",
     "output_type": "stream",
     "text": [
      "International Journal of Antennas and Propagation has homepage_url and type journal\n"
     ]
    },
    {
     "name": "stderr",
     "output_type": "stream",
     "text": [
      " 26%|█████████████████▉                                                    | 289/1127 [02:15<06:30,  2.14it/s]"
     ]
    },
    {
     "name": "stdout",
     "output_type": "stream",
     "text": [
      "Materials Chemistry Frontiers has homepage_url and type journal\n"
     ]
    },
    {
     "name": "stderr",
     "output_type": "stream",
     "text": [
      " 26%|██████████████████                                                    | 290/1127 [02:15<06:12,  2.25it/s]"
     ]
    },
    {
     "name": "stdout",
     "output_type": "stream",
     "text": [
      "Aircraft Engineering and Aerospace Technology has homepage_url and type journal\n"
     ]
    },
    {
     "name": "stderr",
     "output_type": "stream",
     "text": [
      " 26%|██████████████████                                                    | 291/1127 [02:16<06:25,  2.17it/s]"
     ]
    },
    {
     "name": "stdout",
     "output_type": "stream",
     "text": [
      "Remote Sensing has homepage_url and type journal\n"
     ]
    },
    {
     "name": "stderr",
     "output_type": "stream",
     "text": [
      " 26%|██████████████████▏                                                   | 292/1127 [02:16<06:15,  2.22it/s]"
     ]
    },
    {
     "name": "stdout",
     "output_type": "stream",
     "text": [
      "Thermal Science and Engineering Progress has homepage_url and type journal\n"
     ]
    },
    {
     "name": "stderr",
     "output_type": "stream",
     "text": [
      " 26%|██████████████████▏                                                   | 293/1127 [02:17<06:05,  2.28it/s]"
     ]
    },
    {
     "name": "stdout",
     "output_type": "stream",
     "text": [
      "Physical review research has homepage_url and type journal\n"
     ]
    },
    {
     "name": "stderr",
     "output_type": "stream",
     "text": [
      " 26%|██████████████████▎                                                   | 294/1127 [02:17<06:06,  2.27it/s]"
     ]
    },
    {
     "name": "stdout",
     "output_type": "stream",
     "text": [
      "Engineering Applications of Artificial Intelligence has homepage_url and type journal\n"
     ]
    },
    {
     "name": "stderr",
     "output_type": "stream",
     "text": [
      " 26%|██████████████████▎                                                   | 295/1127 [02:17<05:59,  2.31it/s]"
     ]
    },
    {
     "name": "stdout",
     "output_type": "stream",
     "text": [
      "TsAGI science journal has homepage_url and type journal\n"
     ]
    },
    {
     "name": "stderr",
     "output_type": "stream",
     "text": [
      " 26%|██████████████████▍                                                   | 297/1127 [02:18<06:02,  2.29it/s]"
     ]
    },
    {
     "name": "stdout",
     "output_type": "stream",
     "text": [
      "Procedia Computer Science has homepage_url and type journal\n"
     ]
    },
    {
     "name": "stderr",
     "output_type": "stream",
     "text": [
      " 26%|██████████████████▌                                                   | 298/1127 [02:19<05:56,  2.32it/s]"
     ]
    },
    {
     "name": "stdout",
     "output_type": "stream",
     "text": [
      "International Journal of Applied Ceramic Technology has homepage_url and type journal\n"
     ]
    },
    {
     "name": "stderr",
     "output_type": "stream",
     "text": [
      " 27%|██████████████████▋                                                   | 300/1127 [02:20<06:30,  2.12it/s]"
     ]
    },
    {
     "name": "stdout",
     "output_type": "stream",
     "text": [
      "Composites Part A: Applied Science and Manufacturing has homepage_url and type journal\n"
     ]
    },
    {
     "name": "stderr",
     "output_type": "stream",
     "text": [
      " 27%|██████████████████▋                                                   | 301/1127 [02:20<06:23,  2.15it/s]"
     ]
    },
    {
     "name": "stdout",
     "output_type": "stream",
     "text": [
      "Applied Optics has homepage_url and type journal\n"
     ]
    },
    {
     "name": "stderr",
     "output_type": "stream",
     "text": [
      " 27%|██████████████████▊                                                   | 302/1127 [02:21<06:17,  2.19it/s]"
     ]
    },
    {
     "name": "stdout",
     "output_type": "stream",
     "text": [
      "Applied Acoustics has homepage_url and type journal\n"
     ]
    },
    {
     "name": "stderr",
     "output_type": "stream",
     "text": [
      " 27%|██████████████████▉                                                   | 304/1127 [02:21<06:05,  2.25it/s]"
     ]
    },
    {
     "name": "stdout",
     "output_type": "stream",
     "text": [
      "Optical Engineering has homepage_url and type journal\n"
     ]
    },
    {
     "name": "stderr",
     "output_type": "stream",
     "text": [
      " 27%|██████████████████▉                                                   | 305/1127 [02:22<06:03,  2.26it/s]"
     ]
    },
    {
     "name": "stdout",
     "output_type": "stream",
     "text": [
      "Applied Mechanics and Materials has homepage_url and type journal\n"
     ]
    },
    {
     "name": "stderr",
     "output_type": "stream",
     "text": [
      " 27%|███████████████████                                                   | 307/1127 [02:23<06:04,  2.25it/s]"
     ]
    },
    {
     "name": "stdout",
     "output_type": "stream",
     "text": [
      "Progress of Theoretical and Experimental Physics has homepage_url and type journal\n"
     ]
    },
    {
     "name": "stderr",
     "output_type": "stream",
     "text": [
      " 27%|███████████████████▏                                                  | 309/1127 [02:24<06:06,  2.23it/s]"
     ]
    },
    {
     "name": "stdout",
     "output_type": "stream",
     "text": [
      "International Journal of Structural Stability and Dynamics has homepage_url and type journal\n"
     ]
    },
    {
     "name": "stderr",
     "output_type": "stream",
     "text": [
      " 28%|███████████████████▍                                                  | 312/1127 [02:25<06:35,  2.06it/s]"
     ]
    },
    {
     "name": "stdout",
     "output_type": "stream",
     "text": [
      "Journal of Differential Equations has homepage_url and type journal\n"
     ]
    },
    {
     "name": "stderr",
     "output_type": "stream",
     "text": [
      " 28%|███████████████████▍                                                  | 313/1127 [02:26<06:22,  2.13it/s]"
     ]
    },
    {
     "name": "stdout",
     "output_type": "stream",
     "text": [
      "CEAS Aeronautical Journal has homepage_url and type journal\n"
     ]
    },
    {
     "name": "stderr",
     "output_type": "stream",
     "text": [
      " 28%|███████████████████▌                                                  | 314/1127 [02:26<06:16,  2.16it/s]"
     ]
    },
    {
     "name": "stdout",
     "output_type": "stream",
     "text": [
      "Journal of Intelligent Manufacturing has homepage_url and type journal\n"
     ]
    },
    {
     "name": "stderr",
     "output_type": "stream",
     "text": [
      " 28%|███████████████████▋                                                  | 317/1127 [02:27<06:08,  2.20it/s]"
     ]
    },
    {
     "name": "stdout",
     "output_type": "stream",
     "text": [
      "Mathematical Problems in Engineering has homepage_url and type journal\n"
     ]
    },
    {
     "name": "stderr",
     "output_type": "stream",
     "text": [
      " 28%|███████████████████▊                                                  | 318/1127 [02:28<05:48,  2.32it/s]"
     ]
    },
    {
     "name": "stdout",
     "output_type": "stream",
     "text": [
      "Studies in Surface Science and Catalysis has homepage_url and type book series\n"
     ]
    },
    {
     "name": "stderr",
     "output_type": "stream",
     "text": [
      " 28%|███████████████████▊                                                  | 319/1127 [02:28<05:43,  2.35it/s]"
     ]
    },
    {
     "name": "stdout",
     "output_type": "stream",
     "text": [
      "Lecture Notes in Computer Science has homepage_url and type book series\n"
     ]
    },
    {
     "name": "stderr",
     "output_type": "stream",
     "text": [
      " 28%|███████████████████▉                                                  | 321/1127 [02:29<05:43,  2.35it/s]"
     ]
    },
    {
     "name": "stdout",
     "output_type": "stream",
     "text": [
      "Applied Mathematics and Computation has homepage_url and type journal\n"
     ]
    },
    {
     "name": "stderr",
     "output_type": "stream",
     "text": [
      " 29%|████████████████████                                                  | 322/1127 [02:30<06:09,  2.18it/s]"
     ]
    },
    {
     "name": "stdout",
     "output_type": "stream",
     "text": [
      "Ima Journal of Applied Mathematics has homepage_url and type journal\n"
     ]
    },
    {
     "name": "stderr",
     "output_type": "stream",
     "text": [
      " 29%|████████████████████▏                                                 | 325/1127 [02:31<06:01,  2.22it/s]"
     ]
    },
    {
     "name": "stdout",
     "output_type": "stream",
     "text": [
      "Spectrochimica Acta Part B: Atomic Spectroscopy has homepage_url and type journal\n"
     ]
    },
    {
     "name": "stderr",
     "output_type": "stream",
     "text": [
      " 29%|████████████████████▏                                                 | 326/1127 [02:31<05:57,  2.24it/s]"
     ]
    },
    {
     "name": "stdout",
     "output_type": "stream",
     "text": [
      "High Energy Density Physics has homepage_url and type journal\n"
     ]
    },
    {
     "name": "stderr",
     "output_type": "stream",
     "text": [
      " 29%|████████████████████▎                                                 | 327/1127 [02:32<06:07,  2.18it/s]"
     ]
    },
    {
     "name": "stdout",
     "output_type": "stream",
     "text": [
      "Simulation has homepage_url and type journal\n"
     ]
    },
    {
     "name": "stderr",
     "output_type": "stream",
     "text": [
      " 29%|████████████████████▎                                                 | 328/1127 [02:32<06:10,  2.15it/s]"
     ]
    },
    {
     "name": "stdout",
     "output_type": "stream",
     "text": [
      "Notes on numerical fluid mechanics and multidisciplinary design has homepage_url and type book series\n"
     ]
    },
    {
     "name": "stderr",
     "output_type": "stream",
     "text": [
      " 29%|████████████████████▍                                                 | 329/1127 [02:33<05:58,  2.23it/s]"
     ]
    },
    {
     "name": "stdout",
     "output_type": "stream",
     "text": [
      "IFAC-PapersOnLine has homepage_url and type journal\n"
     ]
    },
    {
     "name": "stderr",
     "output_type": "stream",
     "text": [
      " 29%|████████████████████▍                                                 | 330/1127 [02:33<05:49,  2.28it/s]"
     ]
    },
    {
     "name": "stdout",
     "output_type": "stream",
     "text": [
      "Journal of Physics D has homepage_url and type journal\n"
     ]
    },
    {
     "name": "stderr",
     "output_type": "stream",
     "text": [
      " 29%|████████████████████▌                                                 | 331/1127 [02:34<05:56,  2.24it/s]"
     ]
    },
    {
     "name": "stdout",
     "output_type": "stream",
     "text": [
      "Contributions To Plasma Physics has homepage_url and type journal\n"
     ]
    },
    {
     "name": "stderr",
     "output_type": "stream",
     "text": [
      " 30%|████████████████████▋                                                 | 333/1127 [02:35<06:18,  2.10it/s]"
     ]
    },
    {
     "name": "stdout",
     "output_type": "stream",
     "text": [
      "Journal of Molecular Liquids has homepage_url and type journal\n"
     ]
    },
    {
     "name": "stderr",
     "output_type": "stream",
     "text": [
      " 30%|████████████████████▋                                                 | 334/1127 [02:35<06:24,  2.06it/s]"
     ]
    },
    {
     "name": "stdout",
     "output_type": "stream",
     "text": [
      "International Journal of Automation and Computing has homepage_url and type journal\n"
     ]
    },
    {
     "name": "stderr",
     "output_type": "stream",
     "text": [
      " 30%|████████████████████▊                                                 | 335/1127 [02:36<06:14,  2.12it/s]"
     ]
    },
    {
     "name": "stdout",
     "output_type": "stream",
     "text": [
      "The Scientific World Journal has homepage_url and type journal\n"
     ]
    },
    {
     "name": "stderr",
     "output_type": "stream",
     "text": [
      " 30%|████████████████████▊                                                 | 336/1127 [02:36<06:11,  2.13it/s]"
     ]
    },
    {
     "name": "stdout",
     "output_type": "stream",
     "text": [
      "Nuclear Instruments and Methods in Physics Research Section B: Beam Interactions with Materials and Atoms has homepage_url and type journal\n"
     ]
    },
    {
     "name": "stderr",
     "output_type": "stream",
     "text": [
      " 30%|████████████████████▉                                                 | 337/1127 [02:36<06:02,  2.18it/s]"
     ]
    },
    {
     "name": "stdout",
     "output_type": "stream",
     "text": [
      "Advances in Mechanical Engineering has homepage_url and type journal\n"
     ]
    },
    {
     "name": "stderr",
     "output_type": "stream",
     "text": [
      " 30%|████████████████████▉                                                 | 338/1127 [02:37<06:16,  2.09it/s]"
     ]
    },
    {
     "name": "stdout",
     "output_type": "stream",
     "text": [
      "Vacuum has homepage_url and type journal\n"
     ]
    },
    {
     "name": "stderr",
     "output_type": "stream",
     "text": [
      " 30%|█████████████████████                                                 | 339/1127 [02:37<06:22,  2.06it/s]"
     ]
    },
    {
     "name": "stdout",
     "output_type": "stream",
     "text": [
      "The International Journal of Multiphysics has homepage_url and type journal\n"
     ]
    },
    {
     "name": "stderr",
     "output_type": "stream",
     "text": [
      " 30%|█████████████████████                                                 | 340/1127 [02:38<06:17,  2.09it/s]"
     ]
    },
    {
     "name": "stdout",
     "output_type": "stream",
     "text": [
      "Physics Letters has homepage_url and type journal\n"
     ]
    },
    {
     "name": "stderr",
     "output_type": "stream",
     "text": [
      " 30%|█████████████████████▏                                                | 341/1127 [02:38<06:18,  2.07it/s]"
     ]
    },
    {
     "name": "stdout",
     "output_type": "stream",
     "text": [
      "Astronomy and Astrophysics has homepage_url and type journal\n"
     ]
    },
    {
     "name": "stderr",
     "output_type": "stream",
     "text": [
      " 30%|█████████████████████▏                                                | 342/1127 [02:39<06:11,  2.11it/s]"
     ]
    },
    {
     "name": "stdout",
     "output_type": "stream",
     "text": [
      "Journal of physics has homepage_url and type journal\n"
     ]
    },
    {
     "name": "stderr",
     "output_type": "stream",
     "text": [
      " 30%|█████████████████████▎                                                | 343/1127 [02:39<06:29,  2.01it/s]"
     ]
    },
    {
     "name": "stdout",
     "output_type": "stream",
     "text": [
      "International Journal of Damage Mechanics has homepage_url and type journal\n"
     ]
    },
    {
     "name": "stderr",
     "output_type": "stream",
     "text": [
      " 31%|█████████████████████▎                                                | 344/1127 [02:40<06:09,  2.12it/s]"
     ]
    },
    {
     "name": "stdout",
     "output_type": "stream",
     "text": [
      "Earth’s Future has homepage_url and type journal\n"
     ]
    },
    {
     "name": "stderr",
     "output_type": "stream",
     "text": [
      " 31%|█████████████████████▋                                                | 350/1127 [02:42<05:34,  2.32it/s]"
     ]
    },
    {
     "name": "stdout",
     "output_type": "stream",
     "text": [
      "Diamond and Related Materials has homepage_url and type journal\n"
     ]
    },
    {
     "name": "stderr",
     "output_type": "stream",
     "text": [
      " 31%|█████████████████████▊                                                | 351/1127 [02:43<05:35,  2.31it/s]"
     ]
    },
    {
     "name": "stdout",
     "output_type": "stream",
     "text": [
      "Modern Physics Letters B has homepage_url and type journal\n"
     ]
    },
    {
     "name": "stderr",
     "output_type": "stream",
     "text": [
      " 31%|█████████████████████▊                                                | 352/1127 [02:43<05:37,  2.30it/s]"
     ]
    },
    {
     "name": "stdout",
     "output_type": "stream",
     "text": [
      "Theoretical and Applied Mechanics Letters has homepage_url and type journal\n"
     ]
    },
    {
     "name": "stderr",
     "output_type": "stream",
     "text": [
      " 32%|██████████████████████▏                                               | 357/1127 [02:46<05:52,  2.18it/s]"
     ]
    },
    {
     "name": "stdout",
     "output_type": "stream",
     "text": [
      "Metrology and Measurement Systems has homepage_url and type journal\n"
     ]
    },
    {
     "name": "stderr",
     "output_type": "stream",
     "text": [
      " 32%|██████████████████████▎                                               | 359/1127 [02:47<05:55,  2.16it/s]"
     ]
    },
    {
     "name": "stdout",
     "output_type": "stream",
     "text": [
      "Current Opinion in Ophthalmology has homepage_url and type journal\n"
     ]
    },
    {
     "name": "stderr",
     "output_type": "stream",
     "text": [
      " 32%|██████████████████████▎                                               | 360/1127 [02:47<05:49,  2.19it/s]"
     ]
    },
    {
     "name": "stdout",
     "output_type": "stream",
     "text": [
      "International Journal of Aeronautical and Space Sciences has homepage_url and type journal\n"
     ]
    },
    {
     "name": "stderr",
     "output_type": "stream",
     "text": [
      " 32%|██████████████████████▍                                               | 361/1127 [02:48<06:20,  2.01it/s]"
     ]
    },
    {
     "name": "stdout",
     "output_type": "stream",
     "text": [
      "Processes has homepage_url and type journal\n"
     ]
    },
    {
     "name": "stderr",
     "output_type": "stream",
     "text": [
      " 32%|██████████████████████▌                                               | 363/1127 [02:49<06:03,  2.10it/s]"
     ]
    },
    {
     "name": "stdout",
     "output_type": "stream",
     "text": [
      "Results in Physics has homepage_url and type journal\n"
     ]
    },
    {
     "name": "stderr",
     "output_type": "stream",
     "text": [
      " 32%|██████████████████████▋                                               | 366/1127 [02:50<06:04,  2.09it/s]"
     ]
    },
    {
     "name": "stdout",
     "output_type": "stream",
     "text": [
      "Defence Science Journal has homepage_url and type journal\n"
     ]
    },
    {
     "name": "stderr",
     "output_type": "stream",
     "text": [
      " 33%|██████████████████████▊                                               | 367/1127 [02:50<05:50,  2.17it/s]"
     ]
    },
    {
     "name": "stdout",
     "output_type": "stream",
     "text": [
      "Journal of Zhejiang University-SCIENCE A has homepage_url and type journal\n"
     ]
    },
    {
     "name": "stderr",
     "output_type": "stream",
     "text": [
      " 33%|███████████████████████                                               | 371/1127 [02:52<05:27,  2.31it/s]"
     ]
    },
    {
     "name": "stdout",
     "output_type": "stream",
     "text": [
      "International Journal of Exergy has homepage_url and type journal\n"
     ]
    },
    {
     "name": "stderr",
     "output_type": "stream",
     "text": [
      " 33%|███████████████████████▏                                              | 373/1127 [02:53<05:24,  2.32it/s]"
     ]
    },
    {
     "name": "stdout",
     "output_type": "stream",
     "text": [
      "Waves in Random and Complex Media has homepage_url and type journal\n"
     ]
    },
    {
     "name": "stderr",
     "output_type": "stream",
     "text": [
      " 33%|███████████████████████▏                                              | 374/1127 [02:53<05:42,  2.20it/s]"
     ]
    },
    {
     "name": "stdout",
     "output_type": "stream",
     "text": [
      "Complexity has homepage_url and type journal\n"
     ]
    },
    {
     "name": "stderr",
     "output_type": "stream",
     "text": [
      " 33%|███████████████████████▎                                              | 375/1127 [02:54<05:53,  2.13it/s]"
     ]
    },
    {
     "name": "stdout",
     "output_type": "stream",
     "text": [
      "Optics Express has homepage_url and type journal\n"
     ]
    },
    {
     "name": "stderr",
     "output_type": "stream",
     "text": [
      " 33%|███████████████████████▍                                              | 377/1127 [02:55<06:14,  2.00it/s]"
     ]
    },
    {
     "name": "stdout",
     "output_type": "stream",
     "text": [
      "Heat Transfer has homepage_url and type journal\n"
     ]
    },
    {
     "name": "stderr",
     "output_type": "stream",
     "text": [
      " 34%|███████████████████████▌                                              | 380/1127 [02:56<05:38,  2.21it/s]"
     ]
    },
    {
     "name": "stdout",
     "output_type": "stream",
     "text": [
      "Frontiers in Energy Research has homepage_url and type journal\n"
     ]
    },
    {
     "name": "stderr",
     "output_type": "stream",
     "text": [
      " 34%|███████████████████████▋                                              | 381/1127 [02:57<05:39,  2.19it/s]"
     ]
    },
    {
     "name": "stdout",
     "output_type": "stream",
     "text": [
      "International Journal of Multiphase Flow has homepage_url and type journal\n"
     ]
    },
    {
     "name": "stderr",
     "output_type": "stream",
     "text": [
      " 34%|███████████████████████▊                                              | 383/1127 [02:58<05:34,  2.23it/s]"
     ]
    },
    {
     "name": "stdout",
     "output_type": "stream",
     "text": [
      "International journal of space science and engineering has homepage_url and type journal\n"
     ]
    },
    {
     "name": "stderr",
     "output_type": "stream",
     "text": [
      " 34%|███████████████████████▊                                              | 384/1127 [02:58<05:31,  2.24it/s]"
     ]
    },
    {
     "name": "stdout",
     "output_type": "stream",
     "text": [
      "Journal of Geophysical Research has homepage_url and type journal\n"
     ]
    },
    {
     "name": "stderr",
     "output_type": "stream",
     "text": [
      " 34%|███████████████████████▉                                              | 385/1127 [02:58<05:22,  2.30it/s]"
     ]
    },
    {
     "name": "stdout",
     "output_type": "stream",
     "text": [
      "IFAC Proceedings Volumes has homepage_url and type journal\n"
     ]
    },
    {
     "name": "stderr",
     "output_type": "stream",
     "text": [
      " 34%|███████████████████████▉                                              | 386/1127 [02:59<05:30,  2.24it/s]"
     ]
    },
    {
     "name": "stdout",
     "output_type": "stream",
     "text": [
      "Computing and control engineering journal has homepage_url and type journal\n"
     ]
    },
    {
     "name": "stderr",
     "output_type": "stream",
     "text": [
      " 34%|████████████████████████                                              | 387/1127 [02:59<05:58,  2.06it/s]"
     ]
    },
    {
     "name": "stdout",
     "output_type": "stream",
     "text": [
      "Journal of Applied Mechanics and Technical Physics has homepage_url and type journal\n"
     ]
    },
    {
     "name": "stderr",
     "output_type": "stream",
     "text": [
      " 34%|████████████████████████                                              | 388/1127 [03:00<05:39,  2.18it/s]"
     ]
    },
    {
     "name": "stdout",
     "output_type": "stream",
     "text": [
      "Journal of Fluid Science and Technology has homepage_url and type journal\n"
     ]
    },
    {
     "name": "stderr",
     "output_type": "stream",
     "text": [
      " 35%|████████████████████████▏                                             | 389/1127 [03:00<05:33,  2.21it/s]"
     ]
    },
    {
     "name": "stdout",
     "output_type": "stream",
     "text": [
      "Journal of Vibration and Control has homepage_url and type journal\n"
     ]
    },
    {
     "name": "stderr",
     "output_type": "stream",
     "text": [
      " 35%|████████████████████████▏                                             | 390/1127 [03:01<05:31,  2.22it/s]"
     ]
    },
    {
     "name": "stdout",
     "output_type": "stream",
     "text": [
      "Bulletin of Materials Science has homepage_url and type journal\n"
     ]
    },
    {
     "name": "stderr",
     "output_type": "stream",
     "text": [
      " 35%|████████████████████████▎                                             | 391/1127 [03:01<05:31,  2.22it/s]"
     ]
    },
    {
     "name": "stdout",
     "output_type": "stream",
     "text": [
      "Shock and Vibration has homepage_url and type journal\n"
     ]
    },
    {
     "name": "stderr",
     "output_type": "stream",
     "text": [
      " 35%|████████████████████████▎                                             | 392/1127 [03:02<05:16,  2.32it/s]"
     ]
    },
    {
     "name": "stdout",
     "output_type": "stream",
     "text": [
      "Comptes Rendus Mecanique has homepage_url and type journal\n"
     ]
    },
    {
     "name": "stderr",
     "output_type": "stream",
     "text": [
      " 35%|████████████████████████▍                                             | 393/1127 [03:02<05:18,  2.30it/s]"
     ]
    },
    {
     "name": "stdout",
     "output_type": "stream",
     "text": [
      "DergiPark (Istanbul University) has homepage_url and type repository\n"
     ]
    },
    {
     "name": "stderr",
     "output_type": "stream",
     "text": [
      " 35%|████████████████████████▌                                             | 395/1127 [03:03<05:13,  2.34it/s]"
     ]
    },
    {
     "name": "stdout",
     "output_type": "stream",
     "text": [
      "Chemical Physics Letters has homepage_url and type journal\n"
     ]
    },
    {
     "name": "stderr",
     "output_type": "stream",
     "text": [
      " 35%|████████████████████████▋                                             | 397/1127 [03:04<05:20,  2.28it/s]"
     ]
    },
    {
     "name": "stdout",
     "output_type": "stream",
     "text": [
      "Procedia Technology has homepage_url and type journal\n"
     ]
    },
    {
     "name": "stderr",
     "output_type": "stream",
     "text": [
      " 35%|████████████████████████▋                                             | 398/1127 [03:04<05:12,  2.34it/s]"
     ]
    },
    {
     "name": "stdout",
     "output_type": "stream",
     "text": [
      "Communications in computer and information science has homepage_url and type book series\n"
     ]
    },
    {
     "name": "stderr",
     "output_type": "stream",
     "text": [
      " 35%|████████████████████████▊                                             | 400/1127 [03:05<05:38,  2.15it/s]"
     ]
    },
    {
     "name": "stdout",
     "output_type": "stream",
     "text": [
      "Journal of Fusion Energy has homepage_url and type journal\n"
     ]
    },
    {
     "name": "stderr",
     "output_type": "stream",
     "text": [
      " 36%|████████████████████████▉                                             | 401/1127 [03:06<05:22,  2.25it/s]"
     ]
    },
    {
     "name": "stdout",
     "output_type": "stream",
     "text": [
      "Ima Journal of Mathematical Control and Information has homepage_url and type journal\n"
     ]
    },
    {
     "name": "stderr",
     "output_type": "stream",
     "text": [
      " 36%|████████████████████████▉                                             | 402/1127 [03:06<05:15,  2.30it/s]"
     ]
    },
    {
     "name": "stdout",
     "output_type": "stream",
     "text": [
      "High Temperature Material Processes has homepage_url and type journal\n"
     ]
    },
    {
     "name": "stderr",
     "output_type": "stream",
     "text": [
      " 36%|█████████████████████████                                             | 403/1127 [03:06<05:15,  2.30it/s]"
     ]
    },
    {
     "name": "stdout",
     "output_type": "stream",
     "text": [
      "Thin-Walled Structures has homepage_url and type journal\n"
     ]
    },
    {
     "name": "stderr",
     "output_type": "stream",
     "text": [
      " 36%|█████████████████████████                                             | 404/1127 [03:07<05:13,  2.31it/s]"
     ]
    },
    {
     "name": "stdout",
     "output_type": "stream",
     "text": [
      "Chinese Physics B has homepage_url and type journal\n"
     ]
    },
    {
     "name": "stderr",
     "output_type": "stream",
     "text": [
      " 36%|█████████████████████████▏                                            | 405/1127 [03:07<05:04,  2.37it/s]"
     ]
    },
    {
     "name": "stdout",
     "output_type": "stream",
     "text": [
      "Optik has homepage_url and type journal\n"
     ]
    },
    {
     "name": "stderr",
     "output_type": "stream",
     "text": [
      " 36%|█████████████████████████▎                                            | 407/1127 [03:08<04:56,  2.43it/s]"
     ]
    },
    {
     "name": "stdout",
     "output_type": "stream",
     "text": [
      "Microwave and Optical Technology Letters has homepage_url and type journal\n"
     ]
    },
    {
     "name": "stderr",
     "output_type": "stream",
     "text": [
      " 36%|█████████████████████████▎                                            | 408/1127 [03:09<05:04,  2.36it/s]"
     ]
    },
    {
     "name": "stdout",
     "output_type": "stream",
     "text": [
      "Fluid Dynamics Research has homepage_url and type journal\n"
     ]
    },
    {
     "name": "stderr",
     "output_type": "stream",
     "text": [
      " 36%|█████████████████████████▍                                            | 409/1127 [03:09<05:05,  2.35it/s]"
     ]
    },
    {
     "name": "stdout",
     "output_type": "stream",
     "text": [
      "Communications in Nonlinear Science and Numerical Simulation has homepage_url and type journal\n"
     ]
    },
    {
     "name": "stderr",
     "output_type": "stream",
     "text": [
      " 36%|█████████████████████████▌                                            | 411/1127 [03:10<05:26,  2.19it/s]"
     ]
    },
    {
     "name": "stdout",
     "output_type": "stream",
     "text": [
      "Journal of Low Frequency Noise Vibration and Active Control has homepage_url and type journal\n"
     ]
    },
    {
     "name": "stderr",
     "output_type": "stream",
     "text": [
      " 37%|█████████████████████████▋                                            | 413/1127 [03:11<05:37,  2.12it/s]"
     ]
    },
    {
     "name": "stdout",
     "output_type": "stream",
     "text": [
      "The Journal of Engineering has homepage_url and type journal\n"
     ]
    },
    {
     "name": "stderr",
     "output_type": "stream",
     "text": [
      " 37%|█████████████████████████▊                                            | 415/1127 [03:12<05:31,  2.15it/s]"
     ]
    },
    {
     "name": "stdout",
     "output_type": "stream",
     "text": [
      "Journal of Vibration and Acoustics has homepage_url and type journal\n"
     ]
    },
    {
     "name": "stderr",
     "output_type": "stream",
     "text": [
      " 37%|█████████████████████████▊                                            | 416/1127 [03:12<05:22,  2.21it/s]"
     ]
    },
    {
     "name": "stdout",
     "output_type": "stream",
     "text": [
      "Radiation Effects and Defects in Solids has homepage_url and type journal\n"
     ]
    },
    {
     "name": "stderr",
     "output_type": "stream",
     "text": [
      " 37%|██████████████████████████                                            | 419/1127 [03:14<05:10,  2.28it/s]"
     ]
    },
    {
     "name": "stdout",
     "output_type": "stream",
     "text": [
      "Advances in Science and Technology has homepage_url and type book series\n"
     ]
    },
    {
     "name": "stderr",
     "output_type": "stream",
     "text": [
      " 37%|██████████████████████████▏                                           | 421/1127 [03:15<05:46,  2.04it/s]"
     ]
    },
    {
     "name": "stdout",
     "output_type": "stream",
     "text": [
      "Discrete Dynamics in Nature and Society has homepage_url and type journal\n"
     ]
    },
    {
     "name": "stderr",
     "output_type": "stream",
     "text": [
      " 38%|██████████████████████████▎                                           | 423/1127 [03:15<05:23,  2.18it/s]"
     ]
    },
    {
     "name": "stdout",
     "output_type": "stream",
     "text": [
      "Advances in Applied Mathematics and Mechanics has homepage_url and type journal\n"
     ]
    },
    {
     "name": "stderr",
     "output_type": "stream",
     "text": [
      " 38%|██████████████████████████▍                                           | 426/1127 [03:17<05:01,  2.33it/s]"
     ]
    },
    {
     "name": "stdout",
     "output_type": "stream",
     "text": [
      "Australian journal of mechanical engineering has homepage_url and type journal\n"
     ]
    },
    {
     "name": "stderr",
     "output_type": "stream",
     "text": [
      " 38%|██████████████████████████▌                                           | 427/1127 [03:17<04:56,  2.36it/s]"
     ]
    },
    {
     "name": "stdout",
     "output_type": "stream",
     "text": [
      "Defence Technology has homepage_url and type journal\n"
     ]
    },
    {
     "name": "stderr",
     "output_type": "stream",
     "text": [
      " 38%|██████████████████████████▌                                           | 428/1127 [03:18<05:00,  2.33it/s]"
     ]
    },
    {
     "name": "stdout",
     "output_type": "stream",
     "text": [
      "Neural Computing and Applications has homepage_url and type journal\n"
     ]
    },
    {
     "name": "stderr",
     "output_type": "stream",
     "text": [
      " 38%|██████████████████████████▊                                           | 431/1127 [03:19<05:12,  2.23it/s]"
     ]
    },
    {
     "name": "stdout",
     "output_type": "stream",
     "text": [
      "Wireless Communications and Mobile Computing has homepage_url and type journal\n"
     ]
    },
    {
     "name": "stderr",
     "output_type": "stream",
     "text": [
      " 38%|██████████████████████████▉                                           | 433/1127 [03:20<05:22,  2.16it/s]"
     ]
    },
    {
     "name": "stdout",
     "output_type": "stream",
     "text": [
      "Composites Communications has homepage_url and type journal\n"
     ]
    },
    {
     "name": "stderr",
     "output_type": "stream",
     "text": [
      " 39%|███████████████████████████                                           | 436/1127 [03:21<05:14,  2.20it/s]"
     ]
    },
    {
     "name": "stdout",
     "output_type": "stream",
     "text": [
      "Optics Communications has homepage_url and type journal\n"
     ]
    },
    {
     "name": "stderr",
     "output_type": "stream",
     "text": [
      " 39%|███████████████████████████▎                                          | 439/1127 [03:23<05:13,  2.20it/s]"
     ]
    },
    {
     "name": "stdout",
     "output_type": "stream",
     "text": [
      "Journal of Thermodynamics has homepage_url and type journal\n"
     ]
    },
    {
     "name": "stderr",
     "output_type": "stream",
     "text": [
      " 39%|███████████████████████████▎                                          | 440/1127 [03:23<05:12,  2.20it/s]"
     ]
    },
    {
     "name": "stdout",
     "output_type": "stream",
     "text": [
      "Transactions of Nonferrous Metals Society of China has homepage_url and type journal\n"
     ]
    },
    {
     "name": "stderr",
     "output_type": "stream",
     "text": [
      " 39%|███████████████████████████▍                                          | 441/1127 [03:24<05:16,  2.17it/s]"
     ]
    },
    {
     "name": "stdout",
     "output_type": "stream",
     "text": [
      "Japanese Journal of Applied Physics has homepage_url and type journal\n"
     ]
    },
    {
     "name": "stderr",
     "output_type": "stream",
     "text": [
      " 39%|███████████████████████████▌                                          | 444/1127 [03:25<05:21,  2.13it/s]"
     ]
    },
    {
     "name": "stdout",
     "output_type": "stream",
     "text": [
      "Journal of Computational and Applied Mathematics has homepage_url and type journal\n"
     ]
    },
    {
     "name": "stderr",
     "output_type": "stream",
     "text": [
      " 39%|███████████████████████████▋                                          | 445/1127 [03:25<05:18,  2.14it/s]"
     ]
    },
    {
     "name": "stdout",
     "output_type": "stream",
     "text": [
      "Epj Web of Conferences has homepage_url and type journal\n"
     ]
    },
    {
     "name": "stderr",
     "output_type": "stream",
     "text": [
      " 40%|███████████████████████████▊                                          | 447/1127 [03:26<05:20,  2.12it/s]"
     ]
    },
    {
     "name": "stdout",
     "output_type": "stream",
     "text": [
      "Science Bulletin has homepage_url and type journal\n"
     ]
    },
    {
     "name": "stderr",
     "output_type": "stream",
     "text": [
      " 40%|███████████████████████████▉                                          | 450/1127 [03:28<05:10,  2.18it/s]"
     ]
    },
    {
     "name": "stdout",
     "output_type": "stream",
     "text": [
      "Acta Aeronautica et Astronautica Sinica has homepage_url and type journal\n"
     ]
    },
    {
     "name": "stderr",
     "output_type": "stream",
     "text": [
      " 41%|████████████████████████████▍                                         | 457/1127 [03:31<04:51,  2.30it/s]"
     ]
    },
    {
     "name": "stdout",
     "output_type": "stream",
     "text": [
      "Entropy has homepage_url and type journal\n"
     ]
    },
    {
     "name": "stderr",
     "output_type": "stream",
     "text": [
      " 41%|████████████████████████████▌                                         | 459/1127 [03:32<04:51,  2.29it/s]"
     ]
    },
    {
     "name": "stdout",
     "output_type": "stream",
     "text": [
      "Energy Procedia has homepage_url and type journal\n"
     ]
    },
    {
     "name": "stderr",
     "output_type": "stream",
     "text": [
      " 41%|████████████████████████████▌                                         | 460/1127 [03:32<04:42,  2.36it/s]"
     ]
    },
    {
     "name": "stdout",
     "output_type": "stream",
     "text": [
      "arXiv (Cornell University) has homepage_url and type repository\n"
     ]
    },
    {
     "name": "stderr",
     "output_type": "stream",
     "text": [
      " 41%|████████████████████████████▋                                         | 461/1127 [03:32<04:40,  2.37it/s]"
     ]
    },
    {
     "name": "stdout",
     "output_type": "stream",
     "text": [
      "Iet Communications has homepage_url and type journal\n"
     ]
    },
    {
     "name": "stderr",
     "output_type": "stream",
     "text": [
      " 41%|████████████████████████████▋                                         | 462/1127 [03:33<04:54,  2.26it/s]"
     ]
    },
    {
     "name": "stdout",
     "output_type": "stream",
     "text": [
      "Journal of Interdisciplinary Mathematics has homepage_url and type journal\n"
     ]
    },
    {
     "name": "stderr",
     "output_type": "stream",
     "text": [
      " 41%|████████████████████████████▊                                         | 463/1127 [03:34<05:27,  2.03it/s]"
     ]
    },
    {
     "name": "stdout",
     "output_type": "stream",
     "text": [
      "Science has homepage_url and type journal\n"
     ]
    },
    {
     "name": "stderr",
     "output_type": "stream",
     "text": [
      " 41%|████████████████████████████▊                                         | 464/1127 [03:34<05:14,  2.11it/s]"
     ]
    },
    {
     "name": "stdout",
     "output_type": "stream",
     "text": [
      "Xibei gongye daxue xuebao has homepage_url and type journal\n"
     ]
    },
    {
     "name": "stderr",
     "output_type": "stream",
     "text": [
      " 41%|████████████████████████████▉                                         | 466/1127 [03:35<05:07,  2.15it/s]"
     ]
    },
    {
     "name": "stdout",
     "output_type": "stream",
     "text": [
      "International Journal of Modern Physics B has homepage_url and type journal\n"
     ]
    },
    {
     "name": "stderr",
     "output_type": "stream",
     "text": [
      " 41%|█████████████████████████████                                         | 467/1127 [03:35<05:01,  2.19it/s]"
     ]
    },
    {
     "name": "stdout",
     "output_type": "stream",
     "text": [
      "INCAS Buletin has homepage_url and type journal\n"
     ]
    },
    {
     "name": "stderr",
     "output_type": "stream",
     "text": [
      " 42%|█████████████████████████████                                         | 468/1127 [03:36<05:02,  2.18it/s]"
     ]
    },
    {
     "name": "stdout",
     "output_type": "stream",
     "text": [
      "Journal of turbomachinery has homepage_url and type journal\n"
     ]
    },
    {
     "name": "stderr",
     "output_type": "stream",
     "text": [
      " 42%|█████████████████████████████▏                                        | 469/1127 [03:36<05:08,  2.13it/s]"
     ]
    },
    {
     "name": "stdout",
     "output_type": "stream",
     "text": [
      "Journal of Zhejiang University has homepage_url and type journal\n"
     ]
    },
    {
     "name": "stderr",
     "output_type": "stream",
     "text": [
      " 42%|█████████████████████████████▍                                        | 473/1127 [03:38<04:48,  2.26it/s]"
     ]
    },
    {
     "name": "stdout",
     "output_type": "stream",
     "text": [
      "Journal of composites science has homepage_url and type journal\n"
     ]
    },
    {
     "name": "stderr",
     "output_type": "stream",
     "text": [
      " 42%|█████████████████████████████▍                                        | 474/1127 [03:38<04:51,  2.24it/s]"
     ]
    },
    {
     "name": "stdout",
     "output_type": "stream",
     "text": [
      "IEEE Geoscience and Remote Sensing Letters has homepage_url and type journal\n"
     ]
    },
    {
     "name": "stderr",
     "output_type": "stream",
     "text": [
      " 42%|█████████████████████████████▌                                        | 475/1127 [03:39<04:49,  2.25it/s]"
     ]
    },
    {
     "name": "stdout",
     "output_type": "stream",
     "text": [
      "Engineering Analysis with Boundary Elements has homepage_url and type journal\n"
     ]
    },
    {
     "name": "stderr",
     "output_type": "stream",
     "text": [
      " 42%|█████████████████████████████▋                                        | 477/1127 [03:40<04:55,  2.20it/s]"
     ]
    },
    {
     "name": "stdout",
     "output_type": "stream",
     "text": [
      "OSTI OAI (U.S. Department of Energy Office of Scientific and Technical Information) has homepage_url and type repository\n"
     ]
    },
    {
     "name": "stderr",
     "output_type": "stream",
     "text": [
      " 42%|█████████████████████████████▋                                        | 478/1127 [03:40<04:52,  2.22it/s]"
     ]
    },
    {
     "name": "stdout",
     "output_type": "stream",
     "text": [
      "Computer Methods in Applied Mechanics and Engineering has homepage_url and type journal\n"
     ]
    },
    {
     "name": "stderr",
     "output_type": "stream",
     "text": [
      " 43%|█████████████████████████████▊                                        | 479/1127 [03:41<04:55,  2.19it/s]"
     ]
    },
    {
     "name": "stdout",
     "output_type": "stream",
     "text": [
      "Mathematics has homepage_url and type journal\n"
     ]
    },
    {
     "name": "stderr",
     "output_type": "stream",
     "text": [
      " 43%|█████████████████████████████▊                                        | 480/1127 [03:41<04:51,  2.22it/s]"
     ]
    },
    {
     "name": "stdout",
     "output_type": "stream",
     "text": [
      "IEEE Photonics Journal has homepage_url and type journal\n"
     ]
    },
    {
     "name": "stderr",
     "output_type": "stream",
     "text": [
      " 43%|██████████████████████████████                                        | 484/1127 [03:43<04:46,  2.24it/s]"
     ]
    },
    {
     "name": "stdout",
     "output_type": "stream",
     "text": [
      "Visualization of mechanical processes has homepage_url and type journal\n"
     ]
    },
    {
     "name": "stderr",
     "output_type": "stream",
     "text": [
      " 43%|██████████████████████████████▏                                       | 486/1127 [03:44<04:53,  2.18it/s]"
     ]
    },
    {
     "name": "stdout",
     "output_type": "stream",
     "text": [
      "Journal of the Physical Society of Japan has homepage_url and type journal\n"
     ]
    },
    {
     "name": "stderr",
     "output_type": "stream",
     "text": [
      " 43%|██████████████████████████████▏                                       | 487/1127 [03:44<05:14,  2.03it/s]"
     ]
    },
    {
     "name": "stdout",
     "output_type": "stream",
     "text": [
      "Philosophical Magazine has homepage_url and type journal\n"
     ]
    },
    {
     "name": "stderr",
     "output_type": "stream",
     "text": [
      " 43%|██████████████████████████████▎                                       | 489/1127 [03:45<04:59,  2.13it/s]"
     ]
    },
    {
     "name": "stdout",
     "output_type": "stream",
     "text": [
      "Journal of Applied Mathematics has homepage_url and type journal\n"
     ]
    },
    {
     "name": "stderr",
     "output_type": "stream",
     "text": [
      " 43%|██████████████████████████████▍                                       | 490/1127 [03:46<04:57,  2.14it/s]"
     ]
    },
    {
     "name": "stdout",
     "output_type": "stream",
     "text": [
      "Advances in Complex Systems has homepage_url and type journal\n"
     ]
    },
    {
     "name": "stderr",
     "output_type": "stream",
     "text": [
      " 44%|███████████████████████████████                                       | 500/1127 [03:50<04:58,  2.10it/s]"
     ]
    },
    {
     "name": "stdout",
     "output_type": "stream",
     "text": [
      "Journal of Shanghai Jiaotong University has homepage_url and type journal\n"
     ]
    },
    {
     "name": "stderr",
     "output_type": "stream",
     "text": [
      " 45%|███████████████████████████████▍                                      | 507/1127 [03:54<04:49,  2.14it/s]"
     ]
    },
    {
     "name": "stdout",
     "output_type": "stream",
     "text": [
      "Thermal Science has homepage_url and type journal\n"
     ]
    },
    {
     "name": "stderr",
     "output_type": "stream",
     "text": [
      " 45%|███████████████████████████████▌                                      | 508/1127 [03:54<04:52,  2.12it/s]"
     ]
    },
    {
     "name": "stdout",
     "output_type": "stream",
     "text": [
      "Radiation Protection Dosimetry has homepage_url and type journal\n"
     ]
    },
    {
     "name": "stderr",
     "output_type": "stream",
     "text": [
      " 45%|███████████████████████████████▌                                      | 509/1127 [03:55<05:06,  2.01it/s]"
     ]
    },
    {
     "name": "stdout",
     "output_type": "stream",
     "text": [
      "Indian journal of science and technology has homepage_url and type journal\n"
     ]
    },
    {
     "name": "stderr",
     "output_type": "stream",
     "text": [
      " 45%|███████████████████████████████▋                                      | 511/1127 [03:56<05:02,  2.03it/s]"
     ]
    },
    {
     "name": "stdout",
     "output_type": "stream",
     "text": [
      "Applied and Computational Mechanics has homepage_url and type book series\n"
     ]
    },
    {
     "name": "stderr",
     "output_type": "stream",
     "text": [
      " 45%|███████████████████████████████▊                                      | 512/1127 [03:56<04:54,  2.09it/s]"
     ]
    },
    {
     "name": "stdout",
     "output_type": "stream",
     "text": [
      "Journal of the Neurological Sciences has homepage_url and type journal\n"
     ]
    },
    {
     "name": "stderr",
     "output_type": "stream",
     "text": [
      " 46%|███████████████████████████████▊                                      | 513/1127 [03:57<04:43,  2.16it/s]"
     ]
    },
    {
     "name": "stdout",
     "output_type": "stream",
     "text": [
      "MATEC web of conferences has homepage_url and type journal\n"
     ]
    },
    {
     "name": "stderr",
     "output_type": "stream",
     "text": [
      " 46%|███████████████████████████████▉                                      | 514/1127 [03:57<04:58,  2.05it/s]"
     ]
    },
    {
     "name": "stdout",
     "output_type": "stream",
     "text": [
      "Journal of Control Science and Engineering has homepage_url and type journal\n"
     ]
    },
    {
     "name": "stderr",
     "output_type": "stream",
     "text": [
      " 46%|███████████████████████████████▉                                      | 515/1127 [03:57<04:47,  2.13it/s]"
     ]
    },
    {
     "name": "stdout",
     "output_type": "stream",
     "text": [
      "International Journal of Nonlinear Sciences and Numerical Simulation has homepage_url and type journal\n"
     ]
    },
    {
     "name": "stderr",
     "output_type": "stream",
     "text": [
      " 46%|████████████████████████████████                                      | 517/1127 [03:58<04:38,  2.19it/s]"
     ]
    },
    {
     "name": "stdout",
     "output_type": "stream",
     "text": [
      "Aerospace Systems has homepage_url and type journal\n"
     ]
    },
    {
     "name": "stderr",
     "output_type": "stream",
     "text": [
      " 46%|████████████████████████████████▏                                     | 518/1127 [03:59<04:32,  2.24it/s]"
     ]
    },
    {
     "name": "stdout",
     "output_type": "stream",
     "text": [
      "OSA continuum has homepage_url and type journal\n"
     ]
    },
    {
     "name": "stderr",
     "output_type": "stream",
     "text": [
      " 46%|████████████████████████████████▏                                     | 519/1127 [03:59<04:34,  2.21it/s]"
     ]
    },
    {
     "name": "stdout",
     "output_type": "stream",
     "text": [
      "Advanced topics in science and technology in China has homepage_url and type book series\n"
     ]
    },
    {
     "name": "stderr",
     "output_type": "stream",
     "text": [
      " 46%|████████████████████████████████▎                                     | 520/1127 [04:00<04:53,  2.07it/s]"
     ]
    },
    {
     "name": "stdout",
     "output_type": "stream",
     "text": [
      "Journal of Space Safety Engineering has homepage_url and type journal\n"
     ]
    },
    {
     "name": "stderr",
     "output_type": "stream",
     "text": [
      " 46%|████████████████████████████████▍                                     | 522/1127 [04:01<04:31,  2.23it/s]"
     ]
    },
    {
     "name": "stdout",
     "output_type": "stream",
     "text": [
      "Heat Transfer - Japanese Research has homepage_url and type journal\n"
     ]
    },
    {
     "name": "stderr",
     "output_type": "stream",
     "text": [
      " 46%|████████████████████████████████▌                                     | 524/1127 [04:01<04:22,  2.29it/s]"
     ]
    },
    {
     "name": "stdout",
     "output_type": "stream",
     "text": [
      "Innovative biosystems and bioengineering has homepage_url and type journal\n"
     ]
    },
    {
     "name": "stderr",
     "output_type": "stream",
     "text": [
      " 47%|████████████████████████████████▌                                     | 525/1127 [04:02<04:32,  2.21it/s]"
     ]
    },
    {
     "name": "stdout",
     "output_type": "stream",
     "text": [
      "Transactions of the Indian National Academy of Engineering has homepage_url and type journal\n"
     ]
    },
    {
     "name": "stderr",
     "output_type": "stream",
     "text": [
      " 47%|████████████████████████████████▋                                     | 526/1127 [04:02<04:31,  2.22it/s]"
     ]
    },
    {
     "name": "stdout",
     "output_type": "stream",
     "text": [
      "Canadian Journal of Physics has homepage_url and type journal\n"
     ]
    },
    {
     "name": "stderr",
     "output_type": "stream",
     "text": [
      " 47%|████████████████████████████████▊                                     | 528/1127 [04:03<04:28,  2.23it/s]"
     ]
    },
    {
     "name": "stdout",
     "output_type": "stream",
     "text": [
      "Chinese Physics has homepage_url and type journal\n"
     ]
    },
    {
     "name": "stderr",
     "output_type": "stream",
     "text": [
      " 47%|█████████████████████████████████                                     | 533/1127 [04:06<04:35,  2.15it/s]"
     ]
    },
    {
     "name": "stdout",
     "output_type": "stream",
     "text": [
      "Comparative Strategy has homepage_url and type journal\n"
     ]
    },
    {
     "name": "stderr",
     "output_type": "stream",
     "text": [
      " 47%|█████████████████████████████████▏                                    | 534/1127 [04:06<04:33,  2.17it/s]"
     ]
    },
    {
     "name": "stdout",
     "output_type": "stream",
     "text": [
      "Archives of Computational Methods in Engineering has homepage_url and type journal\n"
     ]
    },
    {
     "name": "stderr",
     "output_type": "stream",
     "text": [
      " 47%|█████████████████████████████████▏                                    | 535/1127 [04:06<04:27,  2.22it/s]"
     ]
    },
    {
     "name": "stdout",
     "output_type": "stream",
     "text": [
      "IEEE Transactions on Instrumentation and Measurement has homepage_url and type journal\n"
     ]
    },
    {
     "name": "stderr",
     "output_type": "stream",
     "text": [
      " 48%|█████████████████████████████████▍                                    | 538/1127 [04:08<04:32,  2.16it/s]"
     ]
    },
    {
     "name": "stdout",
     "output_type": "stream",
     "text": [
      "Actuators has homepage_url and type journal\n"
     ]
    },
    {
     "name": "stderr",
     "output_type": "stream",
     "text": [
      " 48%|█████████████████████████████████▍                                    | 539/1127 [04:08<04:38,  2.11it/s]"
     ]
    },
    {
     "name": "stdout",
     "output_type": "stream",
     "text": [
      "Journal of Physical Chemistry B has homepage_url and type journal\n"
     ]
    },
    {
     "name": "stderr",
     "output_type": "stream",
     "text": [
      " 48%|█████████████████████████████████▌                                    | 540/1127 [04:09<04:57,  1.97it/s]"
     ]
    },
    {
     "name": "stdout",
     "output_type": "stream",
     "text": [
      "Electronics has homepage_url and type journal\n"
     ]
    },
    {
     "name": "stderr",
     "output_type": "stream",
     "text": [
      " 48%|█████████████████████████████████▌                                    | 541/1127 [04:10<04:58,  1.97it/s]"
     ]
    },
    {
     "name": "stdout",
     "output_type": "stream",
     "text": [
      "IEEE journal on miniaturization for air and space systems has homepage_url and type journal\n"
     ]
    },
    {
     "name": "stderr",
     "output_type": "stream",
     "text": [
      " 48%|█████████████████████████████████▋                                    | 542/1127 [04:10<04:44,  2.06it/s]"
     ]
    },
    {
     "name": "stdout",
     "output_type": "stream",
     "text": [
      "Advances in intelligent systems and computing has homepage_url and type book series\n"
     ]
    },
    {
     "name": "stderr",
     "output_type": "stream",
     "text": [
      " 48%|█████████████████████████████████▊                                    | 544/1127 [04:11<04:23,  2.21it/s]"
     ]
    },
    {
     "name": "stdout",
     "output_type": "stream",
     "text": [
      "HAL (Le Centre pour la Communication Scientifique Directe) has homepage_url and type repository\n"
     ]
    },
    {
     "name": "stderr",
     "output_type": "stream",
     "text": [
      " 48%|█████████████████████████████████▉                                    | 546/1127 [04:12<04:22,  2.21it/s]"
     ]
    },
    {
     "name": "stdout",
     "output_type": "stream",
     "text": [
      "Journal of Aerospace Technology and Management has homepage_url and type journal\n"
     ]
    },
    {
     "name": "stderr",
     "output_type": "stream",
     "text": [
      " 49%|█████████████████████████████████▉                                    | 547/1127 [04:12<04:11,  2.30it/s]"
     ]
    },
    {
     "name": "stdout",
     "output_type": "stream",
     "text": [
      "International Journal of Aerodynamics has homepage_url and type journal\n"
     ]
    },
    {
     "name": "stderr",
     "output_type": "stream",
     "text": [
      " 49%|██████████████████████████████████                                    | 548/1127 [04:13<04:17,  2.25it/s]"
     ]
    },
    {
     "name": "stdout",
     "output_type": "stream",
     "text": [
      "Springer proceedings in physics has homepage_url and type book series\n"
     ]
    },
    {
     "name": "stderr",
     "output_type": "stream",
     "text": [
      " 49%|██████████████████████████████████▏                                   | 551/1127 [04:14<04:08,  2.31it/s]"
     ]
    },
    {
     "name": "stdout",
     "output_type": "stream",
     "text": [
      "Journal of The Brazilian Society of Mechanical Sciences and Engineering has homepage_url and type journal\n"
     ]
    },
    {
     "name": "stderr",
     "output_type": "stream",
     "text": [
      " 49%|██████████████████████████████████▍                                   | 555/1127 [04:16<04:19,  2.21it/s]"
     ]
    },
    {
     "name": "stdout",
     "output_type": "stream",
     "text": [
      "International Journal of Computational Methods has homepage_url and type journal\n"
     ]
    },
    {
     "name": "stderr",
     "output_type": "stream",
     "text": [
      " 50%|██████████████████████████████████▋                                   | 558/1127 [04:17<04:04,  2.33it/s]"
     ]
    },
    {
     "name": "stdout",
     "output_type": "stream",
     "text": [
      "The Soundtrack has homepage_url and type journal\n"
     ]
    },
    {
     "name": "stderr",
     "output_type": "stream",
     "text": [
      " 50%|██████████████████████████████████▋                                   | 559/1127 [04:17<04:03,  2.34it/s]"
     ]
    },
    {
     "name": "stdout",
     "output_type": "stream",
     "text": [
      "Particuology has homepage_url and type journal\n"
     ]
    },
    {
     "name": "stderr",
     "output_type": "stream",
     "text": [
      " 50%|██████████████████████████████████▊                                   | 561/1127 [04:18<04:01,  2.35it/s]"
     ]
    },
    {
     "name": "stdout",
     "output_type": "stream",
     "text": [
      "Revista Mexicana De Astronomia Y Astrofisica has homepage_url and type journal\n"
     ]
    },
    {
     "name": "stderr",
     "output_type": "stream",
     "text": [
      " 50%|██████████████████████████████████▉                                   | 563/1127 [04:19<03:55,  2.39it/s]"
     ]
    },
    {
     "name": "stdout",
     "output_type": "stream",
     "text": [
      "The Open Aerospace Engineering Journal has homepage_url and type journal\n"
     ]
    },
    {
     "name": "stderr",
     "output_type": "stream",
     "text": [
      " 50%|███████████████████████████████████                                   | 565/1127 [04:20<04:13,  2.22it/s]"
     ]
    },
    {
     "name": "stdout",
     "output_type": "stream",
     "text": [
      "EPL has homepage_url and type journal\n"
     ]
    },
    {
     "name": "stderr",
     "output_type": "stream",
     "text": [
      " 50%|███████████████████████████████████▎                                  | 569/1127 [04:22<04:05,  2.27it/s]"
     ]
    },
    {
     "name": "stdout",
     "output_type": "stream",
     "text": [
      "Journal of the Korean Society of Propulsion Engineers has homepage_url and type journal\n"
     ]
    },
    {
     "name": "stderr",
     "output_type": "stream",
     "text": [
      " 51%|███████████████████████████████████▍                                  | 571/1127 [04:23<03:54,  2.37it/s]"
     ]
    },
    {
     "name": "stdout",
     "output_type": "stream",
     "text": [
      "Journal of Experiments in Fluid Mechanics has homepage_url and type journal\n"
     ]
    },
    {
     "name": "stderr",
     "output_type": "stream",
     "text": [
      " 51%|███████████████████████████████████▌                                  | 573/1127 [04:23<04:10,  2.21it/s]"
     ]
    },
    {
     "name": "stdout",
     "output_type": "stream",
     "text": [
      "Computer Simulation has homepage_url and type journal\n"
     ]
    },
    {
     "name": "stderr",
     "output_type": "stream",
     "text": [
      " 51%|███████████████████████████████████▋                                  | 574/1127 [04:24<04:01,  2.29it/s]"
     ]
    },
    {
     "name": "stdout",
     "output_type": "stream",
     "text": [
      "Journal of Nanjing University of Aeronautics and Astronautics has homepage_url and type journal\n"
     ]
    },
    {
     "name": "stderr",
     "output_type": "stream",
     "text": [
      " 51%|███████████████████████████████████▉                                  | 579/1127 [04:26<04:10,  2.19it/s]"
     ]
    },
    {
     "name": "stdout",
     "output_type": "stream",
     "text": [
      "Science Technology and Engineering has homepage_url and type journal\n"
     ]
    },
    {
     "name": "stderr",
     "output_type": "stream",
     "text": [
      " 52%|████████████████████████████████████▌                                 | 589/1127 [04:31<03:58,  2.25it/s]"
     ]
    },
    {
     "name": "stdout",
     "output_type": "stream",
     "text": [
      "Acta Aeronautica Et Astronautica Sinica has homepage_url and type journal\n"
     ]
    },
    {
     "name": "stderr",
     "output_type": "stream",
     "text": [
      " 53%|████████████████████████████████████▊                                 | 592/1127 [04:32<04:05,  2.18it/s]"
     ]
    },
    {
     "name": "stdout",
     "output_type": "stream",
     "text": [
      "Journal of Aeronautical Materials has homepage_url and type journal\n"
     ]
    },
    {
     "name": "stderr",
     "output_type": "stream",
     "text": [
      " 53%|████████████████████████████████████▉                                 | 595/1127 [04:33<03:58,  2.23it/s]"
     ]
    },
    {
     "name": "stdout",
     "output_type": "stream",
     "text": [
      "Lecture notes in electrical engineering has homepage_url and type book series\n"
     ]
    },
    {
     "name": "stderr",
     "output_type": "stream",
     "text": [
      " 53%|█████████████████████████████████████                                 | 596/1127 [04:34<03:57,  2.24it/s]"
     ]
    },
    {
     "name": "stdout",
     "output_type": "stream",
     "text": [
      "International journal of modern physics. has homepage_url and type journal\n"
     ]
    },
    {
     "name": "stderr",
     "output_type": "stream",
     "text": [
      " 53%|█████████████████████████████████████                                 | 597/1127 [04:34<03:52,  2.28it/s]"
     ]
    },
    {
     "name": "stdout",
     "output_type": "stream",
     "text": [
      "Physics World has homepage_url and type journal\n"
     ]
    },
    {
     "name": "stderr",
     "output_type": "stream",
     "text": [
      " 53%|█████████████████████████████████████▏                                | 598/1127 [04:35<04:12,  2.09it/s]"
     ]
    },
    {
     "name": "stdout",
     "output_type": "stream",
     "text": [
      "Journal of applied mathematics and mechanics has homepage_url and type journal\n"
     ]
    },
    {
     "name": "stderr",
     "output_type": "stream",
     "text": [
      " 53%|█████████████████████████████████████▏                                | 599/1127 [04:35<04:12,  2.09it/s]"
     ]
    },
    {
     "name": "stdout",
     "output_type": "stream",
     "text": [
      "Lecture notes in mechanical engineering has homepage_url and type book series\n"
     ]
    },
    {
     "name": "stderr",
     "output_type": "stream",
     "text": [
      " 53%|█████████████████████████████████████▎                                | 600/1127 [04:36<04:01,  2.18it/s]"
     ]
    },
    {
     "name": "stdout",
     "output_type": "stream",
     "text": [
      "International journal of service and computing oriented manufacturing has homepage_url and type journal\n"
     ]
    },
    {
     "name": "stderr",
     "output_type": "stream",
     "text": [
      " 53%|█████████████████████████████████████▎                                | 601/1127 [04:36<03:50,  2.29it/s]"
     ]
    },
    {
     "name": "stdout",
     "output_type": "stream",
     "text": [
      "Journal of the Acoustical Society of America has homepage_url and type journal\n"
     ]
    },
    {
     "name": "stderr",
     "output_type": "stream",
     "text": [
      " 54%|█████████████████████████████████████▊                                | 608/1127 [04:39<03:49,  2.26it/s]"
     ]
    },
    {
     "name": "stdout",
     "output_type": "stream",
     "text": [
      "Computational methods in applied sciences has homepage_url and type book series\n"
     ]
    },
    {
     "name": "stderr",
     "output_type": "stream",
     "text": [
      " 54%|█████████████████████████████████████▉                                | 610/1127 [04:40<03:54,  2.20it/s]"
     ]
    },
    {
     "name": "stdout",
     "output_type": "stream",
     "text": [
      "Green energy and technology has homepage_url and type book series\n"
     ]
    },
    {
     "name": "stderr",
     "output_type": "stream",
     "text": [
      " 54%|█████████████████████████████████████▉                                | 611/1127 [04:40<03:48,  2.26it/s]"
     ]
    },
    {
     "name": "stdout",
     "output_type": "stream",
     "text": [
      "Materials Today Communications has homepage_url and type journal\n"
     ]
    },
    {
     "name": "stderr",
     "output_type": "stream",
     "text": [
      " 55%|██████████████████████████████████████▎                               | 616/1127 [04:43<03:41,  2.31it/s]"
     ]
    },
    {
     "name": "stdout",
     "output_type": "stream",
     "text": [
      "Materials research express has homepage_url and type journal\n"
     ]
    },
    {
     "name": "stderr",
     "output_type": "stream",
     "text": [
      " 55%|██████████████████████████████████████▎                               | 617/1127 [04:43<03:36,  2.36it/s]"
     ]
    },
    {
     "name": "stdout",
     "output_type": "stream",
     "text": [
      "CEAS Space Journal has homepage_url and type journal\n"
     ]
    },
    {
     "name": "stderr",
     "output_type": "stream",
     "text": [
      " 55%|██████████████████████████████████████▌                               | 620/1127 [04:44<04:07,  2.05it/s]"
     ]
    },
    {
     "name": "stdout",
     "output_type": "stream",
     "text": [
      "Results in Engineering has homepage_url and type journal\n"
     ]
    },
    {
     "name": "stderr",
     "output_type": "stream",
     "text": [
      " 55%|██████████████████████████████████████▋                               | 622/1127 [04:45<03:55,  2.14it/s]"
     ]
    },
    {
     "name": "stdout",
     "output_type": "stream",
     "text": [
      "Applications in Energy and Combustion Science has homepage_url and type journal\n"
     ]
    },
    {
     "name": "stderr",
     "output_type": "stream",
     "text": [
      " 55%|██████████████████████████████████████▋                               | 623/1127 [04:46<03:56,  2.13it/s]"
     ]
    },
    {
     "name": "stdout",
     "output_type": "stream",
     "text": [
      "Journal of the Brazilian Society of Mechanical Sciences and Engineering has homepage_url and type journal\n"
     ]
    },
    {
     "name": "stderr",
     "output_type": "stream",
     "text": [
      " 55%|██████████████████████████████████████▊                               | 625/1127 [04:47<03:55,  2.13it/s]"
     ]
    },
    {
     "name": "stdout",
     "output_type": "stream",
     "text": [
      "Atmosphere has homepage_url and type journal\n"
     ]
    },
    {
     "name": "stderr",
     "output_type": "stream",
     "text": [
      " 56%|██████████████████████████████████████▉                               | 627/1127 [04:48<03:43,  2.23it/s]"
     ]
    },
    {
     "name": "stdout",
     "output_type": "stream",
     "text": [
      "Expert Systems with Applications has homepage_url and type journal\n"
     ]
    },
    {
     "name": "stderr",
     "output_type": "stream",
     "text": [
      " 56%|███████████████████████████████████████                               | 628/1127 [04:48<03:47,  2.20it/s]"
     ]
    },
    {
     "name": "stdout",
     "output_type": "stream",
     "text": [
      "International Journal of Chemical Engineering has homepage_url and type journal\n"
     ]
    },
    {
     "name": "stderr",
     "output_type": "stream",
     "text": [
      " 56%|███████████████████████████████████████                               | 629/1127 [04:49<03:45,  2.21it/s]"
     ]
    },
    {
     "name": "stdout",
     "output_type": "stream",
     "text": [
      "International Journal of Energy Research has homepage_url and type journal\n"
     ]
    },
    {
     "name": "stderr",
     "output_type": "stream",
     "text": [
      " 56%|███████████████████████████████████████▏                              | 631/1127 [04:50<04:04,  2.03it/s]"
     ]
    },
    {
     "name": "stdout",
     "output_type": "stream",
     "text": [
      "Mechanics of Materials has homepage_url and type journal\n"
     ]
    },
    {
     "name": "stderr",
     "output_type": "stream",
     "text": [
      " 56%|███████████████████████████████████████▎                              | 632/1127 [04:50<04:02,  2.05it/s]"
     ]
    },
    {
     "name": "stdout",
     "output_type": "stream",
     "text": [
      "International Journal of Engine Research has homepage_url and type journal\n"
     ]
    },
    {
     "name": "stderr",
     "output_type": "stream",
     "text": [
      " 56%|███████████████████████████████████████▍                              | 635/1127 [04:51<03:42,  2.21it/s]"
     ]
    },
    {
     "name": "stdout",
     "output_type": "stream",
     "text": [
      "Applied Mathematics Letters has homepage_url and type journal\n"
     ]
    },
    {
     "name": "stderr",
     "output_type": "stream",
     "text": [
      " 57%|███████████████████████████████████████▋                              | 638/1127 [04:53<03:29,  2.33it/s]"
     ]
    },
    {
     "name": "stdout",
     "output_type": "stream",
     "text": [
      "International Journal of Non-linear Mechanics has homepage_url and type journal\n"
     ]
    },
    {
     "name": "stderr",
     "output_type": "stream",
     "text": [
      " 57%|███████████████████████████████████████▊                              | 640/1127 [04:53<03:24,  2.38it/s]"
     ]
    },
    {
     "name": "stdout",
     "output_type": "stream",
     "text": [
      "Journal of Optimization Theory and Applications has homepage_url and type journal\n"
     ]
    },
    {
     "name": "stderr",
     "output_type": "stream",
     "text": [
      " 57%|███████████████████████████████████████▊                              | 641/1127 [04:54<03:26,  2.36it/s]"
     ]
    },
    {
     "name": "stdout",
     "output_type": "stream",
     "text": [
      "Nanophotonics has homepage_url and type journal\n"
     ]
    },
    {
     "name": "stderr",
     "output_type": "stream",
     "text": [
      " 57%|████████████████████████████████████████                              | 644/1127 [04:55<03:52,  2.08it/s]"
     ]
    },
    {
     "name": "stdout",
     "output_type": "stream",
     "text": [
      "Iranian Journal of Science and Technology has homepage_url and type journal\n"
     ]
    },
    {
     "name": "stderr",
     "output_type": "stream",
     "text": [
      " 57%|████████████████████████████████████████                              | 645/1127 [04:56<03:45,  2.14it/s]"
     ]
    },
    {
     "name": "stdout",
     "output_type": "stream",
     "text": [
      "AIP Conference Proceedings has homepage_url and type conference\n"
     ]
    },
    {
     "name": "stderr",
     "output_type": "stream",
     "text": [
      " 57%|████████████████████████████████████████                              | 646/1127 [04:56<03:44,  2.14it/s]"
     ]
    },
    {
     "name": "stdout",
     "output_type": "stream",
     "text": [
      "Archives of Acoustics has homepage_url and type journal\n"
     ]
    },
    {
     "name": "stderr",
     "output_type": "stream",
     "text": [
      " 57%|████████████████████████████████████████▏                             | 647/1127 [04:57<03:38,  2.20it/s]"
     ]
    },
    {
     "name": "stdout",
     "output_type": "stream",
     "text": [
      "International Review of Aerospace Engineering has homepage_url and type journal\n"
     ]
    },
    {
     "name": "stderr",
     "output_type": "stream",
     "text": [
      " 57%|████████████████████████████████████████▏                             | 648/1127 [04:57<03:41,  2.16it/s]"
     ]
    },
    {
     "name": "stdout",
     "output_type": "stream",
     "text": [
      "International Journal of Information and Communication Technology has homepage_url and type journal\n"
     ]
    },
    {
     "name": "stderr",
     "output_type": "stream",
     "text": [
      " 58%|████████████████████████████████████████▎                             | 650/1127 [04:58<03:29,  2.27it/s]"
     ]
    },
    {
     "name": "stdout",
     "output_type": "stream",
     "text": [
      "Journal of Aeronautics and Space Technologies has homepage_url and type journal\n"
     ]
    },
    {
     "name": "stderr",
     "output_type": "stream",
     "text": [
      " 58%|████████████████████████████████████████▍                             | 651/1127 [04:58<03:29,  2.28it/s]"
     ]
    },
    {
     "name": "stdout",
     "output_type": "stream",
     "text": [
      "Eastern-European Journal of Enterprise Technologies has homepage_url and type journal\n"
     ]
    },
    {
     "name": "stderr",
     "output_type": "stream",
     "text": [
      " 58%|████████████████████████████████████████▌                             | 653/1127 [04:59<03:21,  2.35it/s]"
     ]
    },
    {
     "name": "stdout",
     "output_type": "stream",
     "text": [
      "Heat transfer research has homepage_url and type journal\n"
     ]
    },
    {
     "name": "stderr",
     "output_type": "stream",
     "text": [
      " 58%|████████████████████████████████████████▊                             | 658/1127 [05:02<03:28,  2.25it/s]"
     ]
    },
    {
     "name": "stdout",
     "output_type": "stream",
     "text": [
      "Journal of Physics: Condensed Matter has homepage_url and type journal\n"
     ]
    },
    {
     "name": "stderr",
     "output_type": "stream",
     "text": [
      " 59%|████████████████████████████████████████▉                             | 660/1127 [05:02<03:22,  2.31it/s]"
     ]
    },
    {
     "name": "stdout",
     "output_type": "stream",
     "text": [
      "International Journal of Fluid Mechanics Research has homepage_url and type journal\n"
     ]
    },
    {
     "name": "stderr",
     "output_type": "stream",
     "text": [
      " 59%|█████████████████████████████████████████                             | 661/1127 [05:03<03:27,  2.25it/s]"
     ]
    },
    {
     "name": "stdout",
     "output_type": "stream",
     "text": [
      "Journal of Mathematical Sciences has homepage_url and type journal\n"
     ]
    },
    {
     "name": "stderr",
     "output_type": "stream",
     "text": [
      " 59%|█████████████████████████████████████████▏                            | 664/1127 [05:04<03:21,  2.30it/s]"
     ]
    },
    {
     "name": "stdout",
     "output_type": "stream",
     "text": [
      "Microelectronics Journal has homepage_url and type journal\n"
     ]
    },
    {
     "name": "stderr",
     "output_type": "stream",
     "text": [
      " 59%|█████████████████████████████████████████▍                            | 667/1127 [05:06<03:58,  1.93it/s]"
     ]
    },
    {
     "name": "stdout",
     "output_type": "stream",
     "text": [
      "Journal Of The Chinese Institute Of Engineers has homepage_url and type journal\n"
     ]
    },
    {
     "name": "stderr",
     "output_type": "stream",
     "text": [
      " 60%|█████████████████████████████████████████▋                            | 671/1127 [05:08<03:24,  2.23it/s]"
     ]
    },
    {
     "name": "stdout",
     "output_type": "stream",
     "text": [
      "Fluctuation and Noise Letters has homepage_url and type journal\n"
     ]
    },
    {
     "name": "stderr",
     "output_type": "stream",
     "text": [
      " 60%|█████████████████████████████████████████▉                            | 676/1127 [05:10<03:23,  2.22it/s]"
     ]
    },
    {
     "name": "stdout",
     "output_type": "stream",
     "text": [
      "Eas Publications Series has homepage_url and type journal\n"
     ]
    },
    {
     "name": "stderr",
     "output_type": "stream",
     "text": [
      " 60%|██████████████████████████████████████████▏                           | 680/1127 [05:12<03:21,  2.22it/s]"
     ]
    },
    {
     "name": "stdout",
     "output_type": "stream",
     "text": [
      "Aviation has homepage_url and type journal\n"
     ]
    },
    {
     "name": "stderr",
     "output_type": "stream",
     "text": [
      " 60%|██████████████████████████████████████████▎                           | 681/1127 [05:12<03:21,  2.21it/s]"
     ]
    },
    {
     "name": "stdout",
     "output_type": "stream",
     "text": [
      "Acta Automatica Sinica has homepage_url and type journal\n"
     ]
    },
    {
     "name": "stderr",
     "output_type": "stream",
     "text": [
      " 61%|██████████████████████████████████████████▌                           | 686/1127 [05:14<03:08,  2.34it/s]"
     ]
    },
    {
     "name": "stdout",
     "output_type": "stream",
     "text": [
      "Aero Weaponry has homepage_url and type journal\n"
     ]
    },
    {
     "name": "stderr",
     "output_type": "stream",
     "text": [
      " 62%|███████████████████████████████████████████▎                          | 698/1127 [05:20<03:26,  2.08it/s]"
     ]
    },
    {
     "name": "stdout",
     "output_type": "stream",
     "text": [
      "Mechanics in Engineering has homepage_url and type journal\n"
     ]
    },
    {
     "name": "stderr",
     "output_type": "stream",
     "text": [
      " 62%|███████████████████████████████████████████▍                          | 700/1127 [05:20<03:12,  2.21it/s]"
     ]
    },
    {
     "name": "stdout",
     "output_type": "stream",
     "text": [
      "Application Research of Computers has homepage_url and type journal\n"
     ]
    },
    {
     "name": "stderr",
     "output_type": "stream",
     "text": [
      " 63%|███████████████████████████████████████████▊                          | 705/1127 [05:23<03:21,  2.09it/s]"
     ]
    },
    {
     "name": "stdout",
     "output_type": "stream",
     "text": [
      "Energy technology has homepage_url and type journal\n"
     ]
    },
    {
     "name": "stderr",
     "output_type": "stream",
     "text": [
      " 63%|███████████████████████████████████████████▉                          | 707/1127 [05:24<03:16,  2.13it/s]"
     ]
    },
    {
     "name": "stdout",
     "output_type": "stream",
     "text": [
      "Noise and Vibration Control has homepage_url and type journal\n"
     ]
    },
    {
     "name": "stderr",
     "output_type": "stream",
     "text": [
      " 63%|███████████████████████████████████████████▉                          | 708/1127 [05:24<03:11,  2.18it/s]"
     ]
    },
    {
     "name": "stdout",
     "output_type": "stream",
     "text": [
      "Chinese Journal of Computational Physics has homepage_url and type journal\n"
     ]
    },
    {
     "name": "stderr",
     "output_type": "stream",
     "text": [
      " 63%|████████████████████████████████████████████▏                         | 712/1127 [05:26<03:07,  2.21it/s]"
     ]
    },
    {
     "name": "stdout",
     "output_type": "stream",
     "text": [
      "Computer Engineering and Applications has homepage_url and type journal\n"
     ]
    },
    {
     "name": "stderr",
     "output_type": "stream",
     "text": [
      " 64%|████████████████████████████████████████████▍                         | 716/1127 [05:28<02:56,  2.33it/s]"
     ]
    },
    {
     "name": "stdout",
     "output_type": "stream",
     "text": [
      "Acta Materiae Compositae Sinica has homepage_url and type journal\n"
     ]
    },
    {
     "name": "stderr",
     "output_type": "stream",
     "text": [
      " 64%|████████████████████████████████████████████▋                         | 720/1127 [05:30<03:11,  2.13it/s]"
     ]
    },
    {
     "name": "stdout",
     "output_type": "stream",
     "text": [
      "Materials review has homepage_url and type journal\n"
     ]
    },
    {
     "name": "stderr",
     "output_type": "stream",
     "text": [
      " 64%|████████████████████████████████████████████▊                         | 722/1127 [05:30<03:00,  2.24it/s]"
     ]
    },
    {
     "name": "stdout",
     "output_type": "stream",
     "text": [
      "CIESC Journal has homepage_url and type journal\n"
     ]
    },
    {
     "name": "stderr",
     "output_type": "stream",
     "text": [
      " 65%|█████████████████████████████████████████████▏                        | 728/1127 [05:33<02:58,  2.24it/s]"
     ]
    },
    {
     "name": "stdout",
     "output_type": "stream",
     "text": [
      "Infrared Technology has homepage_url and type journal\n"
     ]
    },
    {
     "name": "stderr",
     "output_type": "stream",
     "text": [
      " 65%|█████████████████████████████████████████████▎                        | 729/1127 [05:34<03:01,  2.20it/s]"
     ]
    },
    {
     "name": "stdout",
     "output_type": "stream",
     "text": [
      "Journal of Computer Applications has homepage_url and type journal\n"
     ]
    },
    {
     "name": "stderr",
     "output_type": "stream",
     "text": [
      " 65%|█████████████████████████████████████████████▍                        | 731/1127 [05:35<03:17,  2.00it/s]"
     ]
    },
    {
     "name": "stdout",
     "output_type": "stream",
     "text": [
      "Journal of Functional Biomaterials has homepage_url and type journal\n"
     ]
    },
    {
     "name": "stderr",
     "output_type": "stream",
     "text": [
      " 66%|██████████████████████████████████████████████                        | 741/1127 [05:39<02:45,  2.33it/s]"
     ]
    },
    {
     "name": "stdout",
     "output_type": "stream",
     "text": [
      "ADBU Journal of Engineering Technology (AJET) has homepage_url and type journal\n"
     ]
    },
    {
     "name": "stderr",
     "output_type": "stream",
     "text": [
      " 66%|██████████████████████████████████████████████                        | 742/1127 [05:39<03:03,  2.09it/s]"
     ]
    },
    {
     "name": "stdout",
     "output_type": "stream",
     "text": [
      "Vìsnik Nacìonalʹnogo avìacìjnogo unìversitetu has homepage_url and type journal\n"
     ]
    },
    {
     "name": "stderr",
     "output_type": "stream",
     "text": [
      " 66%|██████████████████████████████████████████████▎                       | 745/1127 [05:41<02:57,  2.15it/s]"
     ]
    },
    {
     "name": "stdout",
     "output_type": "stream",
     "text": [
      "Aeronautical Journal has homepage_url and type journal\n"
     ]
    },
    {
     "name": "stderr",
     "output_type": "stream",
     "text": [
      " 67%|██████████████████████████████████████████████▌                       | 750/1127 [05:43<02:43,  2.30it/s]"
     ]
    },
    {
     "name": "stdout",
     "output_type": "stream",
     "text": [
      "Frontiers in Robotics and AI has homepage_url and type journal\n"
     ]
    },
    {
     "name": "stderr",
     "output_type": "stream",
     "text": [
      " 67%|██████████████████████████████████████████████▊                       | 754/1127 [05:45<02:58,  2.09it/s]"
     ]
    },
    {
     "name": "stdout",
     "output_type": "stream",
     "text": [
      "Springer theses has homepage_url and type book series\n"
     ]
    },
    {
     "name": "stderr",
     "output_type": "stream",
     "text": [
      " 67%|██████████████████████████████████████████████▉                       | 756/1127 [05:46<02:53,  2.14it/s]"
     ]
    },
    {
     "name": "stdout",
     "output_type": "stream",
     "text": [
      "Journal of Optical Technology has homepage_url and type journal\n"
     ]
    },
    {
     "name": "stderr",
     "output_type": "stream",
     "text": [
      " 67%|███████████████████████████████████████████████                       | 757/1127 [05:46<03:00,  2.05it/s]"
     ]
    },
    {
     "name": "stdout",
     "output_type": "stream",
     "text": [
      "Current Science has homepage_url and type journal\n"
     ]
    },
    {
     "name": "stderr",
     "output_type": "stream",
     "text": [
      " 67%|███████████████████████████████████████████████                       | 758/1127 [05:47<03:00,  2.04it/s]"
     ]
    },
    {
     "name": "stdout",
     "output_type": "stream",
     "text": [
      "Scientia Iranica has homepage_url and type journal\n"
     ]
    },
    {
     "name": "stderr",
     "output_type": "stream",
     "text": [
      " 68%|███████████████████████████████████████████████▎                      | 761/1127 [05:48<02:41,  2.26it/s]"
     ]
    },
    {
     "name": "stdout",
     "output_type": "stream",
     "text": [
      "Microscopy and Microanalysis has homepage_url and type journal\n"
     ]
    },
    {
     "name": "stderr",
     "output_type": "stream",
     "text": [
      " 68%|███████████████████████████████████████████████▎                      | 762/1127 [05:48<02:43,  2.23it/s]"
     ]
    },
    {
     "name": "stdout",
     "output_type": "stream",
     "text": [
      "Studies in computational intelligence has homepage_url and type book series\n"
     ]
    },
    {
     "name": "stderr",
     "output_type": "stream",
     "text": [
      " 68%|███████████████████████████████████████████████▋                      | 768/1127 [05:51<02:48,  2.13it/s]"
     ]
    },
    {
     "name": "stdout",
     "output_type": "stream",
     "text": [
      "Doklady Akademii Nauk has homepage_url and type journal\n"
     ]
    },
    {
     "name": "stderr",
     "output_type": "stream",
     "text": [
      " 68%|███████████████████████████████████████████████▊                      | 769/1127 [05:52<02:42,  2.20it/s]"
     ]
    },
    {
     "name": "stdout",
     "output_type": "stream",
     "text": [
      "MRS Advances has homepage_url and type journal\n"
     ]
    },
    {
     "name": "stderr",
     "output_type": "stream",
     "text": [
      " 68%|███████████████████████████████████████████████▊                      | 770/1127 [05:52<02:42,  2.20it/s]"
     ]
    },
    {
     "name": "stdout",
     "output_type": "stream",
     "text": [
      "Izvestiâ vysših učebnyh zavedenij has homepage_url and type journal\n"
     ]
    },
    {
     "name": "stderr",
     "output_type": "stream",
     "text": [
      " 69%|███████████████████████████████████████████████▉                      | 772/1127 [05:53<02:40,  2.21it/s]"
     ]
    },
    {
     "name": "stdout",
     "output_type": "stream",
     "text": [
      "Communications in Mathematical Sciences has homepage_url and type journal\n"
     ]
    },
    {
     "name": "stderr",
     "output_type": "stream",
     "text": [
      " 69%|████████████████████████████████████████████████                      | 773/1127 [05:54<02:46,  2.13it/s]"
     ]
    },
    {
     "name": "stdout",
     "output_type": "stream",
     "text": [
      "Science Progress has homepage_url and type journal\n"
     ]
    },
    {
     "name": "stderr",
     "output_type": "stream",
     "text": [
      " 69%|████████████████████████████████████████████████▏                     | 775/1127 [05:54<02:47,  2.11it/s]"
     ]
    },
    {
     "name": "stdout",
     "output_type": "stream",
     "text": [
      "Concurrency and Computation: Practice and Experience has homepage_url and type journal\n"
     ]
    },
    {
     "name": "stderr",
     "output_type": "stream",
     "text": [
      " 69%|████████████████████████████████████████████████▌                     | 782/1127 [05:57<02:32,  2.26it/s]"
     ]
    },
    {
     "name": "stdout",
     "output_type": "stream",
     "text": [
      "KnE engineering has homepage_url and type journal\n"
     ]
    },
    {
     "name": "stderr",
     "output_type": "stream",
     "text": [
      " 70%|████████████████████████████████████████████████▋                     | 784/1127 [05:58<02:32,  2.25it/s]"
     ]
    },
    {
     "name": "stdout",
     "output_type": "stream",
     "text": [
      "International Journal of Electrical Engineering Education has homepage_url and type journal\n"
     ]
    },
    {
     "name": "stderr",
     "output_type": "stream",
     "text": [
      " 70%|████████████████████████████████████████████████▉                     | 788/1127 [06:00<02:39,  2.13it/s]"
     ]
    },
    {
     "name": "stdout",
     "output_type": "stream",
     "text": [
      "Sučasnì ìnformacìjnì sistemi has homepage_url and type journal\n"
     ]
    },
    {
     "name": "stderr",
     "output_type": "stream",
     "text": [
      " 70%|█████████████████████████████████████████████████                     | 790/1127 [06:01<02:29,  2.26it/s]"
     ]
    },
    {
     "name": "stdout",
     "output_type": "stream",
     "text": [
      "Thermophysics and Aeromechanics has homepage_url and type journal\n"
     ]
    },
    {
     "name": "stderr",
     "output_type": "stream",
     "text": [
      " 70%|█████████████████████████████████████████████████▎                    | 794/1127 [06:03<02:27,  2.26it/s]"
     ]
    },
    {
     "name": "stdout",
     "output_type": "stream",
     "text": [
      "中国科学:技术科学(英文版) has homepage_url and type journal\n"
     ]
    },
    {
     "name": "stderr",
     "output_type": "stream",
     "text": [
      " 71%|█████████████████████████████████████████████████▌                    | 798/1127 [06:05<02:34,  2.13it/s]"
     ]
    },
    {
     "name": "stdout",
     "output_type": "stream",
     "text": [
      "Strategic Comments has homepage_url and type journal\n"
     ]
    },
    {
     "name": "stderr",
     "output_type": "stream",
     "text": [
      " 71%|█████████████████████████████████████████████████▋                    | 800/1127 [06:06<02:32,  2.15it/s]"
     ]
    },
    {
     "name": "stdout",
     "output_type": "stream",
     "text": [
      "Scientia Militaria: South African Journal of Military Studies has homepage_url and type journal\n"
     ]
    },
    {
     "name": "stderr",
     "output_type": "stream",
     "text": [
      " 71%|█████████████████████████████████████████████████▊                    | 801/1127 [06:06<02:30,  2.16it/s]"
     ]
    },
    {
     "name": "stdout",
     "output_type": "stream",
     "text": [
      "Social Science Research Network has homepage_url and type repository\n"
     ]
    },
    {
     "name": "stderr",
     "output_type": "stream",
     "text": [
      " 71%|█████████████████████████████████████████████████▉                    | 803/1127 [06:07<02:28,  2.18it/s]"
     ]
    },
    {
     "name": "stdout",
     "output_type": "stream",
     "text": [
      "Calculus of Variations and Partial Differential Equations has homepage_url and type journal\n"
     ]
    },
    {
     "name": "stderr",
     "output_type": "stream",
     "text": [
      " 71%|██████████████████████████████████████████████████                    | 805/1127 [06:08<02:24,  2.23it/s]"
     ]
    },
    {
     "name": "stdout",
     "output_type": "stream",
     "text": [
      "Journal Of Geophysical Research: Space Physics has homepage_url and type journal\n"
     ]
    },
    {
     "name": "stderr",
     "output_type": "stream",
     "text": [
      " 72%|██████████████████████████████████████████████████                    | 806/1127 [06:08<02:23,  2.23it/s]"
     ]
    },
    {
     "name": "stdout",
     "output_type": "stream",
     "text": [
      "Electronics Letters has homepage_url and type journal\n"
     ]
    },
    {
     "name": "stderr",
     "output_type": "stream",
     "text": [
      " 72%|██████████████████████████████████████████████████▎                   | 810/1127 [06:10<02:26,  2.17it/s]"
     ]
    },
    {
     "name": "stdout",
     "output_type": "stream",
     "text": [
      "Research Square (Research Square) has homepage_url and type repository\n"
     ]
    },
    {
     "name": "stderr",
     "output_type": "stream",
     "text": [
      " 72%|██████████████████████████████████████████████████▍                   | 812/1127 [06:11<02:23,  2.19it/s]"
     ]
    },
    {
     "name": "stdout",
     "output_type": "stream",
     "text": [
      "Russian aeronautics has homepage_url and type journal\n"
     ]
    },
    {
     "name": "stderr",
     "output_type": "stream",
     "text": [
      " 72%|██████████████████████████████████████████████████▍                   | 813/1127 [06:12<02:21,  2.22it/s]"
     ]
    },
    {
     "name": "stdout",
     "output_type": "stream",
     "text": [
      "Mathematical Methods in The Applied Sciences has homepage_url and type journal\n"
     ]
    },
    {
     "name": "stderr",
     "output_type": "stream",
     "text": [
      " 73%|██████████████████████████████████████████████████▉                   | 821/1127 [06:15<02:22,  2.15it/s]"
     ]
    },
    {
     "name": "stdout",
     "output_type": "stream",
     "text": [
      "Avacìjno-kosmìčna tehnìka ì tehnologìâ has homepage_url and type journal\n"
     ]
    },
    {
     "name": "stderr",
     "output_type": "stream",
     "text": [
      " 73%|███████████████████████████████████████████████████▏                  | 825/1127 [06:17<02:14,  2.25it/s]"
     ]
    },
    {
     "name": "stdout",
     "output_type": "stream",
     "text": [
      "Journal of Plasma Physics has homepage_url and type journal\n"
     ]
    },
    {
     "name": "stderr",
     "output_type": "stream",
     "text": [
      " 73%|███████████████████████████████████████████████████▎                  | 826/1127 [06:17<02:11,  2.29it/s]"
     ]
    },
    {
     "name": "stdout",
     "output_type": "stream",
     "text": [
      "Computational Thermal Sciences has homepage_url and type journal\n"
     ]
    },
    {
     "name": "stderr",
     "output_type": "stream",
     "text": [
      " 73%|███████████████████████████████████████████████████▍                  | 828/1127 [06:18<02:12,  2.26it/s]"
     ]
    },
    {
     "name": "stdout",
     "output_type": "stream",
     "text": [
      "Trends in Sciences has homepage_url and type journal\n"
     ]
    },
    {
     "name": "stderr",
     "output_type": "stream",
     "text": [
      " 74%|███████████████████████████████████████████████████▌                  | 831/1127 [06:20<02:18,  2.13it/s]"
     ]
    },
    {
     "name": "stdout",
     "output_type": "stream",
     "text": [
      "International Journal of Thermofluids has homepage_url and type journal\n"
     ]
    },
    {
     "name": "stderr",
     "output_type": "stream",
     "text": [
      " 74%|███████████████████████████████████████████████████▋                  | 832/1127 [06:20<02:16,  2.16it/s]"
     ]
    },
    {
     "name": "stdout",
     "output_type": "stream",
     "text": [
      "CFD Letters has homepage_url and type journal\n"
     ]
    },
    {
     "name": "stderr",
     "output_type": "stream",
     "text": [
      " 74%|███████████████████████████████████████████████████▋                  | 833/1127 [06:21<02:17,  2.13it/s]"
     ]
    },
    {
     "name": "stdout",
     "output_type": "stream",
     "text": [
      "Journal of Raman Spectroscopy has homepage_url and type journal\n"
     ]
    },
    {
     "name": "stderr",
     "output_type": "stream",
     "text": [
      " 74%|███████████████████████████████████████████████████▊                  | 834/1127 [06:21<02:13,  2.20it/s]"
     ]
    },
    {
     "name": "stdout",
     "output_type": "stream",
     "text": [
      "Atmospheric Chemistry and Physics has homepage_url and type journal\n"
     ]
    },
    {
     "name": "stderr",
     "output_type": "stream",
     "text": [
      " 74%|███████████████████████████████████████████████████▉                  | 837/1127 [06:22<02:03,  2.34it/s]"
     ]
    },
    {
     "name": "stdout",
     "output_type": "stream",
     "text": [
      "Axioms has homepage_url and type journal\n"
     ]
    },
    {
     "name": "stderr",
     "output_type": "stream",
     "text": [
      " 74%|████████████████████████████████████████████████████                  | 838/1127 [06:23<02:07,  2.27it/s]"
     ]
    },
    {
     "name": "stdout",
     "output_type": "stream",
     "text": [
      "Problemy Techniki Uzbrojenia i Radiolokacji has homepage_url and type journal\n"
     ]
    },
    {
     "name": "stderr",
     "output_type": "stream",
     "text": [
      " 75%|████████████████████████████████████████████████████▎                 | 843/1127 [06:25<02:08,  2.21it/s]"
     ]
    },
    {
     "name": "stdout",
     "output_type": "stream",
     "text": [
      "Izvestiâ vysših učebnyh zavedenij Rossii has homepage_url and type journal\n"
     ]
    },
    {
     "name": "stderr",
     "output_type": "stream",
     "text": [
      " 75%|████████████████████████████████████████████████████▍                 | 844/1127 [06:26<02:06,  2.23it/s]"
     ]
    },
    {
     "name": "stdout",
     "output_type": "stream",
     "text": [
      "Frontiers in Aerospace Engineering has homepage_url and type journal\n"
     ]
    },
    {
     "name": "stderr",
     "output_type": "stream",
     "text": [
      " 75%|████████████████████████████████████████████████████▍                 | 845/1127 [06:26<02:02,  2.29it/s]"
     ]
    },
    {
     "name": "stdout",
     "output_type": "stream",
     "text": [
      "Bulletin of \"Carol I\" National Defense University has homepage_url and type journal\n"
     ]
    },
    {
     "name": "stderr",
     "output_type": "stream",
     "text": [
      " 75%|████████████████████████████████████████████████████▋                 | 849/1127 [06:28<02:16,  2.04it/s]"
     ]
    },
    {
     "name": "stdout",
     "output_type": "stream",
     "text": [
      "Photonics has homepage_url and type journal\n"
     ]
    },
    {
     "name": "stderr",
     "output_type": "stream",
     "text": [
      " 75%|████████████████████████████████████████████████████▊                 | 850/1127 [06:28<02:12,  2.10it/s]"
     ]
    },
    {
     "name": "stdout",
     "output_type": "stream",
     "text": [
      "Politeja has homepage_url and type journal\n"
     ]
    },
    {
     "name": "stderr",
     "output_type": "stream",
     "text": [
      " 76%|█████████████████████████████████████████████████████                 | 855/1127 [06:31<02:08,  2.12it/s]"
     ]
    },
    {
     "name": "stdout",
     "output_type": "stream",
     "text": [
      "Izvestiâ Akademii nauk Armânskoj SSR. Fizika has homepage_url and type journal\n"
     ]
    },
    {
     "name": "stderr",
     "output_type": "stream",
     "text": [
      " 76%|█████████████████████████████████████████████████████▏                | 857/1127 [06:32<02:07,  2.11it/s]"
     ]
    },
    {
     "name": "stdout",
     "output_type": "stream",
     "text": [
      "Plasma has homepage_url and type journal\n"
     ]
    },
    {
     "name": "stderr",
     "output_type": "stream",
     "text": [
      " 76%|█████████████████████████████████████████████████████▎                | 858/1127 [06:32<02:05,  2.14it/s]"
     ]
    },
    {
     "name": "stdout",
     "output_type": "stream",
     "text": [
      "Lecture Notes in Electrical Engineering has homepage_url and type book series\n"
     ]
    },
    {
     "name": "stderr",
     "output_type": "stream",
     "text": [
      " 76%|█████████████████████████████████████████████████████▎                | 859/1127 [06:33<02:06,  2.12it/s]"
     ]
    },
    {
     "name": "stdout",
     "output_type": "stream",
     "text": [
      "Frontiers in Materials has homepage_url and type journal\n"
     ]
    },
    {
     "name": "stderr",
     "output_type": "stream",
     "text": [
      " 77%|█████████████████████████████████████████████████████▌                | 863/1127 [06:35<02:19,  1.89it/s]"
     ]
    },
    {
     "name": "stdout",
     "output_type": "stream",
     "text": [
      "Journal of Engineering Research has homepage_url and type journal\n"
     ]
    },
    {
     "name": "stderr",
     "output_type": "stream",
     "text": [
      " 77%|█████████████████████████████████████████████████████▋                | 864/1127 [06:35<02:17,  1.92it/s]"
     ]
    },
    {
     "name": "stdout",
     "output_type": "stream",
     "text": [
      "Signal Processing has homepage_url and type journal\n"
     ]
    },
    {
     "name": "stderr",
     "output_type": "stream",
     "text": [
      " 77%|█████████████████████████████████████████████████████▋                | 865/1127 [06:36<02:09,  2.02it/s]"
     ]
    },
    {
     "name": "stdout",
     "output_type": "stream",
     "text": [
      "Numerical Heat Transfer Part A-applications has homepage_url and type journal\n"
     ]
    },
    {
     "name": "stderr",
     "output_type": "stream",
     "text": [
      " 77%|█████████████████████████████████████████████████████▊                | 866/1127 [06:36<02:01,  2.15it/s]"
     ]
    },
    {
     "name": "stdout",
     "output_type": "stream",
     "text": [
      "RUSI Journal has homepage_url and type journal\n"
     ]
    },
    {
     "name": "stderr",
     "output_type": "stream",
     "text": [
      " 77%|█████████████████████████████████████████████████████▊                | 867/1127 [06:36<01:59,  2.17it/s]"
     ]
    },
    {
     "name": "stdout",
     "output_type": "stream",
     "text": [
      "Journal of Physical Chemistry C has homepage_url and type journal\n"
     ]
    },
    {
     "name": "stderr",
     "output_type": "stream",
     "text": [
      " 77%|█████████████████████████████████████████████████████▉                | 869/1127 [06:37<02:00,  2.14it/s]"
     ]
    },
    {
     "name": "stdout",
     "output_type": "stream",
     "text": [
      "Journal of Computational Science has homepage_url and type journal\n"
     ]
    },
    {
     "name": "stderr",
     "output_type": "stream",
     "text": [
      " 77%|██████████████████████████████████████████████████████                | 871/1127 [06:38<01:59,  2.15it/s]"
     ]
    },
    {
     "name": "stdout",
     "output_type": "stream",
     "text": [
      "Sustainable Aviation has homepage_url and type journal\n"
     ]
    },
    {
     "name": "stderr",
     "output_type": "stream",
     "text": [
      " 78%|██████████████████████████████████████████████████████▎               | 874/1127 [06:40<02:22,  1.77it/s]"
     ]
    },
    {
     "name": "stdout",
     "output_type": "stream",
     "text": [
      "Materials has homepage_url and type journal\n"
     ]
    },
    {
     "name": "stderr",
     "output_type": "stream",
     "text": [
      " 78%|██████████████████████████████████████████████████████▍               | 876/1127 [06:41<02:04,  2.02it/s]"
     ]
    },
    {
     "name": "stdout",
     "output_type": "stream",
     "text": [
      "Progress in Organic Coatings has homepage_url and type journal\n"
     ]
    },
    {
     "name": "stderr",
     "output_type": "stream",
     "text": [
      " 78%|██████████████████████████████████████████████████████▌               | 878/1127 [06:42<02:00,  2.07it/s]"
     ]
    },
    {
     "name": "stdout",
     "output_type": "stream",
     "text": [
      "Renewable Energy has homepage_url and type journal\n"
     ]
    },
    {
     "name": "stderr",
     "output_type": "stream",
     "text": [
      " 78%|██████████████████████████████████████████████████████▌               | 879/1127 [06:42<01:59,  2.07it/s]"
     ]
    },
    {
     "name": "stdout",
     "output_type": "stream",
     "text": [
      "Journal of Wind Engineering and Industrial Aerodynamics has homepage_url and type journal\n"
     ]
    },
    {
     "name": "stderr",
     "output_type": "stream",
     "text": [
      " 78%|██████████████████████████████████████████████████████▋               | 880/1127 [06:43<01:58,  2.08it/s]"
     ]
    },
    {
     "name": "stdout",
     "output_type": "stream",
     "text": [
      "Energy and Buildings has homepage_url and type journal\n"
     ]
    },
    {
     "name": "stderr",
     "output_type": "stream",
     "text": [
      " 78%|██████████████████████████████████████████████████████▋               | 881/1127 [06:43<01:55,  2.12it/s]"
     ]
    },
    {
     "name": "stdout",
     "output_type": "stream",
     "text": [
      "Applied Energy has homepage_url and type journal\n"
     ]
    },
    {
     "name": "stderr",
     "output_type": "stream",
     "text": [
      " 78%|██████████████████████████████████████████████████████▊               | 882/1127 [06:44<01:53,  2.16it/s]"
     ]
    },
    {
     "name": "stdout",
     "output_type": "stream",
     "text": [
      "Building and Environment has homepage_url and type journal\n"
     ]
    },
    {
     "name": "stderr",
     "output_type": "stream",
     "text": [
      " 78%|██████████████████████████████████████████████████████▊               | 883/1127 [06:44<01:52,  2.17it/s]"
     ]
    },
    {
     "name": "stdout",
     "output_type": "stream",
     "text": [
      "Boundary-Layer Meteorology has homepage_url and type journal\n"
     ]
    },
    {
     "name": "stderr",
     "output_type": "stream",
     "text": [
      " 79%|██████████████████████████████████████████████████████▉               | 885/1127 [06:45<01:50,  2.19it/s]"
     ]
    },
    {
     "name": "stdout",
     "output_type": "stream",
     "text": [
      "Journal of Atmospheric and Oceanic Technology has homepage_url and type journal\n"
     ]
    },
    {
     "name": "stderr",
     "output_type": "stream",
     "text": [
      " 79%|███████████████████████████████████████████████████████               | 887/1127 [06:46<01:48,  2.21it/s]"
     ]
    },
    {
     "name": "stdout",
     "output_type": "stream",
     "text": [
      "Tunnelling and Underground Space Technology has homepage_url and type journal\n"
     ]
    },
    {
     "name": "stderr",
     "output_type": "stream",
     "text": [
      " 79%|███████████████████████████████████████████████████████▏              | 889/1127 [06:47<01:51,  2.14it/s]"
     ]
    },
    {
     "name": "stdout",
     "output_type": "stream",
     "text": [
      "Wind Engineering has homepage_url and type journal\n"
     ]
    },
    {
     "name": "stderr",
     "output_type": "stream",
     "text": [
      " 79%|███████████████████████████████████████████████████████▎              | 890/1127 [06:47<01:52,  2.11it/s]"
     ]
    },
    {
     "name": "stdout",
     "output_type": "stream",
     "text": [
      "Engineering Structures has homepage_url and type journal\n"
     ]
    },
    {
     "name": "stderr",
     "output_type": "stream",
     "text": [
      " 79%|███████████████████████████████████████████████████████▎              | 891/1127 [06:48<01:49,  2.16it/s]"
     ]
    },
    {
     "name": "stdout",
     "output_type": "stream",
     "text": [
      "Journal of Arid Environments has homepage_url and type journal\n"
     ]
    },
    {
     "name": "stderr",
     "output_type": "stream",
     "text": [
      " 79%|███████████████████████████████████████████████████████▍              | 892/1127 [06:48<01:48,  2.17it/s]"
     ]
    },
    {
     "name": "stdout",
     "output_type": "stream",
     "text": [
      "Water Science and Technology has homepage_url and type journal\n"
     ]
    },
    {
     "name": "stderr",
     "output_type": "stream",
     "text": [
      " 79%|███████████████████████████████████████████████████████▍              | 893/1127 [06:49<01:47,  2.17it/s]"
     ]
    },
    {
     "name": "stdout",
     "output_type": "stream",
     "text": [
      "Biosystems Engineering has homepage_url and type journal\n"
     ]
    },
    {
     "name": "stderr",
     "output_type": "stream",
     "text": [
      " 79%|███████████████████████████████████████████████████████▌              | 894/1127 [06:49<01:45,  2.20it/s]"
     ]
    },
    {
     "name": "stdout",
     "output_type": "stream",
     "text": [
      "Computers and Electronics in Agriculture has homepage_url and type journal\n"
     ]
    },
    {
     "name": "stderr",
     "output_type": "stream",
     "text": [
      " 80%|███████████████████████████████████████████████████████▋              | 896/1127 [06:50<01:51,  2.07it/s]"
     ]
    },
    {
     "name": "stdout",
     "output_type": "stream",
     "text": [
      "Cold Regions Science and Technology has homepage_url and type journal\n"
     ]
    },
    {
     "name": "stderr",
     "output_type": "stream",
     "text": [
      " 80%|███████████████████████████████████████████████████████▋              | 897/1127 [06:51<01:46,  2.15it/s]"
     ]
    },
    {
     "name": "stdout",
     "output_type": "stream",
     "text": [
      "Journal of Visualization has homepage_url and type journal\n"
     ]
    },
    {
     "name": "stderr",
     "output_type": "stream",
     "text": [
      " 80%|███████████████████████████████████████████████████████▊              | 899/1127 [06:52<01:42,  2.22it/s]"
     ]
    },
    {
     "name": "stdout",
     "output_type": "stream",
     "text": [
      "Sensors and Actuators A: Physical has homepage_url and type journal\n"
     ]
    },
    {
     "name": "stderr",
     "output_type": "stream",
     "text": [
      " 80%|███████████████████████████████████████████████████████▉              | 900/1127 [06:52<01:43,  2.20it/s]"
     ]
    },
    {
     "name": "stdout",
     "output_type": "stream",
     "text": [
      "Ocean Engineering has homepage_url and type journal\n"
     ]
    },
    {
     "name": "stderr",
     "output_type": "stream",
     "text": [
      " 80%|████████████████████████████████████████████████████████              | 902/1127 [06:53<01:38,  2.28it/s]"
     ]
    },
    {
     "name": "stdout",
     "output_type": "stream",
     "text": [
      "Wind energy science has homepage_url and type journal\n"
     ]
    },
    {
     "name": "stderr",
     "output_type": "stream",
     "text": [
      " 80%|████████████████████████████████████████████████████████              | 903/1127 [06:53<01:35,  2.34it/s]"
     ]
    },
    {
     "name": "stdout",
     "output_type": "stream",
     "text": [
      "Aerosol Science and Technology has homepage_url and type journal\n"
     ]
    },
    {
     "name": "stderr",
     "output_type": "stream",
     "text": [
      " 80%|████████████████████████████████████████████████████████▏             | 904/1127 [06:54<01:38,  2.26it/s]"
     ]
    },
    {
     "name": "stdout",
     "output_type": "stream",
     "text": [
      "Journal of Electrostatics has homepage_url and type journal\n"
     ]
    },
    {
     "name": "stderr",
     "output_type": "stream",
     "text": [
      " 80%|████████████████████████████████████████████████████████▎             | 907/1127 [06:55<01:39,  2.21it/s]"
     ]
    },
    {
     "name": "stdout",
     "output_type": "stream",
     "text": [
      "Geotextiles and Geomembranes has homepage_url and type journal\n"
     ]
    },
    {
     "name": "stderr",
     "output_type": "stream",
     "text": [
      " 81%|████████████████████████████████████████████████████████▍             | 908/1127 [06:56<01:36,  2.28it/s]"
     ]
    },
    {
     "name": "stdout",
     "output_type": "stream",
     "text": [
      "Alexandria Engineering Journal has homepage_url and type journal\n"
     ]
    },
    {
     "name": "stderr",
     "output_type": "stream",
     "text": [
      " 81%|████████████████████████████████████████████████████████▌             | 910/1127 [06:57<01:39,  2.18it/s]"
     ]
    },
    {
     "name": "stdout",
     "output_type": "stream",
     "text": [
      "International Journal of Environmental Science and Technology has homepage_url and type journal\n"
     ]
    },
    {
     "name": "stderr",
     "output_type": "stream",
     "text": [
      " 81%|████████████████████████████████████████████████████████▋             | 913/1127 [06:58<01:36,  2.21it/s]"
     ]
    },
    {
     "name": "stdout",
     "output_type": "stream",
     "text": [
      "Aeolian Research has homepage_url and type journal\n"
     ]
    },
    {
     "name": "stderr",
     "output_type": "stream",
     "text": [
      " 81%|████████████████████████████████████████████████████████▊             | 914/1127 [06:58<01:34,  2.26it/s]"
     ]
    },
    {
     "name": "stdout",
     "output_type": "stream",
     "text": [
      "Journal of Astm International has homepage_url and type journal\n"
     ]
    },
    {
     "name": "stderr",
     "output_type": "stream",
     "text": [
      " 81%|████████████████████████████████████████████████████████▊             | 915/1127 [06:59<01:32,  2.29it/s]"
     ]
    },
    {
     "name": "stdout",
     "output_type": "stream",
     "text": [
      "Transportation Research Procedia has homepage_url and type journal\n"
     ]
    },
    {
     "name": "stderr",
     "output_type": "stream",
     "text": [
      " 81%|████████████████████████████████████████████████████████▉             | 916/1127 [06:59<01:32,  2.28it/s]"
     ]
    },
    {
     "name": "stdout",
     "output_type": "stream",
     "text": [
      "Computation (Basel) has homepage_url and type journal\n"
     ]
    },
    {
     "name": "stderr",
     "output_type": "stream",
     "text": [
      " 82%|█████████████████████████████████████████████████████████▏            | 920/1127 [07:01<01:33,  2.21it/s]"
     ]
    },
    {
     "name": "stdout",
     "output_type": "stream",
     "text": [
      "Atmospheric Environment has homepage_url and type journal\n"
     ]
    },
    {
     "name": "stderr",
     "output_type": "stream",
     "text": [
      " 82%|█████████████████████████████████████████████████████████▏            | 921/1127 [07:02<01:32,  2.22it/s]"
     ]
    },
    {
     "name": "stdout",
     "output_type": "stream",
     "text": [
      "FME Transactions has homepage_url and type journal\n"
     ]
    },
    {
     "name": "stderr",
     "output_type": "stream",
     "text": [
      " 82%|█████████████████████████████████████████████████████████▎            | 922/1127 [07:02<01:33,  2.19it/s]"
     ]
    },
    {
     "name": "stdout",
     "output_type": "stream",
     "text": [
      "Royal Society Open Science has homepage_url and type journal\n"
     ]
    },
    {
     "name": "stderr",
     "output_type": "stream",
     "text": [
      " 82%|█████████████████████████████████████████████████████████▌            | 926/1127 [07:04<01:27,  2.30it/s]"
     ]
    },
    {
     "name": "stdout",
     "output_type": "stream",
     "text": [
      "Journal of Renewable and Sustainable Energy has homepage_url and type journal\n"
     ]
    },
    {
     "name": "stderr",
     "output_type": "stream",
     "text": [
      " 82%|█████████████████████████████████████████████████████████▋            | 928/1127 [07:05<01:32,  2.15it/s]"
     ]
    },
    {
     "name": "stdout",
     "output_type": "stream",
     "text": [
      "Transportation Geotechnics has homepage_url and type journal\n"
     ]
    },
    {
     "name": "stderr",
     "output_type": "stream",
     "text": [
      " 82%|█████████████████████████████████████████████████████████▋            | 929/1127 [07:05<01:30,  2.18it/s]"
     ]
    },
    {
     "name": "stdout",
     "output_type": "stream",
     "text": [
      "Buildings has homepage_url and type journal\n"
     ]
    },
    {
     "name": "stderr",
     "output_type": "stream",
     "text": [
      " 83%|█████████████████████████████████████████████████████████▉            | 932/1127 [07:06<01:27,  2.22it/s]"
     ]
    },
    {
     "name": "stdout",
     "output_type": "stream",
     "text": [
      "Data in Brief has homepage_url and type journal\n"
     ]
    },
    {
     "name": "stderr",
     "output_type": "stream",
     "text": [
      " 83%|█████████████████████████████████████████████████████████▉            | 933/1127 [07:07<01:27,  2.21it/s]"
     ]
    },
    {
     "name": "stdout",
     "output_type": "stream",
     "text": [
      "Journal of Mechanical Science and Technology has homepage_url and type journal\n"
     ]
    },
    {
     "name": "stderr",
     "output_type": "stream",
     "text": [
      " 83%|██████████████████████████████████████████████████████████▏           | 937/1127 [07:09<01:25,  2.23it/s]"
     ]
    },
    {
     "name": "stdout",
     "output_type": "stream",
     "text": [
      "International Journal of Ventilation has homepage_url and type journal\n"
     ]
    },
    {
     "name": "stderr",
     "output_type": "stream",
     "text": [
      " 83%|██████████████████████████████████████████████████████████▎           | 939/1127 [07:10<01:25,  2.20it/s]"
     ]
    },
    {
     "name": "stdout",
     "output_type": "stream",
     "text": [
      "Sustainable Cities and Society has homepage_url and type journal\n"
     ]
    },
    {
     "name": "stderr",
     "output_type": "stream",
     "text": [
      " 83%|██████████████████████████████████████████████████████████▍           | 940/1127 [07:10<01:27,  2.15it/s]"
     ]
    },
    {
     "name": "stdout",
     "output_type": "stream",
     "text": [
      "Jurnal teknologi has homepage_url and type journal\n"
     ]
    },
    {
     "name": "stderr",
     "output_type": "stream",
     "text": [
      " 83%|██████████████████████████████████████████████████████████▍           | 941/1127 [07:10<01:23,  2.23it/s]"
     ]
    },
    {
     "name": "stdout",
     "output_type": "stream",
     "text": [
      "Acta Scientiarum-technology has homepage_url and type journal\n"
     ]
    },
    {
     "name": "stderr",
     "output_type": "stream",
     "text": [
      " 84%|██████████████████████████████████████████████████████████▌           | 943/1127 [07:11<01:25,  2.16it/s]"
     ]
    },
    {
     "name": "stdout",
     "output_type": "stream",
     "text": [
      "Cryogenics has homepage_url and type journal\n"
     ]
    },
    {
     "name": "stderr",
     "output_type": "stream",
     "text": [
      " 84%|██████████████████████████████████████████████████████████▊           | 947/1127 [07:13<01:23,  2.16it/s]"
     ]
    },
    {
     "name": "stdout",
     "output_type": "stream",
     "text": [
      "Underground Space has homepage_url and type journal\n"
     ]
    },
    {
     "name": "stderr",
     "output_type": "stream",
     "text": [
      " 84%|██████████████████████████████████████████████████████████▉           | 948/1127 [07:14<01:23,  2.14it/s]"
     ]
    },
    {
     "name": "stdout",
     "output_type": "stream",
     "text": [
      "Sustainability has homepage_url and type journal\n"
     ]
    },
    {
     "name": "stderr",
     "output_type": "stream",
     "text": [
      " 84%|██████████████████████████████████████████████████████████▉           | 949/1127 [07:14<01:20,  2.21it/s]"
     ]
    },
    {
     "name": "stdout",
     "output_type": "stream",
     "text": [
      "Geomorphology has homepage_url and type journal\n"
     ]
    },
    {
     "name": "stderr",
     "output_type": "stream",
     "text": [
      " 84%|███████████████████████████████████████████████████████████           | 950/1127 [07:15<01:24,  2.09it/s]"
     ]
    },
    {
     "name": "stdout",
     "output_type": "stream",
     "text": [
      "Journal of Civil Engineering and Management has homepage_url and type journal\n"
     ]
    },
    {
     "name": "stderr",
     "output_type": "stream",
     "text": [
      " 84%|███████████████████████████████████████████████████████████           | 951/1127 [07:15<01:21,  2.15it/s]"
     ]
    },
    {
     "name": "stdout",
     "output_type": "stream",
     "text": [
      "Journal of the Global Power and Propulsion Society has homepage_url and type journal\n"
     ]
    },
    {
     "name": "stderr",
     "output_type": "stream",
     "text": [
      " 84%|███████████████████████████████████████████████████████████▏          | 952/1127 [07:16<01:21,  2.15it/s]"
     ]
    },
    {
     "name": "stdout",
     "output_type": "stream",
     "text": [
      "Advances in Structural Engineering has homepage_url and type journal\n"
     ]
    },
    {
     "name": "stderr",
     "output_type": "stream",
     "text": [
      " 85%|███████████████████████████████████████████████████████████▏          | 953/1127 [07:16<01:19,  2.19it/s]"
     ]
    },
    {
     "name": "stdout",
     "output_type": "stream",
     "text": [
      "International Journal of Aeroacoustics has homepage_url and type journal\n"
     ]
    },
    {
     "name": "stderr",
     "output_type": "stream",
     "text": [
      " 85%|███████████████████████████████████████████████████████████▎          | 954/1127 [07:16<01:18,  2.20it/s]"
     ]
    },
    {
     "name": "stdout",
     "output_type": "stream",
     "text": [
      "Advances in Civil Engineering has homepage_url and type journal\n"
     ]
    },
    {
     "name": "stderr",
     "output_type": "stream",
     "text": [
      " 85%|███████████████████████████████████████████████████████████▎          | 955/1127 [07:17<01:18,  2.18it/s]"
     ]
    },
    {
     "name": "stdout",
     "output_type": "stream",
     "text": [
      "Vehicle System Dynamics has homepage_url and type journal\n"
     ]
    },
    {
     "name": "stderr",
     "output_type": "stream",
     "text": [
      " 85%|███████████████████████████████████████████████████████████▍          | 956/1127 [07:17<01:18,  2.18it/s]"
     ]
    },
    {
     "name": "stdout",
     "output_type": "stream",
     "text": [
      "Wind has homepage_url and type journal\n"
     ]
    },
    {
     "name": "stderr",
     "output_type": "stream",
     "text": [
      " 85%|███████████████████████████████████████████████████████████▌          | 959/1127 [07:19<01:16,  2.18it/s]"
     ]
    },
    {
     "name": "stdout",
     "output_type": "stream",
     "text": [
      "Acta Scientiarum Naturalium Universitatis Sunyatseni has homepage_url and type journal\n"
     ]
    },
    {
     "name": "stderr",
     "output_type": "stream",
     "text": [
      " 85%|███████████████████████████████████████████████████████████▋          | 960/1127 [07:19<01:17,  2.17it/s]"
     ]
    },
    {
     "name": "stdout",
     "output_type": "stream",
     "text": [
      "International Journal of Engineering has homepage_url and type journal\n"
     ]
    },
    {
     "name": "stderr",
     "output_type": "stream",
     "text": [
      " 85%|███████████████████████████████████████████████████████████▊          | 962/1127 [07:20<01:17,  2.13it/s]"
     ]
    },
    {
     "name": "stdout",
     "output_type": "stream",
     "text": [
      "International Journal of Renewable Energy Development has homepage_url and type journal\n"
     ]
    },
    {
     "name": "stderr",
     "output_type": "stream",
     "text": [
      " 85%|███████████████████████████████████████████████████████████▊          | 963/1127 [07:21<01:15,  2.16it/s]"
     ]
    },
    {
     "name": "stdout",
     "output_type": "stream",
     "text": [
      "Symmetry has homepage_url and type journal\n"
     ]
    },
    {
     "name": "stderr",
     "output_type": "stream",
     "text": [
      " 86%|███████████████████████████████████████████████████████████▉          | 964/1127 [07:21<01:16,  2.13it/s]"
     ]
    },
    {
     "name": "stdout",
     "output_type": "stream",
     "text": [
      "Theoretical and applied mechanics has homepage_url and type journal\n"
     ]
    },
    {
     "name": "stderr",
     "output_type": "stream",
     "text": [
      " 86%|███████████████████████████████████████████████████████████▉          | 965/1127 [07:21<01:13,  2.20it/s]"
     ]
    },
    {
     "name": "stdout",
     "output_type": "stream",
     "text": [
      "Lecture notes in civil engineering has homepage_url and type book series\n"
     ]
    },
    {
     "name": "stderr",
     "output_type": "stream",
     "text": [
      " 86%|████████████████████████████████████████████████████████████          | 966/1127 [07:22<01:11,  2.26it/s]"
     ]
    },
    {
     "name": "stdout",
     "output_type": "stream",
     "text": [
      "E3S web of conferences has homepage_url and type journal\n"
     ]
    },
    {
     "name": "stderr",
     "output_type": "stream",
     "text": [
      " 86%|████████████████████████████████████████████████████████████          | 967/1127 [07:22<01:10,  2.28it/s]"
     ]
    },
    {
     "name": "stdout",
     "output_type": "stream",
     "text": [
      "SN applied sciences has homepage_url and type journal\n"
     ]
    },
    {
     "name": "stderr",
     "output_type": "stream",
     "text": [
      " 86%|████████████████████████████████████████████████████████████▏         | 969/1127 [07:23<01:11,  2.20it/s]"
     ]
    },
    {
     "name": "stdout",
     "output_type": "stream",
     "text": [
      "Engineering research express has homepage_url and type journal\n"
     ]
    },
    {
     "name": "stderr",
     "output_type": "stream",
     "text": [
      " 86%|████████████████████████████████████████████████████████████▏         | 970/1127 [07:24<01:11,  2.19it/s]"
     ]
    },
    {
     "name": "stdout",
     "output_type": "stream",
     "text": [
      "Wind Energy has homepage_url and type journal\n"
     ]
    },
    {
     "name": "stderr",
     "output_type": "stream",
     "text": [
      " 86%|████████████████████████████████████████████████████████████▎         | 971/1127 [07:24<01:14,  2.10it/s]"
     ]
    },
    {
     "name": "stdout",
     "output_type": "stream",
     "text": [
      "Fire has homepage_url and type journal\n"
     ]
    },
    {
     "name": "stderr",
     "output_type": "stream",
     "text": [
      " 86%|████████████████████████████████████████████████████████████▎         | 972/1127 [07:25<01:21,  1.91it/s]"
     ]
    },
    {
     "name": "stdout",
     "output_type": "stream",
     "text": [
      "Agriculture has homepage_url and type journal\n"
     ]
    },
    {
     "name": "stderr",
     "output_type": "stream",
     "text": [
      " 86%|████████████████████████████████████████████████████████████▍         | 973/1127 [07:25<01:16,  2.01it/s]"
     ]
    },
    {
     "name": "stdout",
     "output_type": "stream",
     "text": [
      "Journal of Building Engineering has homepage_url and type journal\n"
     ]
    },
    {
     "name": "stderr",
     "output_type": "stream",
     "text": [
      " 86%|████████████████████████████████████████████████████████████▍         | 974/1127 [07:26<01:12,  2.10it/s]"
     ]
    },
    {
     "name": "stdout",
     "output_type": "stream",
     "text": [
      "International Journal of Innovation and Applied Studies has homepage_url and type journal\n"
     ]
    },
    {
     "name": "stderr",
     "output_type": "stream",
     "text": [
      " 87%|████████████████████████████████████████████████████████████▌         | 976/1127 [07:27<01:10,  2.14it/s]"
     ]
    },
    {
     "name": "stdout",
     "output_type": "stream",
     "text": [
      "IEEE Antennas and Propagation Magazine has homepage_url and type journal\n"
     ]
    },
    {
     "name": "stderr",
     "output_type": "stream",
     "text": [
      " 87%|████████████████████████████████████████████████████████████▊         | 980/1127 [07:28<01:06,  2.20it/s]"
     ]
    },
    {
     "name": "stdout",
     "output_type": "stream",
     "text": [
      "International Journal of Manufacturing Research has homepage_url and type journal\n"
     ]
    },
    {
     "name": "stderr",
     "output_type": "stream",
     "text": [
      " 87%|████████████████████████████████████████████████████████████▉         | 981/1127 [07:29<01:06,  2.19it/s]"
     ]
    },
    {
     "name": "stdout",
     "output_type": "stream",
     "text": [
      "Journal of highway and transportation research and development has homepage_url and type journal\n"
     ]
    },
    {
     "name": "stderr",
     "output_type": "stream",
     "text": [
      " 88%|█████████████████████████████████████████████████████████████▋        | 993/1127 [07:35<01:06,  2.02it/s]"
     ]
    },
    {
     "name": "stdout",
     "output_type": "stream",
     "text": [
      "International Journal of Micro Air Vehicles has homepage_url and type journal\n"
     ]
    },
    {
     "name": "stderr",
     "output_type": "stream",
     "text": [
      " 89%|█████████████████████████████████████████████████████████████▉        | 998/1127 [07:37<01:00,  2.14it/s]"
     ]
    },
    {
     "name": "stdout",
     "output_type": "stream",
     "text": [
      "Environmental Engineering Science has homepage_url and type journal\n"
     ]
    },
    {
     "name": "stderr",
     "output_type": "stream",
     "text": [
      " 89%|██████████████████████████████████████████████████████████████        | 999/1127 [07:37<00:58,  2.17it/s]"
     ]
    },
    {
     "name": "stdout",
     "output_type": "stream",
     "text": [
      "International Journal of Automotive and Mechanical Engineering has homepage_url and type journal\n"
     ]
    },
    {
     "name": "stderr",
     "output_type": "stream",
     "text": [
      " 89%|█████████████████████████████████████████████████████████████▎       | 1001/1127 [07:38<00:56,  2.24it/s]"
     ]
    },
    {
     "name": "stdout",
     "output_type": "stream",
     "text": [
      "Научный вестник МГТУ ГА has homepage_url and type journal\n"
     ]
    },
    {
     "name": "stderr",
     "output_type": "stream",
     "text": [
      " 89%|█████████████████████████████████████████████████████████████▎       | 1002/1127 [07:39<00:54,  2.28it/s]"
     ]
    },
    {
     "name": "stdout",
     "output_type": "stream",
     "text": [
      "Canadian Acoustics has homepage_url and type journal\n"
     ]
    },
    {
     "name": "stderr",
     "output_type": "stream",
     "text": [
      " 89%|█████████████████████████████████████████████████████████████▍       | 1003/1127 [07:39<00:57,  2.16it/s]"
     ]
    },
    {
     "name": "stdout",
     "output_type": "stream",
     "text": [
      "Engineering review has homepage_url and type journal\n"
     ]
    },
    {
     "name": "stderr",
     "output_type": "stream",
     "text": [
      " 89%|█████████████████████████████████████████████████████████████▌       | 1006/1127 [07:40<00:56,  2.15it/s]"
     ]
    },
    {
     "name": "stdout",
     "output_type": "stream",
     "text": [
      "Journal of ornithology has homepage_url and type journal\n"
     ]
    },
    {
     "name": "stderr",
     "output_type": "stream",
     "text": [
      " 89%|█████████████████████████████████████████████████████████████▋       | 1007/1127 [07:41<00:55,  2.18it/s]"
     ]
    },
    {
     "name": "stdout",
     "output_type": "stream",
     "text": [
      "International Journal of Environmental Research and Public Health has homepage_url and type journal\n"
     ]
    },
    {
     "name": "stderr",
     "output_type": "stream",
     "text": [
      " 89%|█████████████████████████████████████████████████████████████▋       | 1008/1127 [07:41<00:54,  2.18it/s]"
     ]
    },
    {
     "name": "stdout",
     "output_type": "stream",
     "text": [
      "Advances in Bridge Engineering has homepage_url and type journal\n"
     ]
    },
    {
     "name": "stderr",
     "output_type": "stream",
     "text": [
      " 90%|█████████████████████████████████████████████████████████████▊       | 1009/1127 [07:42<00:55,  2.14it/s]"
     ]
    },
    {
     "name": "stdout",
     "output_type": "stream",
     "text": [
      "Jurnal Teknik Mesin has homepage_url and type journal\n"
     ]
    },
    {
     "name": "stderr",
     "output_type": "stream",
     "text": [
      " 91%|██████████████████████████████████████████████████████████████▍      | 1020/1127 [07:47<00:52,  2.04it/s]"
     ]
    },
    {
     "name": "stdout",
     "output_type": "stream",
     "text": [
      "Journal of Environmental Engineering has homepage_url and type journal\n"
     ]
    },
    {
     "name": "stderr",
     "output_type": "stream",
     "text": [
      " 91%|██████████████████████████████████████████████████████████████▌      | 1022/1127 [07:48<00:47,  2.20it/s]"
     ]
    },
    {
     "name": "stdout",
     "output_type": "stream",
     "text": [
      "International Conference of the IEEE Engineering in Medicine and Biology Society has homepage_url and type conference\n"
     ]
    },
    {
     "name": "stderr",
     "output_type": "stream",
     "text": [
      " 91%|██████████████████████████████████████████████████████████████▋      | 1023/1127 [07:48<00:54,  1.92it/s]"
     ]
    },
    {
     "name": "stdout",
     "output_type": "stream",
     "text": [
      "Journal of Basic and Applied Sciences has homepage_url and type journal\n"
     ]
    },
    {
     "name": "stderr",
     "output_type": "stream",
     "text": [
      " 91%|██████████████████████████████████████████████████████████████▋      | 1024/1127 [07:49<00:52,  1.98it/s]"
     ]
    },
    {
     "name": "stdout",
     "output_type": "stream",
     "text": [
      "Free Radical Biology and Medicine has homepage_url and type journal\n"
     ]
    },
    {
     "name": "stderr",
     "output_type": "stream",
     "text": [
      " 91%|██████████████████████████████████████████████████████████████▉      | 1028/1127 [07:51<00:46,  2.13it/s]"
     ]
    },
    {
     "name": "stdout",
     "output_type": "stream",
     "text": [
      "Journal of Building Structures has homepage_url and type journal\n"
     ]
    },
    {
     "name": "stderr",
     "output_type": "stream",
     "text": [
      " 91%|██████████████████████████████████████████████████████████████▉      | 1029/1127 [07:51<00:44,  2.18it/s]"
     ]
    },
    {
     "name": "stdout",
     "output_type": "stream",
     "text": [
      "Journal of Architecture and Civil Engineering has homepage_url and type journal\n"
     ]
    },
    {
     "name": "stderr",
     "output_type": "stream",
     "text": [
      " 93%|████████████████████████████████████████████████████████████████     | 1047/1127 [07:59<00:39,  2.03it/s]"
     ]
    },
    {
     "name": "stdout",
     "output_type": "stream",
     "text": [
      "Journal of Mechanical Engineering has homepage_url and type journal\n"
     ]
    },
    {
     "name": "stderr",
     "output_type": "stream",
     "text": [
      " 93%|████████████████████████████████████████████████████████████████▍    | 1053/1127 [08:02<00:33,  2.20it/s]"
     ]
    },
    {
     "name": "stdout",
     "output_type": "stream",
     "text": [
      "Journal of Yangtze River Scientific Research Institute has homepage_url and type journal\n"
     ]
    },
    {
     "name": "stderr",
     "output_type": "stream",
     "text": [
      " 95%|█████████████████████████████████████████████████████████████████▎   | 1067/1127 [08:09<00:27,  2.20it/s]"
     ]
    },
    {
     "name": "stdout",
     "output_type": "stream",
     "text": [
      "Laboratory Science has homepage_url and type journal\n"
     ]
    },
    {
     "name": "stderr",
     "output_type": "stream",
     "text": [
      " 95%|█████████████████████████████████████████████████████████████████▍   | 1069/1127 [08:10<00:27,  2.08it/s]"
     ]
    },
    {
     "name": "stdout",
     "output_type": "stream",
     "text": [
      "Machine Design and Research has homepage_url and type journal\n"
     ]
    },
    {
     "name": "stderr",
     "output_type": "stream",
     "text": [
      " 95%|█████████████████████████████████████████████████████████████████▊   | 1075/1127 [08:12<00:24,  2.17it/s]"
     ]
    },
    {
     "name": "stdout",
     "output_type": "stream",
     "text": [
      "Acta Polytechnica has homepage_url and type journal\n"
     ]
    },
    {
     "name": "stderr",
     "output_type": "stream",
     "text": [
      " 96%|██████████████████████████████████████████████████████████████████▍  | 1085/1127 [08:17<00:17,  2.34it/s]"
     ]
    },
    {
     "name": "stdout",
     "output_type": "stream",
     "text": [
      "International journal of ambient energy has homepage_url and type journal\n"
     ]
    },
    {
     "name": "stderr",
     "output_type": "stream",
     "text": [
      " 96%|██████████████████████████████████████████████████████████████████▍  | 1086/1127 [08:17<00:17,  2.34it/s]"
     ]
    },
    {
     "name": "stdout",
     "output_type": "stream",
     "text": [
      "JMES: The International Journal of Mechanical Engineering and Sciences has homepage_url and type journal\n"
     ]
    },
    {
     "name": "stderr",
     "output_type": "stream",
     "text": [
      " 96%|██████████████████████████████████████████████████████████████████▌  | 1087/1127 [08:18<00:17,  2.30it/s]"
     ]
    },
    {
     "name": "stdout",
     "output_type": "stream",
     "text": [
      "Journal of Student Research has homepage_url and type journal\n"
     ]
    },
    {
     "name": "stderr",
     "output_type": "stream",
     "text": [
      " 97%|██████████████████████████████████████████████████████████████████▊  | 1091/1127 [08:19<00:16,  2.13it/s]"
     ]
    },
    {
     "name": "stdout",
     "output_type": "stream",
     "text": [
      "The International journal of mechanical engineering education has homepage_url and type journal\n"
     ]
    },
    {
     "name": "stderr",
     "output_type": "stream",
     "text": [
      " 97%|██████████████████████████████████████████████████████████████████▊  | 1092/1127 [08:20<00:16,  2.07it/s]"
     ]
    },
    {
     "name": "stdout",
     "output_type": "stream",
     "text": [
      "Environmental science and engineering has homepage_url and type book series\n"
     ]
    },
    {
     "name": "stderr",
     "output_type": "stream",
     "text": [
      " 97%|██████████████████████████████████████████████████████████████████▉  | 1093/1127 [08:20<00:16,  2.12it/s]"
     ]
    },
    {
     "name": "stdout",
     "output_type": "stream",
     "text": [
      "Lecture notes in networks and systems has homepage_url and type book series\n"
     ]
    },
    {
     "name": "stderr",
     "output_type": "stream",
     "text": [
      " 97%|██████████████████████████████████████████████████████████████████▉  | 1094/1127 [08:21<00:14,  2.20it/s]"
     ]
    },
    {
     "name": "stdout",
     "output_type": "stream",
     "text": [
      "Automatika has homepage_url and type journal\n"
     ]
    },
    {
     "name": "stderr",
     "output_type": "stream",
     "text": [
      " 97%|███████████████████████████████████████████████████████████████████  | 1096/1127 [08:22<00:14,  2.20it/s]"
     ]
    },
    {
     "name": "stdout",
     "output_type": "stream",
     "text": [
      "Budownictwo i Architektura has homepage_url and type journal\n"
     ]
    },
    {
     "name": "stderr",
     "output_type": "stream",
     "text": [
      " 97%|███████████████████████████████████████████████████████████████████▏ | 1097/1127 [08:22<00:13,  2.22it/s]"
     ]
    },
    {
     "name": "stdout",
     "output_type": "stream",
     "text": [
      "The Annals of \"Dunărea de Jos\" University of Galaţi has homepage_url and type journal\n"
     ]
    },
    {
     "name": "stderr",
     "output_type": "stream",
     "text": [
      " 97%|███████████████████████████████████████████████████████████████████▏ | 1098/1127 [08:23<00:12,  2.27it/s]"
     ]
    },
    {
     "name": "stdout",
     "output_type": "stream",
     "text": [
      "International journal of fluid mechanics research has homepage_url and type journal\n"
     ]
    },
    {
     "name": "stderr",
     "output_type": "stream",
     "text": [
      " 98%|███████████████████████████████████████████████████████████████████▎ | 1099/1127 [08:23<00:12,  2.19it/s]"
     ]
    },
    {
     "name": "stdout",
     "output_type": "stream",
     "text": [
      "Sinergi has homepage_url and type journal\n"
     ]
    },
    {
     "name": "stderr",
     "output_type": "stream",
     "text": [
      " 98%|███████████████████████████████████████████████████████████████████▋ | 1105/1127 [08:26<00:09,  2.33it/s]"
     ]
    },
    {
     "name": "stdout",
     "output_type": "stream",
     "text": [
      "Journal of the Institute of Industrial Applications Engineers has homepage_url and type journal\n"
     ]
    },
    {
     "name": "stderr",
     "output_type": "stream",
     "text": [
      " 98%|███████████████████████████████████████████████████████████████████▉ | 1109/1127 [08:27<00:07,  2.28it/s]"
     ]
    },
    {
     "name": "stdout",
     "output_type": "stream",
     "text": [
      "Engineering reports has homepage_url and type journal\n"
     ]
    },
    {
     "name": "stderr",
     "output_type": "stream",
     "text": [
      " 98%|███████████████████████████████████████████████████████████████████▉ | 1110/1127 [08:28<00:08,  2.06it/s]"
     ]
    },
    {
     "name": "stdout",
     "output_type": "stream",
     "text": [
      "Ingeniería has homepage_url and type journal\n"
     ]
    },
    {
     "name": "stderr",
     "output_type": "stream",
     "text": [
      " 99%|████████████████████████████████████████████████████████████████████ | 1111/1127 [08:29<00:07,  2.03it/s]"
     ]
    },
    {
     "name": "stdout",
     "output_type": "stream",
     "text": [
      "Structures has homepage_url and type journal\n"
     ]
    },
    {
     "name": "stderr",
     "output_type": "stream",
     "text": [
      " 99%|████████████████████████████████████████████████████████████████████▏| 1114/1127 [08:30<00:06,  2.11it/s]"
     ]
    },
    {
     "name": "stdout",
     "output_type": "stream",
     "text": [
      "INMATEH-Agricultural Engineering has homepage_url and type journal\n"
     ]
    },
    {
     "name": "stderr",
     "output_type": "stream",
     "text": [
      " 99%|████████████████████████████████████████████████████████████████████▎| 1115/1127 [08:30<00:05,  2.17it/s]"
     ]
    },
    {
     "name": "stdout",
     "output_type": "stream",
     "text": [
      "Indonesian Journal of Electrical Engineering and Computer Science has homepage_url and type journal\n"
     ]
    },
    {
     "name": "stderr",
     "output_type": "stream",
     "text": [
      " 99%|████████████████████████████████████████████████████████████████████▍| 1118/1127 [08:32<00:03,  2.33it/s]"
     ]
    },
    {
     "name": "stdout",
     "output_type": "stream",
     "text": [
      "Indonesian Journal of Innovation Studies has homepage_url and type journal\n"
     ]
    },
    {
     "name": "stderr",
     "output_type": "stream",
     "text": [
      " 99%|████████████████████████████████████████████████████████████████████▌| 1120/1127 [08:32<00:02,  2.40it/s]"
     ]
    },
    {
     "name": "stdout",
     "output_type": "stream",
     "text": [
      "Sustainable Materials and Technologies has homepage_url and type journal\n"
     ]
    },
    {
     "name": "stderr",
     "output_type": "stream",
     "text": [
      " 99%|████████████████████████████████████████████████████████████████████▋| 1121/1127 [08:33<00:02,  2.30it/s]"
     ]
    },
    {
     "name": "stdout",
     "output_type": "stream",
     "text": [
      "Clean energy has homepage_url and type journal\n"
     ]
    },
    {
     "name": "stderr",
     "output_type": "stream",
     "text": [
      "100%|████████████████████████████████████████████████████████████████████▋| 1122/1127 [08:33<00:02,  2.24it/s]"
     ]
    },
    {
     "name": "stdout",
     "output_type": "stream",
     "text": [
      "Machines has homepage_url and type journal\n"
     ]
    },
    {
     "name": "stderr",
     "output_type": "stream",
     "text": [
      "100%|████████████████████████████████████████████████████████████████████▊| 1123/1127 [08:34<00:01,  2.27it/s]"
     ]
    },
    {
     "name": "stdout",
     "output_type": "stream",
     "text": [
      "Japan architectural review has homepage_url and type journal\n"
     ]
    },
    {
     "name": "stderr",
     "output_type": "stream",
     "text": [
      "100%|████████████████████████████████████████████████████████████████████▊| 1124/1127 [08:34<00:01,  2.32it/s]"
     ]
    },
    {
     "name": "stdout",
     "output_type": "stream",
     "text": [
      "Sustainable Energy Technologies and Assessments has homepage_url and type journal\n"
     ]
    },
    {
     "name": "stderr",
     "output_type": "stream",
     "text": [
      "100%|█████████████████████████████████████████████████████████████████████| 1127/1127 [08:36<00:00,  2.18it/s]\n"
     ]
    }
   ],
   "source": [
    "source_page_dict = get_display_page_dict(sources_list)"
   ]
  },
  {
   "cell_type": "code",
   "execution_count": 62,
   "id": "667dce61-7885-424d-84d7-cad4f0173b33",
   "metadata": {},
   "outputs": [],
   "source": [
    "import pickle\n",
    "\n",
    "with open(\"source_page_dict.pkl\", \"wb\") as f:\n",
    "    pickle.dump(source_page_dict, f)"
   ]
  },
  {
   "cell_type": "code",
   "execution_count": 63,
   "id": "f3c2cb7c-22d2-4f86-b2e0-121a53ca6c52",
   "metadata": {},
   "outputs": [],
   "source": [
    "with open(\"source_page_dict.pkl\", \"rb\") as f:\n",
    "    source_dict = pickle.load(f)"
   ]
  },
  {
   "cell_type": "code",
   "execution_count": 64,
   "id": "3283d185-249b-42f9-a086-422320a5c23a",
   "metadata": {},
   "outputs": [],
   "source": [
    "def get_journals_cluster_sort(dc:pd.DataFrame, cl:int):\n",
    "    \"\"\"\n",
    "    restricts the dataframe dc to cluster value cl\n",
    "    and returns the results grouped by source (where\n",
    "    source_type == 'journal') sorted\n",
    "    by the some of probablity descending\n",
    "    \"\"\"\n",
    "    dg = dc[dc['paper_cluster'] == cl].copy()\n",
    "    print(cl)\n",
    "    dv = dg[dg['source_type'] == 'journal'].groupby(['source'])['paper_cluster_score'].sum().to_frame()\n",
    "    dv.sort_values('paper_cluster_score', ascending=False, inplace=True)\n",
    "    dv['journal'] = dv.index\n",
    "    dv['hompage_url'] = dv['journal'].map(source_dict)\n",
    "    kw = centroids[centroids.cluster == cl]['keywords'].iloc[0]\n",
    "    return dv, kw"
   ]
  },
  {
   "cell_type": "code",
   "execution_count": 65,
   "id": "1a68b9ca-3072-4150-9184-5106dfa12e0f",
   "metadata": {},
   "outputs": [
    {
     "name": "stdout",
     "output_type": "stream",
     "text": [
      "2\n"
     ]
    },
    {
     "data": {
      "text/html": [
       "<div>\n",
       "<style scoped>\n",
       "    .dataframe tbody tr th:only-of-type {\n",
       "        vertical-align: middle;\n",
       "    }\n",
       "\n",
       "    .dataframe tbody tr th {\n",
       "        vertical-align: top;\n",
       "    }\n",
       "\n",
       "    .dataframe thead th {\n",
       "        text-align: right;\n",
       "    }\n",
       "</style>\n",
       "<table border=\"1\" class=\"dataframe\">\n",
       "  <thead>\n",
       "    <tr style=\"text-align: right;\">\n",
       "      <th></th>\n",
       "      <th>paper_cluster_score</th>\n",
       "      <th>journal</th>\n",
       "      <th>hompage_url</th>\n",
       "    </tr>\n",
       "    <tr>\n",
       "      <th>source</th>\n",
       "      <th></th>\n",
       "      <th></th>\n",
       "      <th></th>\n",
       "    </tr>\n",
       "  </thead>\n",
       "  <tbody>\n",
       "    <tr>\n",
       "      <th>Proceedings Of The Institution Of Mechanical Engineers, Part G: Journal Of Aerospace Engineering</th>\n",
       "      <td>5.521758</td>\n",
       "      <td>Proceedings Of The Institution Of Mechanical E...</td>\n",
       "      <td>NaN</td>\n",
       "    </tr>\n",
       "    <tr>\n",
       "      <th>Journal of Guidance Control and Dynamics</th>\n",
       "      <td>4.673638</td>\n",
       "      <td>Journal of Guidance Control and Dynamics</td>\n",
       "      <td>None</td>\n",
       "    </tr>\n",
       "    <tr>\n",
       "      <th>Aerospace</th>\n",
       "      <td>4.0</td>\n",
       "      <td>Aerospace</td>\n",
       "      <td>http://ieeexplore.ieee.org/xpl/mostRecentIssue...</td>\n",
       "    </tr>\n",
       "    <tr>\n",
       "      <th>Mathematical Problems in Engineering</th>\n",
       "      <td>4.0</td>\n",
       "      <td>Mathematical Problems in Engineering</td>\n",
       "      <td>https://www.hindawi.com/journals/mpe/</td>\n",
       "    </tr>\n",
       "    <tr>\n",
       "      <th>Proceedings of SPIE</th>\n",
       "      <td>4.0</td>\n",
       "      <td>Proceedings of SPIE</td>\n",
       "      <td>http://spie.org//x1848.xml?WT.svl=mddp2</td>\n",
       "    </tr>\n",
       "  </tbody>\n",
       "</table>\n",
       "</div>"
      ],
      "text/plain": [
       "                                                   paper_cluster_score   \n",
       "source                                                                   \n",
       "Proceedings Of The Institution Of Mechanical En...            5.521758  \\\n",
       "Journal of Guidance Control and Dynamics                      4.673638   \n",
       "Aerospace                                                          4.0   \n",
       "Mathematical Problems in Engineering                               4.0   \n",
       "Proceedings of SPIE                                                4.0   \n",
       "\n",
       "                                                                                              journal   \n",
       "source                                                                                                  \n",
       "Proceedings Of The Institution Of Mechanical En...  Proceedings Of The Institution Of Mechanical E...  \\\n",
       "Journal of Guidance Control and Dynamics                     Journal of Guidance Control and Dynamics   \n",
       "Aerospace                                                                                   Aerospace   \n",
       "Mathematical Problems in Engineering                             Mathematical Problems in Engineering   \n",
       "Proceedings of SPIE                                                               Proceedings of SPIE   \n",
       "\n",
       "                                                                                          hompage_url  \n",
       "source                                                                                                 \n",
       "Proceedings Of The Institution Of Mechanical En...                                                NaN  \n",
       "Journal of Guidance Control and Dynamics                                                         None  \n",
       "Aerospace                                           http://ieeexplore.ieee.org/xpl/mostRecentIssue...  \n",
       "Mathematical Problems in Engineering                            https://www.hindawi.com/journals/mpe/  \n",
       "Proceedings of SPIE                                           http://spie.org//x1848.xml?WT.svl=mddp2  "
      ]
     },
     "execution_count": 65,
     "metadata": {},
     "output_type": "execute_result"
    }
   ],
   "source": [
    "dv, kw = get_journals_cluster_sort(dftriple, 2)\n",
    "dv.head()"
   ]
  },
  {
   "cell_type": "code",
   "execution_count": 66,
   "id": "19f25bbc-b35c-47cb-ad69-8d61263a7cca",
   "metadata": {},
   "outputs": [
    {
     "name": "stderr",
     "output_type": "stream",
     "text": [
      "100%|█████████████████████████████████████████████████████████████████████| 2184/2184 [16:49<00:00,  2.16it/s]\n"
     ]
    }
   ],
   "source": [
    "affils_list = dftriple['display_name'].unique().tolist()\n",
    "type(affils_list), len(affils_list)\n",
    "\n",
    "affil_json = Institutions().filter(display_name = affils_list[1]).get()\n",
    "\n",
    "def get_affil_json(s:str):\n",
    "    \"\"\"\n",
    "    s is an openalex Sources display_name\n",
    "    return that Sources object\n",
    "    \"\"\"\n",
    "    affil_json = Institutions().search_filter(display_name = s).get()\n",
    "    #a = source_json[0]['type']\n",
    "    if \"geo\" in affil_json[0]:\n",
    "       # print(f\"{s} has homepage_url and type {source_json[0]['type']}\")\n",
    "        return affil_json[0][\"geo\"][\"latitude\"], affil_json[0][\"geo\"][\"longitude\"]\n",
    "    else:\n",
    "        return None, None\n",
    "    \n",
    "def get_display_geo_dict(sl:list):\n",
    "    \"\"\"\n",
    "    sl is a list of Institution display_name values\n",
    "    returns the dictionary mapping\n",
    "    display_names with (latitude, longitude) values.\"\"\"\n",
    "    mapping_dict = dict()\n",
    "    for s in tqdm(sl):\n",
    "        try:\n",
    "            mapping_dict[s] = get_affil_json(s)\n",
    "        except:\n",
    "            pass\n",
    "    return mapping_dict\n",
    "\n",
    "affil_geo_dict = get_display_geo_dict(affils_list)\n",
    "\n",
    "\n",
    "import pickle\n",
    "\n",
    "with open(\"affil_geo_dict.pkl\", \"wb\") as f:\n",
    "    pickle.dump(affil_geo_dict, f)"
   ]
  },
  {
   "cell_type": "code",
   "execution_count": 67,
   "id": "240176aa-346d-44c3-be74-c3035648cb90",
   "metadata": {},
   "outputs": [
    {
     "name": "stdout",
     "output_type": "stream",
     "text": [
      "{'id': 'https://openalex.org/C122824865', 'wikidata': 'https://www.wikidata.org/wiki/Q830787', 'display_name': 'Hypersonic speed', 'relevance_score': 11720.203, 'level': 2, 'description': 'speed that is highly supersonic', 'works_count': 24944, 'cited_by_count': 171791, 'summary_stats': {'2yr_mean_citedness': 1.7723240685984625, 'h_index': 127, 'i10_index': 4034}, 'ids': {'openalex': 'https://openalex.org/C122824865', 'wikidata': 'https://www.wikidata.org/wiki/Q830787', 'mag': '122824865', 'wikipedia': 'https://en.wikipedia.org/wiki/Hypersonic%20speed'}, 'image_url': 'https://upload.wikimedia.org/wikipedia/commons/5/55/X-43A_%28Hyper_-_X%29_Mach_7_computational_fluid_dynamic_%28CFD%29.jpg', 'image_thumbnail_url': 'https://upload.wikimedia.org/wikipedia/commons/thumb/5/55/X-43A_%28Hyper_-_X%29_Mach_7_computational_fluid_dynamic_%28CFD%29.jpg/100px-X-43A_%28Hyper_-_X%29_Mach_7_computational_fluid_dynamic_%28CFD%29.jpg', 'international': {'display_name': {'ar': 'هايبر سونيك', 'ast': 'Velocidá hipersónica', 'az': 'Hipersonik', 'ca': 'Velocitat hipersònica', 'ckb': 'خێراییی ھایپەرسۆنیک', 'cs': 'hypersonika', 'cv': 'Гиперсоник хăвăртлăх', 'da': 'Hypersonisk hastighed', 'de': 'Hyperschallgeschwindigkeit', 'en': 'hypersonic speed', 'es': 'Velocidad hipersónica', 'fa': 'ابرصوت', 'fr': 'hypersonique', 'he': 'מהירות שגיא קולית', 'hi': 'हाइपरसॉनिक', 'hu': 'Hiperszonikus áramlás', 'it': 'Regime ipersonico', 'ja': '極超音速輸送機', 'kk': 'Гипердыбыстық жылдамдық', 'kk-arab': 'گىيپەردىبىستىق جىلدامدىق', 'kk-cyrl': 'Гипердыбыстық жылдамдық', 'kk-latn': 'Gïperdıbıstıq jıldamdıq', 'ko': '극초음속', 'mk': 'хиперзвучна брзина', 'nb': 'hypersonisk', 'nl': 'hypersonische snelheid', 'oc': 'Ipersonic', 'pl': 'Prędkość hipersoniczna', 'pt': 'escoamento hipersônico', 'ru': 'Гиперзвуковая скорость', 'sr': 'хиперзвучна брзина', 'sv': 'Hypersonisk', 'ta': 'அதிமீயொலிவேகம்', 'th': 'อัตราเร็วไฮเปอร์โซนิก', 'tr': 'hipersonik', 'uk': 'Гіперзвукова швидкість', 'vi': 'tốc độ siêu vượt âm', 'zh': '高超音速', 'zh-hans': '超高音速', 'zh-hant': '極音速', 'zh-hk': '極音速'}, 'description': {'de': 'Flugkörper mit Geschwindigkeiten oberhalb Mach 5', 'en': 'speed that is highly supersonic', 'mk': 'брзина која е многу над брзината на звукот', 'vi': 'tốc độ cao hơn tốc độ siêu âm'}}, 'ancestors': [{'id': 'https://openalex.org/C146978453', 'wikidata': 'https://www.wikidata.org/wiki/Q3798668', 'display_name': 'Aerospace engineering', 'level': 1}, {'id': 'https://openalex.org/C57879066', 'wikidata': 'https://www.wikidata.org/wiki/Q41217', 'display_name': 'Mechanics', 'level': 1}, {'id': 'https://openalex.org/C97355855', 'wikidata': 'https://www.wikidata.org/wiki/Q11473', 'display_name': 'Thermodynamics', 'level': 1}, {'id': 'https://openalex.org/C127413603', 'wikidata': 'https://www.wikidata.org/wiki/Q11023', 'display_name': 'Engineering', 'level': 0}, {'id': 'https://openalex.org/C121332964', 'wikidata': 'https://www.wikidata.org/wiki/Q413', 'display_name': 'Physics', 'level': 0}], 'related_concepts': [{'id': 'https://openalex.org/C165231844', 'wikidata': None, 'display_name': 'Mach number', 'level': 2, 'score': 20.397974}, {'id': 'https://openalex.org/C205991772', 'wikidata': None, 'display_name': 'Supersonic speed', 'level': 2, 'score': 18.52735}, {'id': 'https://openalex.org/C13393347', 'wikidata': None, 'display_name': 'Aerodynamics', 'level': 2, 'score': 11.917779}, {'id': 'https://openalex.org/C70477161', 'wikidata': None, 'display_name': 'Shock wave', 'level': 2, 'score': 8.762217}, {'id': 'https://openalex.org/C6405472', 'wikidata': None, 'display_name': 'Atmospheric entry', 'level': 2, 'score': 8.719702}, {'id': 'https://openalex.org/C103838597', 'wikidata': None, 'display_name': 'Transonic', 'level': 3, 'score': 8.269845}, {'id': 'https://openalex.org/C90278072', 'wikidata': None, 'display_name': 'Fluid dynamics', 'level': 2, 'score': 7.35413}, {'id': 'https://openalex.org/C200351514', 'wikidata': None, 'display_name': 'Speed of sound', 'level': 2, 'score': 6.778722}, {'id': 'https://openalex.org/C100086909', 'wikidata': None, 'display_name': 'Wind tunnel', 'level': 2, 'score': 6.2826195}, {'id': 'https://openalex.org/C5192115', 'wikidata': None, 'display_name': 'Compressible flow', 'level': 3, 'score': 6.261452}, {'id': 'https://openalex.org/C106125477', 'wikidata': None, 'display_name': 'Space Shuttle', 'level': 2, 'score': 5.002551}, {'id': 'https://openalex.org/C39643299', 'wikidata': None, 'display_name': 'Jet engine', 'level': 2, 'score': 4.883417}, {'id': 'https://openalex.org/C156975606', 'wikidata': None, 'display_name': 'Aerodynamic heating', 'level': 3, 'score': 4.6350317}, {'id': 'https://openalex.org/C198813307', 'wikidata': None, 'display_name': 'Hypersonic flight', 'level': 3, 'score': 4.245739}, {'id': 'https://openalex.org/C2779421825', 'wikidata': None, 'display_name': 'Rocket engine', 'level': 2, 'score': 4.155052}, {'id': 'https://openalex.org/C56200935', 'wikidata': None, 'display_name': 'Nozzle', 'level': 2, 'score': 3.5740657}, {'id': 'https://openalex.org/C47338736', 'wikidata': None, 'display_name': 'Sonic boom', 'level': 3, 'score': 3.1861742}, {'id': 'https://openalex.org/C178978397', 'wikidata': None, 'display_name': 'Supersonic wind tunnel', 'level': 3, 'score': 2.237804}, {'id': 'https://openalex.org/C132373408', 'wikidata': None, 'display_name': 'Oblique shock', 'level': 3, 'score': 1.6977465}, {'id': 'https://openalex.org/C107119854', 'wikidata': None, 'display_name': 'Mach wave', 'level': 3, 'score': 1.5610602}, {'id': 'https://openalex.org/C9761082', 'wikidata': None, 'display_name': 'Space Shuttle thermal protection system', 'level': 3, 'score': 1.407488}, {'id': 'https://openalex.org/C11066151', 'wikidata': None, 'display_name': 'Hypersonic wind tunnel', 'level': 3, 'score': 1.3875284}, {'id': 'https://openalex.org/C122881758', 'wikidata': None, 'display_name': 'Shock tube', 'level': 3, 'score': 1.3420839}, {'id': 'https://openalex.org/C119474132', 'wikidata': None, 'display_name': 'Expansion tunnel', 'level': 3, 'score': 1.2850001}, {'id': 'https://openalex.org/C155991500', 'wikidata': None, 'display_name': 'Bow shock (aerodynamics)', 'level': 3, 'score': 1.1237499}, {'id': 'https://openalex.org/C112040339', 'wikidata': None, 'display_name': 'Light-gas gun', 'level': 3, 'score': 1.0584686}, {'id': 'https://openalex.org/C143683900', 'wikidata': None, 'display_name': 'Supercritical flow', 'level': 3, 'score': 0.91436636}, {'id': 'https://openalex.org/C38569962', 'wikidata': None, 'display_name': 'Total air temperature', 'level': 2, 'score': 0.8472134}], 'counts_by_year': [{'year': 2023, 'works_count': 853, 'cited_by_count': 14184}, {'year': 2022, 'works_count': 888, 'cited_by_count': 15387}, {'year': 2021, 'works_count': 875, 'cited_by_count': 13138}, {'year': 2020, 'works_count': 814, 'cited_by_count': 11494}, {'year': 2019, 'works_count': 954, 'cited_by_count': 11598}, {'year': 2018, 'works_count': 793, 'cited_by_count': 10172}, {'year': 2017, 'works_count': 806, 'cited_by_count': 8346}, {'year': 2016, 'works_count': 674, 'cited_by_count': 7135}, {'year': 2015, 'works_count': 824, 'cited_by_count': 6875}, {'year': 2014, 'works_count': 721, 'cited_by_count': 5822}, {'year': 2013, 'works_count': 805, 'cited_by_count': 5226}, {'year': 2012, 'works_count': 802, 'cited_by_count': 4639}], 'works_api_url': 'https://api.openalex.org/works?filter=concepts.id:C122824865', 'updated_date': '2023-10-08T07:40:11.999112', 'created_date': '2016-06-24'}\n",
      "-------------\n",
      "{'id': 'https://openalex.org/C198813307', 'wikidata': 'https://www.wikidata.org/wiki/Q3523908', 'display_name': 'Hypersonic flight', 'relevance_score': 5827.4165, 'level': 3, 'description': 'flight below 90 kilometres at speeds above Mach 5', 'works_count': 4462, 'cited_by_count': 42470, 'summary_stats': {'2yr_mean_citedness': 1.883495145631068, 'h_index': 82, 'i10_index': 879}, 'ids': {'openalex': 'https://openalex.org/C198813307', 'wikidata': 'https://www.wikidata.org/wiki/Q3523908', 'mag': '198813307', 'wikipedia': 'https://en.wikipedia.org/wiki/Hypersonic%20flight'}, 'image_url': 'https://upload.wikimedia.org/wikipedia/commons/8/84/General_Bernard_A._Schriever_ICBM_Test_Vehicle_USAF_1959.jpg', 'image_thumbnail_url': 'https://upload.wikimedia.org/wikipedia/commons/thumb/8/84/General_Bernard_A._Schriever_ICBM_Test_Vehicle_USAF_1959.jpg/100px-General_Bernard_A._Schriever_ICBM_Test_Vehicle_USAF_1959.jpg', 'international': {'display_name': {'en': 'hypersonic flight', 'hi': 'हाइपरसॉनिक उड़ान', 'ja': '極超音速飛行', 'nn': 'Supersonisk glidefly', 'ru': 'Гиперзвуковой летательный аппарат', 'sr': 'хиперзвучни лет', 'ta': 'மீஉயர் அதிர்வெண் வானூர்தி', 'uk': 'Надзвуковий літак', 'zh': '高超音速飛行試驗'}, 'description': {'en': 'flight below 90 kilometres at speeds above Mach 5', 'ja': '地上90km未満の大気圏における、速度マッハ5超での飛行', 'ru': 'летательный аппарат (ЛА), способный осуществлять полёт в атмосфере с гиперзвуковой скоростью (бо́льшей или равной 5 М)'}}, 'ancestors': [{'id': 'https://openalex.org/C122824865', 'wikidata': 'https://www.wikidata.org/wiki/Q830787', 'display_name': 'Hypersonic speed', 'level': 2}, {'id': 'https://openalex.org/C165231844', 'wikidata': 'https://www.wikidata.org/wiki/Q160669', 'display_name': 'Mach number', 'level': 2}, {'id': 'https://openalex.org/C146978453', 'wikidata': 'https://www.wikidata.org/wiki/Q3798668', 'display_name': 'Aerospace engineering', 'level': 1}, {'id': 'https://openalex.org/C57879066', 'wikidata': 'https://www.wikidata.org/wiki/Q41217', 'display_name': 'Mechanics', 'level': 1}, {'id': 'https://openalex.org/C97355855', 'wikidata': 'https://www.wikidata.org/wiki/Q11473', 'display_name': 'Thermodynamics', 'level': 1}, {'id': 'https://openalex.org/C127413603', 'wikidata': 'https://www.wikidata.org/wiki/Q11023', 'display_name': 'Engineering', 'level': 0}, {'id': 'https://openalex.org/C121332964', 'wikidata': 'https://www.wikidata.org/wiki/Q413', 'display_name': 'Physics', 'level': 0}], 'related_concepts': [{'id': 'https://openalex.org/C122824865', 'wikidata': None, 'display_name': 'Hypersonic speed', 'level': 2, 'score': 4.245739}, {'id': 'https://openalex.org/C56278489', 'wikidata': None, 'display_name': 'Scramjet', 'level': 4, 'score': 3.3724062}, {'id': 'https://openalex.org/C6405472', 'wikidata': None, 'display_name': 'Atmospheric entry', 'level': 2, 'score': 3.2671964}, {'id': 'https://openalex.org/C165231844', 'wikidata': None, 'display_name': 'Mach number', 'level': 2, 'score': 1.7724396}, {'id': 'https://openalex.org/C205991772', 'wikidata': None, 'display_name': 'Supersonic speed', 'level': 2, 'score': 1.748793}, {'id': 'https://openalex.org/C156975606', 'wikidata': None, 'display_name': 'Aerodynamic heating', 'level': 3, 'score': 1.6335101}, {'id': 'https://openalex.org/C103888896', 'wikidata': None, 'display_name': 'Spaceflight', 'level': 2, 'score': 1.5698342}, {'id': 'https://openalex.org/C116575374', 'wikidata': None, 'display_name': 'Ramjet', 'level': 4, 'score': 1.3176656}, {'id': 'https://openalex.org/C29829512', 'wikidata': None, 'display_name': 'Spacecraft', 'level': 2, 'score': 1.2790829}, {'id': 'https://openalex.org/C106125477', 'wikidata': None, 'display_name': 'Space Shuttle', 'level': 2, 'score': 1.1302508}, {'id': 'https://openalex.org/C74248516', 'wikidata': None, 'display_name': 'Outer space', 'level': 3, 'score': 1.0008022}, {'id': 'https://openalex.org/C152798702', 'wikidata': None, 'display_name': 'Atmosphere of Earth', 'level': 3, 'score': 0.9199455}, {'id': 'https://openalex.org/C104060986', 'wikidata': None, 'display_name': 'Space exploration', 'level': 2, 'score': 0.91409415}, {'id': 'https://openalex.org/C2779421825', 'wikidata': None, 'display_name': 'Rocket engine', 'level': 2, 'score': 0.90061235}, {'id': 'https://openalex.org/C121578661', 'wikidata': None, 'display_name': 'Nazi Germany', 'level': 3, 'score': 0.86307245}, {'id': 'https://openalex.org/C183191521', 'wikidata': None, 'display_name': 'Aeronomy', 'level': 3, 'score': 0.84616816}, {'id': 'https://openalex.org/C191935318', 'wikidata': None, 'display_name': 'China', 'level': 2, 'score': 0.8371226}, {'id': 'https://openalex.org/C5192115', 'wikidata': None, 'display_name': 'Compressible flow', 'level': 3, 'score': 0.8253875}, {'id': 'https://openalex.org/C2780631144', 'wikidata': None, 'display_name': 'Takeoff and landing', 'level': 2, 'score': 0.81940925}], 'counts_by_year': [{'year': 2023, 'works_count': 131, 'cited_by_count': 3274}, {'year': 2022, 'works_count': 144, 'cited_by_count': 3638}, {'year': 2021, 'works_count': 157, 'cited_by_count': 3135}, {'year': 2020, 'works_count': 149, 'cited_by_count': 2964}, {'year': 2019, 'works_count': 169, 'cited_by_count': 3111}, {'year': 2018, 'works_count': 158, 'cited_by_count': 2761}, {'year': 2017, 'works_count': 162, 'cited_by_count': 2429}, {'year': 2016, 'works_count': 138, 'cited_by_count': 2011}, {'year': 2015, 'works_count': 156, 'cited_by_count': 1919}, {'year': 2014, 'works_count': 138, 'cited_by_count': 1573}, {'year': 2013, 'works_count': 161, 'cited_by_count': 1392}, {'year': 2012, 'works_count': 145, 'cited_by_count': 1230}], 'works_api_url': 'https://api.openalex.org/works?filter=concepts.id:C198813307', 'updated_date': '2023-10-12T13:55:38.206378', 'created_date': '2016-06-24'}\n",
      "-------------\n",
      "{'id': 'https://openalex.org/C2984849654', 'wikidata': 'https://www.wikidata.org/wiki/Q830787', 'display_name': 'Hypersonic flow', 'relevance_score': 4189.308, 'level': 3, 'description': 'speed that is highly supersonic', 'works_count': 3627, 'cited_by_count': 21949, 'summary_stats': {'2yr_mean_citedness': 1.1027397260273972, 'h_index': 61, 'i10_index': 557}, 'ids': {'openalex': 'https://openalex.org/C2984849654', 'wikidata': 'https://www.wikidata.org/wiki/Q830787', 'mag': '2984849654', 'wikipedia': 'https://en.wikipedia.org/wiki/Hypersonic%20speed'}, 'image_url': 'https://upload.wikimedia.org/wikipedia/commons/5/55/X-43A_%28Hyper_-_X%29_Mach_7_computational_fluid_dynamic_%28CFD%29.jpg', 'image_thumbnail_url': 'https://upload.wikimedia.org/wikipedia/commons/thumb/5/55/X-43A_%28Hyper_-_X%29_Mach_7_computational_fluid_dynamic_%28CFD%29.jpg/100px-X-43A_%28Hyper_-_X%29_Mach_7_computational_fluid_dynamic_%28CFD%29.jpg', 'international': {'display_name': {'ar': 'هايبر سونيك', 'ast': 'Velocidá hipersónica', 'az': 'Hipersonik', 'ca': 'Velocitat hipersònica', 'ckb': 'خێراییی ھایپەرسۆنیک', 'cs': 'hypersonika', 'cv': 'Гиперсоник хăвăртлăх', 'da': 'Hypersonisk hastighed', 'de': 'Hyperschallgeschwindigkeit', 'en': 'hypersonic speed', 'es': 'Velocidad hipersónica', 'fa': 'ابرصوت', 'fr': 'hypersonique', 'he': 'מהירות שגיא קולית', 'hi': 'हाइपरसॉनिक', 'hu': 'Hiperszonikus áramlás', 'it': 'Regime ipersonico', 'ja': '極超音速輸送機', 'kk': 'Гипердыбыстық жылдамдық', 'kk-arab': 'گىيپەردىبىستىق جىلدامدىق', 'kk-cyrl': 'Гипердыбыстық жылдамдық', 'kk-latn': 'Gïperdıbıstıq jıldamdıq', 'ko': '극초음속', 'mk': 'хиперзвучна брзина', 'nb': 'hypersonisk', 'nl': 'hypersonische snelheid', 'oc': 'Ipersonic', 'pl': 'Prędkość hipersoniczna', 'pt': 'escoamento hipersônico', 'ru': 'Гиперзвуковая скорость', 'sr': 'хиперзвучна брзина', 'sv': 'Hypersonisk', 'ta': 'அதிமீயொலிவேகம்', 'th': 'อัตราเร็วไฮเปอร์โซนิก', 'tr': 'hipersonik', 'uk': 'Гіперзвукова швидкість', 'vi': 'tốc độ siêu vượt âm', 'zh': '高超音速', 'zh-hans': '超高音速', 'zh-hant': '極音速', 'zh-hk': '極音速'}, 'description': {'de': 'Flugkörper mit Geschwindigkeiten oberhalb Mach 5', 'en': 'speed that is highly supersonic', 'mk': 'брзина која е многу над брзината на звукот', 'vi': 'tốc độ cao hơn tốc độ siêu âm'}}, 'ancestors': [{'id': 'https://openalex.org/C122824865', 'wikidata': 'https://www.wikidata.org/wiki/Q830787', 'display_name': 'Hypersonic speed', 'level': 2}, {'id': 'https://openalex.org/C165231844', 'wikidata': 'https://www.wikidata.org/wiki/Q160669', 'display_name': 'Mach number', 'level': 2}, {'id': 'https://openalex.org/C146978453', 'wikidata': 'https://www.wikidata.org/wiki/Q3798668', 'display_name': 'Aerospace engineering', 'level': 1}, {'id': 'https://openalex.org/C57879066', 'wikidata': 'https://www.wikidata.org/wiki/Q41217', 'display_name': 'Mechanics', 'level': 1}, {'id': 'https://openalex.org/C97355855', 'wikidata': 'https://www.wikidata.org/wiki/Q11473', 'display_name': 'Thermodynamics', 'level': 1}, {'id': 'https://openalex.org/C127413603', 'wikidata': 'https://www.wikidata.org/wiki/Q11023', 'display_name': 'Engineering', 'level': 0}, {'id': 'https://openalex.org/C121332964', 'wikidata': 'https://www.wikidata.org/wiki/Q413', 'display_name': 'Physics', 'level': 0}], 'related_concepts': [], 'counts_by_year': [{'year': 2023, 'works_count': 45, 'cited_by_count': 1184}, {'year': 2022, 'works_count': 42, 'cited_by_count': 1311}, {'year': 2021, 'works_count': 64, 'cited_by_count': 1161}, {'year': 2020, 'works_count': 84, 'cited_by_count': 986}, {'year': 2019, 'works_count': 121, 'cited_by_count': 1155}, {'year': 2018, 'works_count': 98, 'cited_by_count': 942}, {'year': 2017, 'works_count': 73, 'cited_by_count': 755}, {'year': 2016, 'works_count': 64, 'cited_by_count': 707}, {'year': 2015, 'works_count': 63, 'cited_by_count': 732}, {'year': 2014, 'works_count': 59, 'cited_by_count': 685}, {'year': 2013, 'works_count': 62, 'cited_by_count': 636}, {'year': 2012, 'works_count': 86, 'cited_by_count': 606}], 'works_api_url': 'https://api.openalex.org/works?filter=concepts.id:C2984849654', 'updated_date': '2023-10-12T13:48:18.719528', 'created_date': '2019-11-22'}\n",
      "-------------\n",
      "{'id': 'https://openalex.org/C11066151', 'wikidata': 'https://www.wikidata.org/wiki/Q1641091', 'display_name': 'Hypersonic wind tunnel', 'relevance_score': 3222.0015, 'level': 3, 'description': None, 'works_count': 3624, 'cited_by_count': 18925, 'summary_stats': {'2yr_mean_citedness': 1.1167315175097277, 'h_index': 55, 'i10_index': 441}, 'ids': {'openalex': 'https://openalex.org/C11066151', 'wikidata': 'https://www.wikidata.org/wiki/Q1641091', 'mag': '11066151', 'wikipedia': 'https://en.wikipedia.org/wiki/Hypersonic%20wind%20tunnel'}, 'image_url': 'https://upload.wikimedia.org/wikipedia/commons/d/d9/Langley_hypersonic_wind_tunnels.jpg', 'image_thumbnail_url': 'https://upload.wikimedia.org/wikipedia/commons/thumb/d/d9/Langley_hypersonic_wind_tunnels.jpg/100px-Langley_hypersonic_wind_tunnels.jpg', 'international': {'display_name': {'de': 'Hyperschall-Windkanal', 'en': 'Hypersonic wind tunnel', 'uk': 'Гіперзвукова аеродинамічна труба'}, 'description': {'de': 'Prüfstand für aerodynamische Untersuchungen über Mach 5'}}, 'ancestors': [{'id': 'https://openalex.org/C165231844', 'wikidata': 'https://www.wikidata.org/wiki/Q160669', 'display_name': 'Mach number', 'level': 2}, {'id': 'https://openalex.org/C100086909', 'wikidata': 'https://www.wikidata.org/wiki/Q193010', 'display_name': 'Wind tunnel', 'level': 2}, {'id': 'https://openalex.org/C146978453', 'wikidata': 'https://www.wikidata.org/wiki/Q3798668', 'display_name': 'Aerospace engineering', 'level': 1}, {'id': 'https://openalex.org/C57879066', 'wikidata': 'https://www.wikidata.org/wiki/Q41217', 'display_name': 'Mechanics', 'level': 1}, {'id': 'https://openalex.org/C97355855', 'wikidata': 'https://www.wikidata.org/wiki/Q11473', 'display_name': 'Thermodynamics', 'level': 1}, {'id': 'https://openalex.org/C127413603', 'wikidata': 'https://www.wikidata.org/wiki/Q11023', 'display_name': 'Engineering', 'level': 0}, {'id': 'https://openalex.org/C121332964', 'wikidata': 'https://www.wikidata.org/wiki/Q413', 'display_name': 'Physics', 'level': 0}], 'related_concepts': [{'id': 'https://openalex.org/C100086909', 'wikidata': None, 'display_name': 'Wind tunnel', 'level': 2, 'score': 3.0877895}, {'id': 'https://openalex.org/C178978397', 'wikidata': None, 'display_name': 'Supersonic wind tunnel', 'level': 3, 'score': 2.495216}, {'id': 'https://openalex.org/C122881758', 'wikidata': None, 'display_name': 'Shock tube', 'level': 3, 'score': 1.9196825}, {'id': 'https://openalex.org/C165231844', 'wikidata': None, 'display_name': 'Mach number', 'level': 2, 'score': 1.4668119}, {'id': 'https://openalex.org/C56200935', 'wikidata': None, 'display_name': 'Nozzle', 'level': 2, 'score': 1.4341096}, {'id': 'https://openalex.org/C122824865', 'wikidata': None, 'display_name': 'Hypersonic speed', 'level': 2, 'score': 1.3875284}, {'id': 'https://openalex.org/C119474132', 'wikidata': None, 'display_name': 'Expansion tunnel', 'level': 3, 'score': 1.2419946}, {'id': 'https://openalex.org/C205991772', 'wikidata': None, 'display_name': 'Supersonic speed', 'level': 2, 'score': 1.1744697}, {'id': 'https://openalex.org/C182748727', 'wikidata': None, 'display_name': 'Reynolds number', 'level': 3, 'score': 1.086912}, {'id': 'https://openalex.org/C13393347', 'wikidata': None, 'display_name': 'Aerodynamics', 'level': 2, 'score': 1.0198292}, {'id': 'https://openalex.org/C5192115', 'wikidata': None, 'display_name': 'Compressible flow', 'level': 3, 'score': 0.88529354}, {'id': 'https://openalex.org/C123012627', 'wikidata': None, 'display_name': 'Subsonic and transonic wind tunnel', 'level': 4, 'score': 0.8580271}, {'id': 'https://openalex.org/C75608658', 'wikidata': None, 'display_name': 'Pascal (unit)', 'level': 2, 'score': 0.81231195}, {'id': 'https://openalex.org/C176840316', 'wikidata': None, 'display_name': 'Rocket engine nozzle', 'level': 3, 'score': 0.81160235}], 'counts_by_year': [{'year': 2023, 'works_count': 82, 'cited_by_count': 1412}, {'year': 2022, 'works_count': 138, 'cited_by_count': 1799}, {'year': 2021, 'works_count': 143, 'cited_by_count': 1586}, {'year': 2020, 'works_count': 113, 'cited_by_count': 1399}, {'year': 2019, 'works_count': 139, 'cited_by_count': 1264}, {'year': 2018, 'works_count': 111, 'cited_by_count': 1183}, {'year': 2017, 'works_count': 109, 'cited_by_count': 1063}, {'year': 2016, 'works_count': 91, 'cited_by_count': 904}, {'year': 2015, 'works_count': 86, 'cited_by_count': 835}, {'year': 2014, 'works_count': 110, 'cited_by_count': 742}, {'year': 2013, 'works_count': 163, 'cited_by_count': 646}, {'year': 2012, 'works_count': 138, 'cited_by_count': 540}], 'works_api_url': 'https://api.openalex.org/works?filter=concepts.id:C11066151', 'updated_date': '2023-10-12T13:29:19.293014', 'created_date': '2016-06-24'}\n",
      "-------------\n"
     ]
    }
   ],
   "source": [
    "for qc in hypersonic_concepts:\n",
    "    print(qc)\n",
    "    print(\"-------------\")"
   ]
  },
  {
   "cell_type": "code",
   "execution_count": 70,
   "id": "c8c9241f-199d-4332-a560-870284ff4502",
   "metadata": {},
   "outputs": [],
   "source": [
    "from PIL import Image"
   ]
  },
  {
   "cell_type": "code",
   "execution_count": 69,
   "id": "e1e2b0a7-c1c4-434c-9e58-e323ccb21d5b",
   "metadata": {},
   "outputs": [],
   "source": [
    "import PIL"
   ]
  },
  {
   "cell_type": "code",
   "execution_count": null,
   "id": "ede2cc24-a015-4aae-9c85-1458f59d4ac6",
   "metadata": {},
   "outputs": [],
   "source": []
  }
 ],
 "metadata": {
  "kernelspec": {
   "display_name": "Python 3 (ipykernel)",
   "language": "python",
   "name": "python3"
  },
  "language_info": {
   "codemirror_mode": {
    "name": "ipython",
    "version": 3
   },
   "file_extension": ".py",
   "mimetype": "text/x-python",
   "name": "python",
   "nbconvert_exporter": "python",
   "pygments_lexer": "ipython3",
   "version": "3.10.6"
  }
 },
 "nbformat": 4,
 "nbformat_minor": 5
}
